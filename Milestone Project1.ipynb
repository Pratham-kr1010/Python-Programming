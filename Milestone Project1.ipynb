{
 "cells": [
  {
   "cell_type": "code",
   "execution_count": 1,
   "id": "f4f8e9ee",
   "metadata": {},
   "outputs": [],
   "source": [
    "## Step1:- Creating a board"
   ]
  },
  {
   "cell_type": "markdown",
   "id": "9c06747d",
   "metadata": {},
   "source": [
    "from IPython.display import clear_output\n",
    "def display_board(board):\n",
    "    clear_output()  # Remember, this only works in jupyter!\n",
    "    \n",
    "    print(board[7]+\"|\"+board[8]+\"|\"+board[9])\n",
    "    print(\"-----\")\n",
    "    print(board[4]+\"|\"+board[5]+\"|\"+board[6])\n",
    "    print(\"-----\")\n",
    "    print(board[1]+\"|\"+board[2]+\"|\"+board[3])\n",
    "    "
   ]
  },
  {
   "cell_type": "code",
   "execution_count": 6,
   "id": "76990648",
   "metadata": {},
   "outputs": [],
   "source": [
    "from IPython.display import clear_output\n",
    "\n",
    "def display_board(board):\n",
    "    clear_output()  # Remember, this only works in jupyter!\n",
    "    \n",
    "    print('   |   |')\n",
    "    print(' ' + board[7] + ' | ' + board[8] + ' | ' + board[9])\n",
    "    print('   |   |')\n",
    "    print('-----------')\n",
    "    print('   |   |')\n",
    "    print(' ' + board[4] + ' | ' + board[5] + ' | ' + board[6])\n",
    "    print('   |   |')\n",
    "    print('-----------')\n",
    "    print('   |   |')\n",
    "    print(' ' + board[1] + ' | ' + board[2] + ' | ' + board[3])\n",
    "    print('   |   |')"
   ]
  },
  {
   "cell_type": "code",
   "execution_count": 7,
   "id": "29846cec",
   "metadata": {},
   "outputs": [
    {
     "name": "stdout",
     "output_type": "stream",
     "text": [
      "   |   |\n",
      " X | O | X\n",
      "   |   |\n",
      "-----------\n",
      "   |   |\n",
      " O | X | O\n",
      "   |   |\n",
      "-----------\n",
      "   |   |\n",
      " X | O | X\n",
      "   |   |\n"
     ]
    }
   ],
   "source": [
    "test_board=[\"#\",\"X\",\"O\",\"X\",\"O\",\"X\",\"O\",\"X\",\"O\",\"X\"]\n",
    "display_board(test_board)"
   ]
  },
  {
   "cell_type": "code",
   "execution_count": null,
   "id": "9ac87627",
   "metadata": {},
   "outputs": [],
   "source": []
  },
  {
   "cell_type": "code",
   "execution_count": null,
   "id": "48294489",
   "metadata": {},
   "outputs": [],
   "source": []
  },
  {
   "cell_type": "markdown",
   "id": "147a1f1f",
   "metadata": {},
   "source": [
    "## Step2 :- Choosing the marker for the players"
   ]
  },
  {
   "cell_type": "code",
   "execution_count": 48,
   "id": "a31cd633",
   "metadata": {},
   "outputs": [],
   "source": [
    "def player_input():\n",
    "    marker =''\n",
    "    #player1=\" \"\n",
    "    #player2=\" \"\n",
    "    #Keep asking player 1 to choose X or O\n",
    "    \n",
    "    #while marker != \"X\" or marker O!= \"O\": \n",
    "    while not (marker==\"X\" or marker==\"O\"):\n",
    "        marker = input(\"Player 1, enter your desired marker between (X or O):- \").upper()\n",
    "        \n",
    "        #if marker not in [\"X\",\"O\"]:\n",
    "         #   print (\"Didn't understand, please choose only between (X or O)\")\n",
    "                   \n",
    "\n",
    "    if marker == 'X':\n",
    "        return (\"X\",\"O\")\n",
    "    else:\n",
    "        return (\"O\",\"X\")\n",
    "#    print (player1)\n",
    "#    print (player2)\n",
    "    \n",
    "    #Assign "
   ]
  },
  {
   "cell_type": "code",
   "execution_count": 50,
   "id": "32e6feac",
   "metadata": {},
   "outputs": [
    {
     "name": "stdout",
     "output_type": "stream",
     "text": [
      "Player 1, enter your desired marker between (X or O):- O\n"
     ]
    },
    {
     "data": {
      "text/plain": [
       "('O', 'X')"
      ]
     },
     "execution_count": 50,
     "metadata": {},
     "output_type": "execute_result"
    }
   ],
   "source": [
    "player_input()"
   ]
  },
  {
   "cell_type": "markdown",
   "id": "52c65bb9",
   "metadata": {},
   "source": [
    "def player_input():\n",
    "    marker = ''\n",
    "    \n",
    "    while not (marker == 'X' or marker == 'O'):\n",
    "        marker = input('Player 1: Do you want to be X or O? ').upper()\n",
    "\n",
    "    if marker == 'X':\n",
    "        return ('X', 'O')\n",
    "    else:\n",
    "        return ('O', 'X')"
   ]
  },
  {
   "cell_type": "code",
   "execution_count": 9,
   "id": "99adbfba",
   "metadata": {
    "scrolled": true
   },
   "outputs": [
    {
     "name": "stdout",
     "output_type": "stream",
     "text": [
      "Player 1, enter your desired marker between (X or O):- \n",
      "Player 1, enter your desired marker between (X or O):- \n",
      "Player 1, enter your desired marker between (X or O):- O\n"
     ]
    },
    {
     "data": {
      "text/plain": [
       "('O', 'X')"
      ]
     },
     "execution_count": 9,
     "metadata": {},
     "output_type": "execute_result"
    }
   ],
   "source": [
    "player_input()"
   ]
  },
  {
   "cell_type": "code",
   "execution_count": 10,
   "id": "04bd9e80",
   "metadata": {},
   "outputs": [
    {
     "name": "stdout",
     "output_type": "stream",
     "text": [
      "Player 1, enter your desired marker between (X or O):- X\n"
     ]
    }
   ],
   "source": [
    "Player1_marker,Player2_marker=player_input()"
   ]
  },
  {
   "cell_type": "code",
   "execution_count": 11,
   "id": "7be0e370",
   "metadata": {},
   "outputs": [
    {
     "data": {
      "text/plain": [
       "'X'"
      ]
     },
     "execution_count": 11,
     "metadata": {},
     "output_type": "execute_result"
    }
   ],
   "source": [
    "Player1_marker"
   ]
  },
  {
   "cell_type": "code",
   "execution_count": 12,
   "id": "e0e93d6f",
   "metadata": {},
   "outputs": [
    {
     "data": {
      "text/plain": [
       "'O'"
      ]
     },
     "execution_count": 12,
     "metadata": {},
     "output_type": "execute_result"
    }
   ],
   "source": [
    "Player2_marker"
   ]
  },
  {
   "cell_type": "code",
   "execution_count": 13,
   "id": "b9cf1008",
   "metadata": {},
   "outputs": [
    {
     "name": "stdout",
     "output_type": "stream",
     "text": [
      "O\n"
     ]
    }
   ],
   "source": [
    "print(Player2_marker)"
   ]
  },
  {
   "cell_type": "code",
   "execution_count": null,
   "id": "1dc99c91",
   "metadata": {},
   "outputs": [],
   "source": []
  },
  {
   "cell_type": "code",
   "execution_count": null,
   "id": "2a1f3f5e",
   "metadata": {},
   "outputs": [],
   "source": []
  },
  {
   "cell_type": "markdown",
   "id": "8ff9a6aa",
   "metadata": {},
   "source": [
    "Step 3 :- func that takes in the board list object, a desired position from number (1 to 9) for a marker (\"X\" or \"O\") and assigns it to the board."
   ]
  },
  {
   "cell_type": "code",
   "execution_count": 51,
   "id": "36120eef",
   "metadata": {},
   "outputs": [],
   "source": [
    "def place_marker(board,marker,position):\n",
    "    board[position] = marker"
   ]
  },
  {
   "cell_type": "code",
   "execution_count": 52,
   "id": "74e2cce5",
   "metadata": {},
   "outputs": [],
   "source": [
    "place_marker(test_board,\"&\",8)"
   ]
  },
  {
   "cell_type": "code",
   "execution_count": 53,
   "id": "cf250350",
   "metadata": {},
   "outputs": [
    {
     "name": "stdout",
     "output_type": "stream",
     "text": [
      "   |   |\n",
      " X | & | O\n",
      "   |   |\n",
      "-----------\n",
      "   |   |\n",
      " O | X | O\n",
      "   |   |\n",
      "-----------\n",
      "   |   |\n",
      " X | O | X\n",
      "   |   |\n"
     ]
    }
   ],
   "source": [
    "display_board(test_board)"
   ]
  },
  {
   "cell_type": "code",
   "execution_count": null,
   "id": "0253ee9e",
   "metadata": {},
   "outputs": [],
   "source": []
  },
  {
   "cell_type": "code",
   "execution_count": null,
   "id": "bebe0992",
   "metadata": {},
   "outputs": [],
   "source": []
  },
  {
   "cell_type": "code",
   "execution_count": 16,
   "id": "a05d71a6",
   "metadata": {},
   "outputs": [
    {
     "data": {
      "text/plain": [
       "['#', 'X', 'O', 'X', 'O', 'X', 'O', 'X', '&', 'X']"
      ]
     },
     "execution_count": 16,
     "metadata": {},
     "output_type": "execute_result"
    }
   ],
   "source": [
    "test_board"
   ]
  },
  {
   "cell_type": "code",
   "execution_count": 17,
   "id": "b7a98a8e",
   "metadata": {},
   "outputs": [
    {
     "name": "stdout",
     "output_type": "stream",
     "text": [
      "   |   |\n",
      " X | & | X\n",
      "   |   |\n",
      "-----------\n",
      "   |   |\n",
      " O | X | O\n",
      "   |   |\n",
      "-----------\n",
      "   |   |\n",
      " X | O | X\n",
      "   |   |\n"
     ]
    }
   ],
   "source": [
    "display_board(test_board)\n",
    "place_marker(test_board,'$',8)\n"
   ]
  },
  {
   "cell_type": "code",
   "execution_count": 18,
   "id": "2b089783",
   "metadata": {},
   "outputs": [
    {
     "name": "stdout",
     "output_type": "stream",
     "text": [
      "   |   |\n",
      " X | $ | X\n",
      "   |   |\n",
      "-----------\n",
      "   |   |\n",
      " O | X | O\n",
      "   |   |\n",
      "-----------\n",
      "   |   |\n",
      " X | O | X\n",
      "   |   |\n"
     ]
    }
   ],
   "source": [
    "display_board(test_board)"
   ]
  },
  {
   "cell_type": "code",
   "execution_count": 19,
   "id": "b23f2138",
   "metadata": {},
   "outputs": [],
   "source": [
    "place_marker(test_board,\"O\",9)"
   ]
  },
  {
   "cell_type": "code",
   "execution_count": 20,
   "id": "71fdf013",
   "metadata": {},
   "outputs": [
    {
     "name": "stdout",
     "output_type": "stream",
     "text": [
      "   |   |\n",
      " X | $ | O\n",
      "   |   |\n",
      "-----------\n",
      "   |   |\n",
      " O | X | O\n",
      "   |   |\n",
      "-----------\n",
      "   |   |\n",
      " X | O | X\n",
      "   |   |\n"
     ]
    }
   ],
   "source": [
    "display_board(test_board)"
   ]
  },
  {
   "cell_type": "code",
   "execution_count": null,
   "id": "f2db69ba",
   "metadata": {},
   "outputs": [],
   "source": []
  },
  {
   "cell_type": "code",
   "execution_count": null,
   "id": "050fa55b",
   "metadata": {},
   "outputs": [],
   "source": []
  },
  {
   "cell_type": "markdown",
   "id": "b5440ba3",
   "metadata": {},
   "source": [
    "Step 4:- to match the horizonatal, vertical or diagonals as tic tac toe"
   ]
  },
  {
   "cell_type": "code",
   "execution_count": 21,
   "id": "a6ec712b",
   "metadata": {},
   "outputs": [],
   "source": [
    "def win_check(board,mark):\n",
    "    # WIN TIC TAC TOE?\n",
    "    \n",
    "    #All rows, check if all they share the same marker\n",
    "    return((board[1] == board[2] == board[3] == mark) or (board[4] == board[5] == board[6]== mark) or (board[7] == board[8] == board[9]== mark) or\n",
    "    #All columns, check if all they share the same column\n",
    "    (board[7] == board[4] == board[1] == mark) or (board[8] == board[5] == board[2] == mark) or (board[9] == board[6] == board[3] == mark) or\n",
    "    # 2 Diagonals to check to see if they are matching or not\n",
    "    (board[1]==board[5]==board[9] == mark) or (board[7]==board[5]==board[3] == mark))"
   ]
  },
  {
   "cell_type": "markdown",
   "id": "b6e43ea2",
   "metadata": {},
   "source": [
    "def win_check(board,mark):\n",
    "    \n",
    "    return ((board[7] == mark and board[8] == mark and board[9] == mark) or # across the top\n",
    "    (board[4] == mark and board[5] == mark and board[6] == mark) or # across the middle\n",
    "    (board[1] == mark and board[2] == mark and board[3] == mark) or # across the bottom\n",
    "    (board[7] == mark and board[4] == mark and board[1] == mark) or # down the middle\n",
    "    (board[8] == mark and board[5] == mark and board[2] == mark) or # down the middle\n",
    "    (board[9] == mark and board[6] == mark and board[3] == mark) or # down the right side\n",
    "    (board[7] == mark and board[5] == mark and board[3] == mark) or # diagonal\n",
    "    (board[9] == mark and board[5] == mark and board[1] == mark)) # diagonal"
   ]
  },
  {
   "cell_type": "code",
   "execution_count": 195,
   "id": "abc25ef7",
   "metadata": {},
   "outputs": [
    {
     "name": "stdout",
     "output_type": "stream",
     "text": [
      "   |   |\n",
      " X | $ | O\n",
      "   |   |\n",
      "-----------\n",
      "   |   |\n",
      " O | X | O\n",
      "   |   |\n",
      "-----------\n",
      "   |   |\n",
      " X | O | O\n",
      "   |   |\n"
     ]
    },
    {
     "data": {
      "text/plain": [
       "True"
      ]
     },
     "execution_count": 195,
     "metadata": {},
     "output_type": "execute_result"
    }
   ],
   "source": [
    "display_board(test_board)\n",
    "win_check(test_board,\"O\")"
   ]
  },
  {
   "cell_type": "code",
   "execution_count": null,
   "id": "d08ef2de",
   "metadata": {},
   "outputs": [],
   "source": []
  },
  {
   "cell_type": "code",
   "execution_count": null,
   "id": "3c8cf51d",
   "metadata": {},
   "outputs": [],
   "source": []
  },
  {
   "cell_type": "markdown",
   "id": "af2c250d",
   "metadata": {},
   "source": [
    "Step 5:-"
   ]
  },
  {
   "cell_type": "markdown",
   "id": "b89a9cdc",
   "metadata": {},
   "source": [
    "a function that uses the random module to randomly decide which player goes first. You may want to lookup random.randint() Return a string of which player went first"
   ]
  },
  {
   "cell_type": "code",
   "execution_count": 22,
   "id": "bfd21cc0",
   "metadata": {},
   "outputs": [],
   "source": [
    "import random\n",
    "\n",
    "def choose_first():\n",
    "    flip = random.randint(0,1)\n",
    "    \n",
    "    if flip == 0:\n",
    "        return \"Player1\"\n",
    "    else:\n",
    "        return \"Player2\""
   ]
  },
  {
   "cell_type": "code",
   "execution_count": 197,
   "id": "ef3cde48",
   "metadata": {},
   "outputs": [
    {
     "data": {
      "text/plain": [
       "'Player1'"
      ]
     },
     "execution_count": 197,
     "metadata": {},
     "output_type": "execute_result"
    }
   ],
   "source": [
    "choose_first()"
   ]
  },
  {
   "cell_type": "code",
   "execution_count": null,
   "id": "4de9acca",
   "metadata": {},
   "outputs": [],
   "source": []
  },
  {
   "cell_type": "code",
   "execution_count": null,
   "id": "94d61cfa",
   "metadata": {},
   "outputs": [],
   "source": []
  },
  {
   "cell_type": "markdown",
   "id": "f10d44da",
   "metadata": {},
   "source": [
    "Step 6:- a boolean which tells whether a place in the board is freely available or not"
   ]
  },
  {
   "cell_type": "code",
   "execution_count": 23,
   "id": "4dcc6603",
   "metadata": {},
   "outputs": [],
   "source": [
    "def space_check(board,position):\n",
    "    \n",
    "    \n",
    "    return board[position] == \" \""
   ]
  },
  {
   "cell_type": "code",
   "execution_count": null,
   "id": "e2dc17ea",
   "metadata": {},
   "outputs": [],
   "source": []
  },
  {
   "cell_type": "code",
   "execution_count": null,
   "id": "672841a9",
   "metadata": {},
   "outputs": [],
   "source": []
  },
  {
   "cell_type": "markdown",
   "id": "89e49f08",
   "metadata": {},
   "source": [
    "Step 7:- func which checks if the board is full or not and returns True if full otherwise False"
   ]
  },
  {
   "cell_type": "code",
   "execution_count": 24,
   "id": "c3fb4fe3",
   "metadata": {},
   "outputs": [],
   "source": [
    "def full_board(board):\n",
    "    #for i in range(1,10):\n",
    "        #return (False if space_check(board,i) else True)\n",
    "    \n",
    "    #Board is Full is We Return True\n",
    "    for i in range(1,10):\n",
    "        if space_check(board,i):\n",
    "            return False\n",
    "    return True\n",
    "    "
   ]
  },
  {
   "cell_type": "code",
   "execution_count": null,
   "id": "0de68f0d",
   "metadata": {},
   "outputs": [],
   "source": []
  },
  {
   "cell_type": "code",
   "execution_count": null,
   "id": "95995065",
   "metadata": {},
   "outputs": [],
   "source": []
  },
  {
   "cell_type": "markdown",
   "id": "441434dd",
   "metadata": {},
   "source": [
    "Step 8:- write a func which asks for a player's next position(as a number 1-9) and then uses the function from step 6 to check if the position is free or not. If it is, then return the position for later use."
   ]
  },
  {
   "cell_type": "code",
   "execution_count": 25,
   "id": "9e0ca980",
   "metadata": {},
   "outputs": [],
   "source": [
    "def player_choice(board):\n",
    "    \n",
    "    position = 0\n",
    "    \n",
    "    while position not in [1,2,3,4,5,6,7,8,9] or not space_check(board, position):\n",
    "        position = int(input(\"Choose a position in between (1-9):- \"))\n",
    "        \n",
    "        \n",
    "    return position"
   ]
  },
  {
   "cell_type": "code",
   "execution_count": null,
   "id": "263c69ec",
   "metadata": {},
   "outputs": [],
   "source": []
  },
  {
   "cell_type": "code",
   "execution_count": null,
   "id": "3b1c716c",
   "metadata": {},
   "outputs": [],
   "source": []
  },
  {
   "cell_type": "markdown",
   "id": "a0dc680c",
   "metadata": {},
   "source": [
    "Step 9:- Write a programme to ask if player wants to play more or not. If yes then return a boolean vaue as True of they wanna play again"
   ]
  },
  {
   "cell_type": "code",
   "execution_count": 58,
   "id": "e2b8db38",
   "metadata": {},
   "outputs": [],
   "source": [
    "def replay():\n",
    "    choice = input(\"Play again? Enter Yes or No:- \").capitalize()\n",
    "    \n",
    "    \n",
    "    return (choice == \"Yes\")"
   ]
  },
  {
   "cell_type": "code",
   "execution_count": null,
   "id": "59f55dda",
   "metadata": {},
   "outputs": [],
   "source": []
  },
  {
   "cell_type": "code",
   "execution_count": null,
   "id": "1d7d2ca1",
   "metadata": {},
   "outputs": [],
   "source": []
  },
  {
   "cell_type": "markdown",
   "id": "0e0f6af4",
   "metadata": {},
   "source": [
    "Step 10:- Hard Part!!! Using of loops and the function you've made to run the game!"
   ]
  },
  {
   "cell_type": "code",
   "execution_count": 60,
   "id": "d2c2ca5f",
   "metadata": {},
   "outputs": [
    {
     "name": "stdout",
     "output_type": "stream",
     "text": [
      "Welcome to the TIC TAC TOE\n",
      "Player 1, enter your desired marker between (X or O):- O\n",
      "Player2 will go first.\n",
      "Ready to Play? (Yes or No)N\n",
      "Play again? Enter Yes or No:- N\n"
     ]
    }
   ],
   "source": [
    "#while loop to keep runing the game\n",
    "print (\"Welcome to the TIC TAC TOE\")\n",
    "\n",
    "while True:\n",
    "    #replay=True\n",
    "    #Play the Game \n",
    "    #game_on=\" \"\n",
    "    \n",
    "    \n",
    "    ## Set the everything up (Board< Who's First< Choice of marker)\n",
    "    the_board=[\" \"]*10\n",
    "    player1_marker,player2_marker = player_input()\n",
    "    \n",
    "    turn = choose_first()\n",
    "    print (turn +\" will go first.\")\n",
    "    \n",
    "    play_game = input(\"Ready to Play? (Yes or No)\")\n",
    "    \n",
    "    if play_game.lower()[0] == \"y\":\n",
    "        game_on = True\n",
    "    else:\n",
    "        game_on = False\n",
    "    ##Game Play\n",
    "    \n",
    "    while game_on:\n",
    "        print(turn)\n",
    "        if turn == \"Player 1\":\n",
    "        #Player    \n",
    "            \n",
    "            display_board(the_board)  #show the board(1)\n",
    "            position = player_choice(the_board)  #choose a position(1)\n",
    "            place_marker(the_board,player1_marker,position)  #place the marker on the position(1)\n",
    "            \n",
    "            if win_check(the_board,player1_marker): #step 4   #check if they won(1)\n",
    "                display_board(the_board)\n",
    "                print (\"Player1  has won\")\n",
    "                game_on = False\n",
    "                \n",
    "            else:\n",
    "                if full_board(the_board):      #or check if they tie(1)\n",
    "                    display_board(the_board)\n",
    "                    print(\"Tie Game!!!\")\n",
    "                    break\n",
    "                else:\n",
    "                    turn = \"Player 2\"     #No tie and no win? then next player's turn(1)\n",
    "            \n",
    "         ##Player's turn 2\n",
    "        else:\n",
    "            #if turn == \"Player 2\":\n",
    "                #Player\n",
    "            display_board(the_board)  #show the board(2)\n",
    "            position = player_choice(the_board) #choose a position(2)\n",
    "            place_marker(the_board,player2_marker,position) #place the marker on the position(2)\n",
    "                \n",
    "                \n",
    "            if win_check(the_board,player2_marker): #step 4   #check if they won(2)\n",
    "                display_board(the_board)\n",
    "                print (\"Player2  has won\")\n",
    "                game_on = False\n",
    "            else:\n",
    "                if full_board(the_board):    #or check if they tie(2)\n",
    "                    display_board(the_board)\n",
    "                    print(\"Tie Game!!!\")\n",
    "                    break\n",
    "                            \n",
    "                else:\n",
    "                    turn = \"Player 1\"         #No tie and no win? then next player's turn(2)\n",
    "    if not replay():\n",
    "        break  #break out of the while loop on replay"
   ]
  },
  {
   "cell_type": "markdown",
   "id": "149eef0c",
   "metadata": {},
   "source": [
    "print('Welcome to Tic Tac Toe!')\n",
    "\n",
    "while True:\n",
    "    # Reset the board\n",
    "    theBoard = [' '] * 10\n",
    "    player1_marker, player2_marker = player_input()\n",
    "    turn = choose_first()\n",
    "    print(turn + ' will go first.')\n",
    "    \n",
    "    play_game = input('Are you ready to play? Enter Yes or No.')\n",
    "    \n",
    "    if play_game.lower()[0] == 'y':\n",
    "        game_on = True\n",
    "    else:\n",
    "        game_on = False\n",
    "        \n",
    "        \n",
    " \n",
    "\n",
    "    while game_on:\n",
    "        print(turn)\n",
    "        if turn == 'Player 1':\n",
    "            # Player1's turn.\n",
    "            \n",
    "            display_board(theBoard)\n",
    "            position = player_choice(theBoard)\n",
    "            place_marker(theBoard, player1_marker, position) #Step 3\n",
    "\n",
    "            if win_check(theBoard, player1_marker):\n",
    "                display_board(theBoard)\n",
    "                print('Player1 has won!')\n",
    "                game_on = False\n",
    "            else:\n",
    "                if full_board(theBoard):\n",
    "                    display_board(theBoard)\n",
    "                    print('The game is a draw!')\n",
    "                    break\n",
    "                else:\n",
    "                    turn = 'Player 2'\n",
    "\n",
    "        else:\n",
    "            # Player2's turn.\n",
    "            \n",
    "            display_board(theBoard)\n",
    "            position = player_choice(theBoard)\n",
    "            place_marker(theBoard, player2_marker, position) #step 3\n",
    "\n",
    "            if win_check(theBoard, player2_marker):\n",
    "                display_board(theBoard)\n",
    "                print('Player 2 has won!')\n",
    "                game_on = False\n",
    "            else:\n",
    "                if full_board(theBoard):\n",
    "                    display_board(theBoard)\n",
    "                    print('The game is a draw!')\n",
    "                    break\n",
    "                else:\n",
    "                    turn = 'Player 1'\n",
    "\n",
    "    if not replay():\n",
    "        break"
   ]
  },
  {
   "cell_type": "code",
   "execution_count": null,
   "id": "9916a758",
   "metadata": {},
   "outputs": [],
   "source": []
  },
  {
   "cell_type": "code",
   "execution_count": null,
   "id": "59386294",
   "metadata": {},
   "outputs": [],
   "source": []
  },
  {
   "cell_type": "code",
   "execution_count": null,
   "id": "561a9078",
   "metadata": {},
   "outputs": [],
   "source": []
  },
  {
   "cell_type": "code",
   "execution_count": null,
   "id": "6d35a3cc",
   "metadata": {},
   "outputs": [],
   "source": []
  },
  {
   "cell_type": "code",
   "execution_count": null,
   "id": "cb7ff71b",
   "metadata": {},
   "outputs": [],
   "source": []
  },
  {
   "cell_type": "code",
   "execution_count": null,
   "id": "21631282",
   "metadata": {},
   "outputs": [],
   "source": []
  },
  {
   "cell_type": "code",
   "execution_count": null,
   "id": "93c0eb43",
   "metadata": {},
   "outputs": [],
   "source": []
  },
  {
   "cell_type": "code",
   "execution_count": null,
   "id": "28f54df6",
   "metadata": {},
   "outputs": [],
   "source": []
  },
  {
   "cell_type": "code",
   "execution_count": null,
   "id": "86fb70d0",
   "metadata": {},
   "outputs": [],
   "source": []
  },
  {
   "cell_type": "code",
   "execution_count": null,
   "id": "6176e548",
   "metadata": {},
   "outputs": [],
   "source": []
  },
  {
   "cell_type": "code",
   "execution_count": null,
   "id": "cd280233",
   "metadata": {},
   "outputs": [],
   "source": []
  },
  {
   "cell_type": "code",
   "execution_count": null,
   "id": "2efe3b49",
   "metadata": {},
   "outputs": [],
   "source": []
  },
  {
   "cell_type": "code",
   "execution_count": null,
   "id": "d09a9a8a",
   "metadata": {},
   "outputs": [],
   "source": []
  },
  {
   "cell_type": "code",
   "execution_count": null,
   "id": "f394904a",
   "metadata": {},
   "outputs": [],
   "source": []
  },
  {
   "cell_type": "code",
   "execution_count": null,
   "id": "226d72c1",
   "metadata": {},
   "outputs": [],
   "source": []
  },
  {
   "cell_type": "code",
   "execution_count": null,
   "id": "0ee5db46",
   "metadata": {},
   "outputs": [],
   "source": []
  },
  {
   "cell_type": "code",
   "execution_count": null,
   "id": "1835a8ba",
   "metadata": {},
   "outputs": [],
   "source": []
  },
  {
   "cell_type": "code",
   "execution_count": null,
   "id": "1612f60c",
   "metadata": {},
   "outputs": [],
   "source": []
  },
  {
   "cell_type": "code",
   "execution_count": null,
   "id": "5715c810",
   "metadata": {},
   "outputs": [],
   "source": []
  },
  {
   "cell_type": "code",
   "execution_count": null,
   "id": "45031a54",
   "metadata": {},
   "outputs": [],
   "source": []
  },
  {
   "cell_type": "code",
   "execution_count": null,
   "id": "5d9a634a",
   "metadata": {},
   "outputs": [],
   "source": []
  },
  {
   "cell_type": "code",
   "execution_count": null,
   "id": "df276268",
   "metadata": {},
   "outputs": [],
   "source": []
  },
  {
   "cell_type": "code",
   "execution_count": null,
   "id": "875af7bd",
   "metadata": {},
   "outputs": [],
   "source": []
  },
  {
   "cell_type": "code",
   "execution_count": null,
   "id": "91e34364",
   "metadata": {},
   "outputs": [],
   "source": []
  },
  {
   "cell_type": "code",
   "execution_count": null,
   "id": "f792444f",
   "metadata": {},
   "outputs": [],
   "source": []
  }
 ],
 "metadata": {
  "kernelspec": {
   "display_name": "Python 3 (ipykernel)",
   "language": "python",
   "name": "python3"
  },
  "language_info": {
   "codemirror_mode": {
    "name": "ipython",
    "version": 3
   },
   "file_extension": ".py",
   "mimetype": "text/x-python",
   "name": "python",
   "nbconvert_exporter": "python",
   "pygments_lexer": "ipython3",
   "version": "3.11.5"
  }
 },
 "nbformat": 4,
 "nbformat_minor": 5
}
