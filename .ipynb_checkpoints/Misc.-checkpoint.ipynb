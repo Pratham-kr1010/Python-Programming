{
 "cells": [
  {
   "cell_type": "code",
   "execution_count": 44,
   "id": "4d7845a9",
   "metadata": {},
   "outputs": [
    {
     "name": "stdout",
     "output_type": "stream",
     "text": [
      "Enter Your value:- 5\n",
      "78.5398 is the area of a cirle\n"
     ]
    }
   ],
   "source": [
    "import math\n",
    "radii = input(\"Enter Your value:- \")\n",
    "radii = int(radii)\n",
    "if type(radii) == int:\n",
    "    x= (math.pi*radii**2)\n",
    "    print (f\"{round(x,4)} is the area of a cirle\")\n",
    "else:\n",
    "    print (\"Invalid input\")"
   ]
  },
  {
   "cell_type": "code",
   "execution_count": 20,
   "id": "e36b851b",
   "metadata": {},
   "outputs": [
    {
     "name": "stdout",
     "output_type": "stream",
     "text": [
      "Enter the Principle Amount:- 30000\n",
      "Enter the Rate of interest:- 12\n",
      "Enter the Time:- 5\n"
     ]
    }
   ],
   "source": [
    "P = int(input(\"Enter the Principle Amount:- \"))\n",
    "R = int(input(\"Enter the Rate of interest:- \"))\n",
    "T = int(input(\"Enter the Time:- \"))\n",
    "def si_amt():\n",
    "    print (f'{P*R*T/100+P} is the SI+P amount')\n",
    "def ci_amt():\n",
    "    print (f\"{P*(1+R*0.01)**T} is the CI+P amount\")\n"
   ]
  },
  {
   "cell_type": "code",
   "execution_count": 21,
   "id": "175a29c7",
   "metadata": {},
   "outputs": [
    {
     "name": "stdout",
     "output_type": "stream",
     "text": [
      "48000.0 is the SI+P amount\n"
     ]
    }
   ],
   "source": [
    "si_amt()"
   ]
  },
  {
   "cell_type": "code",
   "execution_count": 22,
   "id": "aa1bf4d6",
   "metadata": {},
   "outputs": [
    {
     "name": "stdout",
     "output_type": "stream",
     "text": [
      "52870.25049600002 is the CI+P amount\n"
     ]
    }
   ],
   "source": [
    "ci_amt()"
   ]
  },
  {
   "cell_type": "code",
   "execution_count": null,
   "id": "57d1293b",
   "metadata": {},
   "outputs": [],
   "source": []
  },
  {
   "cell_type": "code",
   "execution_count": 38,
   "id": "2902ebc0",
   "metadata": {},
   "outputs": [
    {
     "name": "stdout",
     "output_type": "stream",
     "text": [
      "Enter your Year value:- 100\n",
      "25 has leap years.\n"
     ]
    }
   ],
   "source": [
    "given_yr = int(input(\"Enter your Year value:- \"))\n",
    "def no_leap_year(given_yr):\n",
    "    if given_yr%4==0:\n",
    "        x = int(given_yr/4)\n",
    "        print (f\"{x} has leap years.\")\n",
    "no_leap_year(given_yr)"
   ]
  },
  {
   "cell_type": "code",
   "execution_count": null,
   "id": "9b887952",
   "metadata": {},
   "outputs": [],
   "source": [
    "given_yr = int(input(\"Enter your Year value:- \"))\n",
    "def no_leap_year(given_yr):\n",
    "    if given_yr%4==0:\n",
    "        if given_yr%400==0\n",
    "        x = int(given_yr/4)\n",
    "        print (f\"{x} has leap years.\")\n",
    "no_leap_year(given_yr)"
   ]
  }
 ],
 "metadata": {
  "kernelspec": {
   "display_name": "Python 3 (ipykernel)",
   "language": "python",
   "name": "python3"
  },
  "language_info": {
   "codemirror_mode": {
    "name": "ipython",
    "version": 3
   },
   "file_extension": ".py",
   "mimetype": "text/x-python",
   "name": "python",
   "nbconvert_exporter": "python",
   "pygments_lexer": "ipython3",
   "version": "3.11.5"
  }
 },
 "nbformat": 4,
 "nbformat_minor": 5
}
