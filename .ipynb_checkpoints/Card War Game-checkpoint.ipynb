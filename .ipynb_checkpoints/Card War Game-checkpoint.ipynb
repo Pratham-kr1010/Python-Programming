{
 "cells": [
  {
   "cell_type": "code",
   "execution_count": 84,
   "id": "18dbc67d",
   "metadata": {},
   "outputs": [
    {
     "name": "stdout",
     "output_type": "stream",
     "text": [
      "Guess a number between 1 to 25:- \n",
      "4\n",
      "You got it wrong\n",
      "Guess a number between 1 to 25:- \n",
      "2\n",
      "You got it wrong\n",
      "Guess a number between 1 to 25:- \n",
      "4\n",
      "You got it wrong\n",
      "Guess a number between 1 to 25:- \n",
      "1\n",
      "Congrats you got it correct\n",
      "You guessed it correct in 4 guesses.\n"
     ]
    }
   ],
   "source": [
    "import random\n",
    "\n",
    "numb = random.randint(1,2)\n",
    "num_of_guesses = 0\n",
    "\n",
    "\n",
    "while num_of_guesses <5:\n",
    "    print (\"Guess a number between 1 to 25:- \")\n",
    "    guess = int(input())\n",
    "    num_of_guesses +=1\n",
    "    \n",
    "    if guess == numb:\n",
    "        print (\"Congrats you got it correct\")\n",
    "        break\n",
    "    else:\n",
    "        print (\"You got it wrong\")\n",
    "        \n",
    "if numb == guess:\n",
    "    if num_of_guesses ==1:\n",
    "        print (f\"You guessed it correct in {num_of_guesses} guess.\")\n",
    "    else:\n",
    "        print (f\"You guessed it correct in {num_of_guesses} guesses.\")\n",
    "else:\n",
    "    print(f\"You are not able to guess the number. {numb} is the right number.\")"
   ]
  },
  {
   "cell_type": "code",
   "execution_count": 94,
   "id": "c8c1af05",
   "metadata": {},
   "outputs": [
    {
     "name": "stdout",
     "output_type": "stream",
     "text": [
      "#one.py\n",
      "\n",
      "\n",
      "\n",
      "def func():\n",
      "\n",
      "\tprint(\"Func()in one.py\")\n",
      "\n",
      "\n",
      "\n",
      "print(\"Top level in one.py\")\n",
      "\n",
      "\n",
      "\n",
      "if __name__==\"__main__\":\n",
      "\n",
      "\tprint(\"one.py is being run directly!!!\")\n",
      "\n",
      "else:\n",
      "\n",
      "\tprint(\"one.py has been imported!!!\")\n",
      "\n",
      "I'm done.\n"
     ]
    }
   ],
   "source": [
    "with open(\"one.py\") as f:\n",
    "    for line in f:\n",
    "        print (line)\n",
    "print ('\\nI\\'m done.')"
   ]
  },
  {
   "cell_type": "code",
   "execution_count": null,
   "id": "3991fd20",
   "metadata": {},
   "outputs": [],
   "source": []
  },
  {
   "cell_type": "code",
   "execution_count": null,
   "id": "b5783d1e",
   "metadata": {},
   "outputs": [],
   "source": []
  },
  {
   "cell_type": "code",
   "execution_count": null,
   "id": "c4f67cbe",
   "metadata": {},
   "outputs": [],
   "source": []
  },
  {
   "cell_type": "code",
   "execution_count": null,
   "id": "4ba95a51",
   "metadata": {},
   "outputs": [],
   "source": []
  },
  {
   "cell_type": "code",
   "execution_count": null,
   "id": "bc621aaf",
   "metadata": {},
   "outputs": [],
   "source": []
  },
  {
   "cell_type": "code",
   "execution_count": null,
   "id": "03c4f0f8",
   "metadata": {},
   "outputs": [],
   "source": []
  },
  {
   "cell_type": "code",
   "execution_count": null,
   "id": "3a983ea3",
   "metadata": {},
   "outputs": [],
   "source": []
  },
  {
   "cell_type": "code",
   "execution_count": null,
   "id": "a00e7f0b",
   "metadata": {},
   "outputs": [],
   "source": []
  },
  {
   "cell_type": "code",
   "execution_count": null,
   "id": "cc4244fd",
   "metadata": {},
   "outputs": [],
   "source": []
  },
  {
   "cell_type": "code",
   "execution_count": null,
   "id": "d10ad6d5",
   "metadata": {},
   "outputs": [],
   "source": []
  },
  {
   "cell_type": "code",
   "execution_count": null,
   "id": "f200505c",
   "metadata": {},
   "outputs": [],
   "source": [
    "suits = ('Hearts', 'Diamonds', 'Spades', 'Clubs')\n",
    "ranks = ('Two', 'Three', 'Four', 'Five', 'Six', 'Seven', 'Eight', 'Nine', 'Ten', 'Jack', 'Queen', 'King', 'Ace')\n",
    "values = {'Two':2, 'Three':3, 'Four':4, 'Five':5, 'Six':6, 'Seven':7, 'Eight':8, \n",
    "            'Nine':9, 'Ten':10, 'Jack':11, 'Queen':12, 'King':13, 'Ace':14}"
   ]
  },
  {
   "cell_type": "markdown",
   "id": "74510708",
   "metadata": {},
   "source": [
    "Functions that are require\n",
    "1-Card Class\n",
    "2-Deck Class\n",
    "3-Player Class\n",
    "4-Game Logic"
   ]
  },
  {
   "cell_type": "markdown",
   "id": "5c233023",
   "metadata": {},
   "source": [
    "# Card Class"
   ]
  },
  {
   "cell_type": "code",
   "execution_count": 13,
   "id": "b9bd7f6d",
   "metadata": {},
   "outputs": [],
   "source": [
    "#Cards\n",
    "#suits,ranks,value\n",
    "suits = (\"Clubs\",\"Diamonds\",\"Hearts\",\"Spades\")\n",
    "ranks = (\"Two\",\"Three\",\"Four\",\"Five\",\"Six\",\"Seven\",\"Eight\",\"Nine\",'Ten',\"Jack\",\"Queen\",\"King\",\"Ace\")\n",
    "values= {\"Two\":2,\"Three\":3,\"Four\":4,\"Five\":5,\"Six\":6,\"Seven\":7,\"Eight\":8,\"Nine\":9,'Ten':10,\"Jack\":11,\"Queen\":12,\"King\":13,\"Ace\":14}"
   ]
  },
  {
   "cell_type": "code",
   "execution_count": 14,
   "id": "b53436b6",
   "metadata": {},
   "outputs": [],
   "source": [
    "class Card():\n",
    "    def __init__(self,suit,rank):\n",
    "        self.suit = suit\n",
    "        self.rank = rank\n",
    "        self.value = values[rank]\n",
    "        \n",
    "    def __str__(self):\n",
    "        return self.rank+\" of \"+self.suit"
   ]
  },
  {
   "cell_type": "code",
   "execution_count": 5,
   "id": "73b9854f",
   "metadata": {},
   "outputs": [
    {
     "data": {
      "text/plain": [
       "3"
      ]
     },
     "execution_count": 5,
     "metadata": {},
     "output_type": "execute_result"
    }
   ],
   "source": [
    "three_of_clubs = Card(\"Clubs\",\"Three\")\n",
    "three_of_clubs.value"
   ]
  },
  {
   "cell_type": "code",
   "execution_count": 6,
   "id": "9c2ae717",
   "metadata": {},
   "outputs": [],
   "source": [
    "two_hearts = Card(\"Heart\",\"Two\")"
   ]
  },
  {
   "cell_type": "code",
   "execution_count": 7,
   "id": "682cf1cd",
   "metadata": {},
   "outputs": [
    {
     "name": "stdout",
     "output_type": "stream",
     "text": [
      "Two of Heart\n"
     ]
    }
   ],
   "source": [
    "print(two_hearts)"
   ]
  },
  {
   "cell_type": "code",
   "execution_count": 8,
   "id": "420a6a0b",
   "metadata": {},
   "outputs": [
    {
     "data": {
      "text/plain": [
       "'Two'"
      ]
     },
     "execution_count": 8,
     "metadata": {},
     "output_type": "execute_result"
    }
   ],
   "source": [
    "two_hearts.rank"
   ]
  },
  {
   "cell_type": "code",
   "execution_count": 9,
   "id": "657f7139",
   "metadata": {},
   "outputs": [
    {
     "data": {
      "text/plain": [
       "'Heart'"
      ]
     },
     "execution_count": 9,
     "metadata": {},
     "output_type": "execute_result"
    }
   ],
   "source": [
    "two_hearts.suit"
   ]
  },
  {
   "cell_type": "code",
   "execution_count": 10,
   "id": "2e66156b",
   "metadata": {},
   "outputs": [
    {
     "data": {
      "text/plain": [
       "<__main__.Card at 0x2159dd63e90>"
      ]
     },
     "execution_count": 10,
     "metadata": {},
     "output_type": "execute_result"
    }
   ],
   "source": [
    "three_of_clubs"
   ]
  },
  {
   "cell_type": "code",
   "execution_count": null,
   "id": "8fc6f413",
   "metadata": {},
   "outputs": [],
   "source": []
  },
  {
   "cell_type": "code",
   "execution_count": null,
   "id": "9a514932",
   "metadata": {},
   "outputs": [],
   "source": []
  },
  {
   "cell_type": "markdown",
   "id": "6b1ec0d8",
   "metadata": {},
   "source": [
    "# Deck Class"
   ]
  },
  {
   "cell_type": "markdown",
   "id": "e41da5de",
   "metadata": {},
   "source": [
    "Deck Class\n",
    "1- Instantiate a new deck\n",
    "   a- Create all 52 Card objects\n",
    "   b- Hold as a list of Card objects\n",
    "2- Shuffle a Deck through a method call\n",
    "   a- Random library shuffle() function\n",
    "3- Deal cards from the Deck object\n",
    "   a- Pop method from cards list\n",
    "4- We will see that the Deck class holds a list of Card objects.\n",
    "5- This means the Deck class will return Card class object instances, not just normal python data types."
   ]
  },
  {
   "cell_type": "code",
   "execution_count": null,
   "id": "7331df80",
   "metadata": {},
   "outputs": [],
   "source": []
  },
  {
   "cell_type": "code",
   "execution_count": null,
   "id": "54b4725b",
   "metadata": {},
   "outputs": [],
   "source": []
  },
  {
   "cell_type": "code",
   "execution_count": null,
   "id": "c8b7499f",
   "metadata": {},
   "outputs": [],
   "source": []
  },
  {
   "cell_type": "code",
   "execution_count": 158,
   "id": "13e2ef40",
   "metadata": {},
   "outputs": [],
   "source": [
    "class Deck():\n",
    "    def __init__(self):\n",
    "        \n",
    "        self.all_cards = []\n",
    "        \n",
    "        for suit in suits:\n",
    "            for rank in ranks:\n",
    "                #Create the Card Object\n",
    "                created_card = Card(suit,rank) #ability to create 52 new cards\n",
    "                \n",
    "                self.all_cards.append(created_card)\n",
    "                \n",
    "                \n",
    "    def shuffle(self):  #ability to shuffle 52 cards\n",
    "        random.shuffle(self.all_cards)\n",
    "        \n",
    "        \n",
    "    def grab_one(self):  #ability to grab one card from the 52 card\n",
    "        return self.all_cards.pop()"
   ]
  },
  {
   "cell_type": "code",
   "execution_count": 125,
   "id": "ad8c3504",
   "metadata": {},
   "outputs": [],
   "source": [
    "new_deck = Deck()"
   ]
  },
  {
   "cell_type": "code",
   "execution_count": 156,
   "id": "11e5fbde",
   "metadata": {},
   "outputs": [
    {
     "data": {
      "text/plain": [
       "[<__main__.Card at 0x2159f30ffd0>,\n",
       " <__main__.Card at 0x2159f0e3d50>,\n",
       " <__main__.Card at 0x2159f30ea10>]"
      ]
     },
     "execution_count": 156,
     "metadata": {},
     "output_type": "execute_result"
    }
   ],
   "source": [
    "new_deck.all_cards[:3]"
   ]
  },
  {
   "cell_type": "code",
   "execution_count": 157,
   "id": "b6ecf92f",
   "metadata": {},
   "outputs": [
    {
     "name": "stdout",
     "output_type": "stream",
     "text": [
      "Ten of Clubs\n",
      "Two of Spades\n",
      "Nine of Diamonds\n",
      "Four of Spades\n",
      "Ten of Diamonds\n",
      "Eight of Hearts\n",
      "King of Hearts\n",
      "Queen of Clubs\n",
      "Eight of Diamonds\n",
      "Nine of Clubs\n",
      "Seven of Hearts\n",
      "Four of Hearts\n",
      "Ace of Spades\n",
      "Nine of Spades\n",
      "Five of Hearts\n",
      "Six of Spades\n",
      "Queen of Hearts\n",
      "Seven of Clubs\n",
      "Ten of Hearts\n",
      "Six of Hearts\n",
      "King of Diamonds\n",
      "Queen of Spades\n",
      "Three of Hearts\n",
      "King of Clubs\n",
      "Six of Clubs\n",
      "Jack of Diamonds\n",
      "Ace of Hearts\n",
      "Two of Hearts\n",
      "Eight of Spades\n",
      "Seven of Diamonds\n",
      "Ace of Diamonds\n",
      "Three of Diamonds\n",
      "Three of Spades\n",
      "Four of Clubs\n",
      "Ten of Spades\n",
      "Jack of Spades\n",
      "Six of Diamonds\n",
      "Two of Diamonds\n",
      "Three of Clubs\n",
      "Jack of Hearts\n",
      "Two of Clubs\n",
      "Five of Diamonds\n",
      "Ace of Clubs\n",
      "Queen of Diamonds\n",
      "King of Spades\n",
      "Four of Diamonds\n",
      "Eight of Clubs\n",
      "Seven of Spades\n",
      "Five of Spades\n",
      "Jack of Clubs\n",
      "Nine of Hearts\n",
      "Five of Clubs\n"
     ]
    }
   ],
   "source": [
    "for card_object in new_deck.all_cards:\n",
    "    a= card_object\n",
    "    print(a)"
   ]
  },
  {
   "cell_type": "code",
   "execution_count": 28,
   "id": "534cb281",
   "metadata": {},
   "outputs": [
    {
     "name": "stdout",
     "output_type": "stream",
     "text": [
      "Two of Clubs\n"
     ]
    }
   ],
   "source": [
    "print(new_deck.all_cards[0])"
   ]
  },
  {
   "cell_type": "code",
   "execution_count": 119,
   "id": "88217313",
   "metadata": {},
   "outputs": [
    {
     "name": "stdout",
     "output_type": "stream",
     "text": [
      "Two of Clubs\n"
     ]
    }
   ],
   "source": [
    "print(first_card)"
   ]
  },
  {
   "cell_type": "code",
   "execution_count": 120,
   "id": "1ca3be64",
   "metadata": {},
   "outputs": [
    {
     "name": "stdout",
     "output_type": "stream",
     "text": [
      "Ace of Spades\n"
     ]
    }
   ],
   "source": [
    "print(new_deck.all_cards[-1])"
   ]
  },
  {
   "cell_type": "code",
   "execution_count": 138,
   "id": "617b5047",
   "metadata": {},
   "outputs": [],
   "source": [
    "new_deck.shuffle_dec()"
   ]
  },
  {
   "cell_type": "code",
   "execution_count": 142,
   "id": "39861968",
   "metadata": {},
   "outputs": [
    {
     "data": {
      "text/plain": [
       "[<__main__.Card at 0x2159f30ffd0>,\n",
       " <__main__.Card at 0x2159f0e3d50>,\n",
       " <__main__.Card at 0x2159f30ea10>]"
      ]
     },
     "execution_count": 142,
     "metadata": {},
     "output_type": "execute_result"
    }
   ],
   "source": [
    "new_deck.all_cards[:3]"
   ]
  },
  {
   "cell_type": "code",
   "execution_count": 143,
   "id": "96bba5b4",
   "metadata": {},
   "outputs": [
    {
     "name": "stdout",
     "output_type": "stream",
     "text": [
      "Ten of Clubs\n"
     ]
    }
   ],
   "source": [
    "print(new_deck.all_cards[0])"
   ]
  },
  {
   "cell_type": "code",
   "execution_count": 155,
   "id": "7d50c5f0",
   "metadata": {},
   "outputs": [
    {
     "name": "stdout",
     "output_type": "stream",
     "text": [
      "Ten of Clubs\n",
      "Two of Spades\n",
      "Nine of Diamonds\n",
      "Four of Spades\n",
      "Ten of Diamonds\n",
      "Eight of Hearts\n",
      "King of Hearts\n",
      "Queen of Clubs\n",
      "Eight of Diamonds\n",
      "Nine of Clubs\n",
      "Seven of Hearts\n",
      "Four of Hearts\n",
      "Ace of Spades\n",
      "Nine of Spades\n",
      "Five of Hearts\n",
      "Six of Spades\n",
      "Queen of Hearts\n",
      "Seven of Clubs\n",
      "Ten of Hearts\n",
      "Six of Hearts\n",
      "King of Diamonds\n",
      "Queen of Spades\n",
      "Three of Hearts\n",
      "King of Clubs\n",
      "Six of Clubs\n",
      "Jack of Diamonds\n",
      "Ace of Hearts\n",
      "Two of Hearts\n",
      "Eight of Spades\n",
      "Seven of Diamonds\n",
      "Ace of Diamonds\n",
      "Three of Diamonds\n",
      "Three of Spades\n",
      "Four of Clubs\n",
      "Ten of Spades\n",
      "Jack of Spades\n",
      "Six of Diamonds\n",
      "Two of Diamonds\n",
      "Three of Clubs\n",
      "Jack of Hearts\n",
      "Two of Clubs\n",
      "Five of Diamonds\n",
      "Ace of Clubs\n",
      "Queen of Diamonds\n",
      "King of Spades\n",
      "Four of Diamonds\n",
      "Eight of Clubs\n",
      "Seven of Spades\n",
      "Five of Spades\n",
      "Jack of Clubs\n",
      "Nine of Hearts\n",
      "Five of Clubs\n"
     ]
    }
   ],
   "source": [
    "for card_object in new_deck.all_cards:\n",
    "    a= card_object\n",
    "    print(a)"
   ]
  },
  {
   "cell_type": "code",
   "execution_count": 159,
   "id": "7c5d2a80",
   "metadata": {},
   "outputs": [],
   "source": [
    "new_deck = Deck()"
   ]
  },
  {
   "cell_type": "code",
   "execution_count": 160,
   "id": "c3dc6f9e",
   "metadata": {},
   "outputs": [],
   "source": [
    "new_deck.shuffle()"
   ]
  },
  {
   "cell_type": "code",
   "execution_count": 161,
   "id": "dc2df180",
   "metadata": {},
   "outputs": [],
   "source": [
    "mycard = new_deck.grab_one()"
   ]
  },
  {
   "cell_type": "code",
   "execution_count": 163,
   "id": "01491cc6",
   "metadata": {},
   "outputs": [
    {
     "data": {
      "text/plain": [
       "<__main__.Card at 0x2159f83aed0>"
      ]
     },
     "execution_count": 163,
     "metadata": {},
     "output_type": "execute_result"
    }
   ],
   "source": [
    "mycard"
   ]
  },
  {
   "cell_type": "code",
   "execution_count": 164,
   "id": "2e2bddba",
   "metadata": {},
   "outputs": [
    {
     "name": "stdout",
     "output_type": "stream",
     "text": [
      "Four of Hearts\n"
     ]
    }
   ],
   "source": [
    "print(mycard)"
   ]
  },
  {
   "cell_type": "code",
   "execution_count": 165,
   "id": "79b5cd9b",
   "metadata": {},
   "outputs": [
    {
     "data": {
      "text/plain": [
       "51"
      ]
     },
     "execution_count": 165,
     "metadata": {},
     "output_type": "execute_result"
    }
   ],
   "source": [
    "len(new_deck.all_cards)"
   ]
  },
  {
   "cell_type": "code",
   "execution_count": null,
   "id": "92110858",
   "metadata": {},
   "outputs": [],
   "source": []
  },
  {
   "cell_type": "code",
   "execution_count": null,
   "id": "a5341bca",
   "metadata": {},
   "outputs": [],
   "source": []
  },
  {
   "cell_type": "code",
   "execution_count": null,
   "id": "40fd0b7a",
   "metadata": {},
   "outputs": [],
   "source": []
  },
  {
   "cell_type": "code",
   "execution_count": null,
   "id": "25bf0176",
   "metadata": {},
   "outputs": [],
   "source": []
  },
  {
   "cell_type": "code",
   "execution_count": null,
   "id": "f6fc7094",
   "metadata": {},
   "outputs": [],
   "source": []
  },
  {
   "cell_type": "code",
   "execution_count": null,
   "id": "15ba2cee",
   "metadata": {},
   "outputs": [],
   "source": []
  },
  {
   "cell_type": "code",
   "execution_count": null,
   "id": "35dea64e",
   "metadata": {},
   "outputs": [],
   "source": []
  },
  {
   "cell_type": "code",
   "execution_count": null,
   "id": "dec95cac",
   "metadata": {},
   "outputs": [],
   "source": []
  },
  {
   "cell_type": "code",
   "execution_count": null,
   "id": "950f2f0c",
   "metadata": {},
   "outputs": [],
   "source": []
  },
  {
   "cell_type": "code",
   "execution_count": null,
   "id": "b00a0caa",
   "metadata": {},
   "outputs": [],
   "source": []
  },
  {
   "cell_type": "code",
   "execution_count": null,
   "id": "dfac4f73",
   "metadata": {},
   "outputs": [],
   "source": []
  },
  {
   "cell_type": "code",
   "execution_count": null,
   "id": "dab063fb",
   "metadata": {},
   "outputs": [],
   "source": []
  },
  {
   "cell_type": "code",
   "execution_count": null,
   "id": "e488ed26",
   "metadata": {},
   "outputs": [],
   "source": []
  },
  {
   "cell_type": "code",
   "execution_count": null,
   "id": "97dd67b0",
   "metadata": {},
   "outputs": [],
   "source": []
  },
  {
   "cell_type": "code",
   "execution_count": null,
   "id": "e4b074de",
   "metadata": {},
   "outputs": [],
   "source": []
  },
  {
   "cell_type": "code",
   "execution_count": null,
   "id": "08a62e8f",
   "metadata": {},
   "outputs": [],
   "source": []
  },
  {
   "cell_type": "code",
   "execution_count": null,
   "id": "e4d8819d",
   "metadata": {},
   "outputs": [],
   "source": []
  },
  {
   "cell_type": "code",
   "execution_count": null,
   "id": "5491af2f",
   "metadata": {},
   "outputs": [],
   "source": []
  },
  {
   "cell_type": "code",
   "execution_count": null,
   "id": "aab276ea",
   "metadata": {},
   "outputs": [],
   "source": []
  },
  {
   "cell_type": "code",
   "execution_count": null,
   "id": "1ec71e6e",
   "metadata": {},
   "outputs": [],
   "source": []
  },
  {
   "cell_type": "code",
   "execution_count": null,
   "id": "d29bec9e",
   "metadata": {},
   "outputs": [],
   "source": []
  },
  {
   "cell_type": "code",
   "execution_count": null,
   "id": "826e14b2",
   "metadata": {},
   "outputs": [],
   "source": []
  },
  {
   "cell_type": "code",
   "execution_count": null,
   "id": "cc8487c1",
   "metadata": {},
   "outputs": [],
   "source": []
  },
  {
   "cell_type": "code",
   "execution_count": null,
   "id": "b2ca4113",
   "metadata": {},
   "outputs": [],
   "source": []
  },
  {
   "cell_type": "code",
   "execution_count": null,
   "id": "dbda433f",
   "metadata": {},
   "outputs": [],
   "source": []
  },
  {
   "cell_type": "code",
   "execution_count": null,
   "id": "17347b4d",
   "metadata": {},
   "outputs": [],
   "source": []
  },
  {
   "cell_type": "code",
   "execution_count": null,
   "id": "791c7b84",
   "metadata": {},
   "outputs": [],
   "source": []
  },
  {
   "cell_type": "code",
   "execution_count": null,
   "id": "0f90314e",
   "metadata": {},
   "outputs": [],
   "source": []
  },
  {
   "cell_type": "code",
   "execution_count": null,
   "id": "709dab71",
   "metadata": {},
   "outputs": [],
   "source": []
  },
  {
   "cell_type": "code",
   "execution_count": null,
   "id": "cb45419f",
   "metadata": {},
   "outputs": [],
   "source": []
  },
  {
   "cell_type": "code",
   "execution_count": null,
   "id": "7e2441a5",
   "metadata": {},
   "outputs": [],
   "source": []
  },
  {
   "cell_type": "code",
   "execution_count": null,
   "id": "1cf9d42c",
   "metadata": {},
   "outputs": [],
   "source": []
  },
  {
   "cell_type": "code",
   "execution_count": null,
   "id": "840c7f28",
   "metadata": {},
   "outputs": [],
   "source": []
  },
  {
   "cell_type": "code",
   "execution_count": null,
   "id": "8e7d72b8",
   "metadata": {},
   "outputs": [],
   "source": []
  },
  {
   "cell_type": "code",
   "execution_count": null,
   "id": "c4295c99",
   "metadata": {},
   "outputs": [],
   "source": []
  },
  {
   "cell_type": "code",
   "execution_count": null,
   "id": "cc46efca",
   "metadata": {},
   "outputs": [],
   "source": []
  },
  {
   "cell_type": "code",
   "execution_count": null,
   "id": "c3b4cfe2",
   "metadata": {},
   "outputs": [],
   "source": []
  },
  {
   "cell_type": "code",
   "execution_count": null,
   "id": "43cef372",
   "metadata": {},
   "outputs": [],
   "source": []
  },
  {
   "cell_type": "code",
   "execution_count": null,
   "id": "e263451a",
   "metadata": {},
   "outputs": [],
   "source": []
  },
  {
   "cell_type": "code",
   "execution_count": null,
   "id": "12349343",
   "metadata": {},
   "outputs": [],
   "source": []
  },
  {
   "cell_type": "code",
   "execution_count": null,
   "id": "dbdab603",
   "metadata": {},
   "outputs": [],
   "source": []
  },
  {
   "cell_type": "code",
   "execution_count": null,
   "id": "8cee6e44",
   "metadata": {},
   "outputs": [],
   "source": []
  },
  {
   "cell_type": "code",
   "execution_count": 151,
   "id": "917324f3",
   "metadata": {},
   "outputs": [
    {
     "name": "stdout",
     "output_type": "stream",
     "text": [
      "None\n"
     ]
    }
   ],
   "source": [
    "print(shuffle(list(range(1,10))))"
   ]
  },
  {
   "cell_type": "code",
   "execution_count": 101,
   "id": "94120e25",
   "metadata": {},
   "outputs": [
    {
     "name": "stdout",
     "output_type": "stream",
     "text": [
      "[8, 1, 3, 7, 5, 4, 6, 2, 9]\n"
     ]
    }
   ],
   "source": [
    "import random\n",
    "\n",
    "shuffled_numbers = random.sample(range(1, 10), k=len(range(1, 10)))\n",
    "print(shuffled_numbers)"
   ]
  },
  {
   "cell_type": "code",
   "execution_count": 121,
   "id": "2dbddd82",
   "metadata": {},
   "outputs": [
    {
     "name": "stdout",
     "output_type": "stream",
     "text": [
      "[0, 1, 2, 3]\n"
     ]
    }
   ],
   "source": [
    "q=list(range(0,4))\n",
    "print(q)"
   ]
  },
  {
   "cell_type": "code",
   "execution_count": 122,
   "id": "a9d046d3",
   "metadata": {},
   "outputs": [],
   "source": [
    "#import random\n",
    "random.shuffle(q)"
   ]
  },
  {
   "cell_type": "code",
   "execution_count": 123,
   "id": "032b3ae7",
   "metadata": {},
   "outputs": [
    {
     "name": "stdout",
     "output_type": "stream",
     "text": [
      "[0, 2, 1]\n"
     ]
    }
   ],
   "source": [
    "print(q[:3])"
   ]
  },
  {
   "cell_type": "code",
   "execution_count": 175,
   "id": "0f80c3cc",
   "metadata": {},
   "outputs": [
    {
     "data": {
      "text/plain": [
       "7"
      ]
     },
     "execution_count": 175,
     "metadata": {},
     "output_type": "execute_result"
    }
   ],
   "source": [
    "dcz= [\"a\",\"b\",'c','d','e','f','g']\n",
    "len(dcz)"
   ]
  },
  {
   "cell_type": "code",
   "execution_count": 176,
   "id": "baf8752a",
   "metadata": {},
   "outputs": [
    {
     "name": "stdout",
     "output_type": "stream",
     "text": [
      "['d', 'e']\n"
     ]
    }
   ],
   "source": [
    "print(dcz[3:5])"
   ]
  },
  {
   "cell_type": "code",
   "execution_count": 178,
   "id": "67be1e12",
   "metadata": {},
   "outputs": [
    {
     "name": "stdout",
     "output_type": "stream",
     "text": [
      "banana and apple are fruits\n"
     ]
    }
   ],
   "source": [
    "a= \"apple\"\n",
    "b=\"banana\"\n",
    "print(f'{b} and {a} are fruits')"
   ]
  },
  {
   "cell_type": "code",
   "execution_count": 180,
   "id": "f9909ce1",
   "metadata": {},
   "outputs": [
    {
     "data": {
      "text/plain": [
       "6"
      ]
     },
     "execution_count": 180,
     "metadata": {},
     "output_type": "execute_result"
    }
   ],
   "source": [
    "a= 324354\n",
    "a=str(a)\n",
    "len(a)"
   ]
  },
  {
   "cell_type": "code",
   "execution_count": null,
   "id": "dda9306d",
   "metadata": {},
   "outputs": [],
   "source": []
  }
 ],
 "metadata": {
  "kernelspec": {
   "display_name": "Python 3 (ipykernel)",
   "language": "python",
   "name": "python3"
  },
  "language_info": {
   "codemirror_mode": {
    "name": "ipython",
    "version": 3
   },
   "file_extension": ".py",
   "mimetype": "text/x-python",
   "name": "python",
   "nbconvert_exporter": "python",
   "pygments_lexer": "ipython3",
   "version": "3.11.5"
  }
 },
 "nbformat": 4,
 "nbformat_minor": 5
}
