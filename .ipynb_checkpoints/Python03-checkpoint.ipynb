{
 "cells": [
  {
   "cell_type": "markdown",
   "id": "471559d8",
   "metadata": {},
   "source": [
    "#Complex Code Start"
   ]
  },
  {
   "cell_type": "code",
   "execution_count": 1,
   "id": "2bd2ef3f",
   "metadata": {},
   "outputs": [],
   "source": [
    "from random import shuffle\n",
    "def suf(mylist):\n",
    "    shuffle(mylist)\n",
    "    return mylist"
   ]
  },
  {
   "cell_type": "code",
   "execution_count": 2,
   "id": "9fd0e47c",
   "metadata": {},
   "outputs": [],
   "source": [
    "def player_guess():\n",
    "    \n",
    "    guess=\"\"\n",
    "    \n",
    "    while guess not in [\"0\",\"1\",\"2\",\"3\"]:\n",
    "        guess=input(\"Pick a number between 0,1,2 or 3:-  \")\n",
    "    \n",
    "    return int(guess)"
   ]
  },
  {
   "cell_type": "code",
   "execution_count": 3,
   "id": "1c2f70bd",
   "metadata": {},
   "outputs": [],
   "source": [
    "def check_guess(mylist,guess):\n",
    "    if mylist[guess]==\"2\":\n",
    "        print (\"Correct Guess!!!\")\n",
    "    else:\n",
    "        print (\"Wrong Guess!!!\")\n",
    "        print (mylist)"
   ]
  },
  {
   "cell_type": "code",
   "execution_count": 4,
   "id": "353f0a11",
   "metadata": {},
   "outputs": [
    {
     "name": "stdout",
     "output_type": "stream",
     "text": [
      "Pick a number between 0,1,2 or 3:-  2\n",
      "Correct Guess!!!\n"
     ]
    }
   ],
   "source": [
    "#Initial list\n",
    "mylist=[\"1\",\"O\",\"2\",\"3\"]\n",
    "\n",
    "#Shuffle list\n",
    "shuffled_=suf(mylist)\n",
    "\n",
    "#User list\n",
    "guess=player_guess()\n",
    "\n",
    "#check list\n",
    "check_guess(shuffled_,guess)"
   ]
  },
  {
   "cell_type": "markdown",
   "id": "87dd98f8",
   "metadata": {},
   "source": [
    "#Complex code end"
   ]
  },
  {
   "cell_type": "markdown",
   "id": "b9614d36",
   "metadata": {},
   "source": [
    "#"
   ]
  },
  {
   "cell_type": "markdown",
   "id": "b6eabe88",
   "metadata": {},
   "source": [
    "# *agrs and **kwargs(keywordsagruments)"
   ]
  },
  {
   "cell_type": "code",
   "execution_count": 5,
   "id": "eeb42561",
   "metadata": {},
   "outputs": [],
   "source": [
    "def myfunc(a,b,c=0,d=0,e=0):\n",
    "    #returns 5% of the sum a nd b\n",
    "    return sum((a,b,c))*0.05"
   ]
  },
  {
   "cell_type": "code",
   "execution_count": 6,
   "id": "0942b6f0",
   "metadata": {},
   "outputs": [
    {
     "data": {
      "text/plain": [
       "10.0"
      ]
     },
     "execution_count": 6,
     "metadata": {},
     "output_type": "execute_result"
    }
   ],
   "source": [
    "myfunc(40,60,100,100,32)"
   ]
  },
  {
   "cell_type": "code",
   "execution_count": 7,
   "id": "445d2963",
   "metadata": {},
   "outputs": [],
   "source": [
    "def myfunc(*args): #Here *args does work as tuple which can carry as many value as the user wants. We can use any other string\n",
    "    return sum(args)*0.05 #in place of args"
   ]
  },
  {
   "cell_type": "code",
   "execution_count": 8,
   "id": "3c442d6a",
   "metadata": {},
   "outputs": [
    {
     "data": {
      "text/plain": [
       "5.5"
      ]
     },
     "execution_count": 8,
     "metadata": {},
     "output_type": "execute_result"
    }
   ],
   "source": [
    "myfunc(13,42,45,10)"
   ]
  },
  {
   "cell_type": "code",
   "execution_count": 9,
   "id": "35d7fabb",
   "metadata": {},
   "outputs": [
    {
     "data": {
      "text/plain": [
       "77"
      ]
     },
     "execution_count": 9,
     "metadata": {},
     "output_type": "execute_result"
    }
   ],
   "source": [
    "def func(*hell):\n",
    "    return sum(hell)\n",
    "func(23,12,42)"
   ]
  },
  {
   "cell_type": "code",
   "execution_count": 10,
   "id": "d18daa4d",
   "metadata": {},
   "outputs": [],
   "source": [
    "def myfunc(*ors):\n",
    "    for item in ors:\n",
    "        print(item)"
   ]
  },
  {
   "cell_type": "code",
   "execution_count": 11,
   "id": "57c21df8",
   "metadata": {},
   "outputs": [
    {
     "name": "stdout",
     "output_type": "stream",
     "text": [
      "1\n",
      "2\n",
      "4\n",
      "3\n",
      "5\n"
     ]
    }
   ],
   "source": [
    "myfunc(1,2,4,3,5)"
   ]
  },
  {
   "cell_type": "code",
   "execution_count": 12,
   "id": "1d4d2ba5",
   "metadata": {},
   "outputs": [],
   "source": [
    "def myfunc(**kwargs):#Here *kwargs does work as a dictionary which can carry as many key and value as the user wants.\n",
    "    print(kwargs) #string in place of kwargs\n",
    "    if 'fruit' in kwargs:\n",
    "        print (\"My fruit of choice is {}.\".format(kwargs[\"fruit\"]))\n",
    "    else:\n",
    "        print(\"I did not find any fruit here.\")"
   ]
  },
  {
   "cell_type": "code",
   "execution_count": 13,
   "id": "26121bf7",
   "metadata": {},
   "outputs": [
    {
     "name": "stdout",
     "output_type": "stream",
     "text": [
      "{'fruit': 'apple', 'veggie': 'lettuce'}\n",
      "My fruit of choice is apple.\n"
     ]
    }
   ],
   "source": [
    "myfunc(fruit=\"apple\",veggie=\"lettuce\")"
   ]
  },
  {
   "cell_type": "markdown",
   "id": "85f41003",
   "metadata": {},
   "source": [
    "#"
   ]
  },
  {
   "cell_type": "code",
   "execution_count": 14,
   "id": "e1a65f21",
   "metadata": {},
   "outputs": [],
   "source": [
    "def myfunc(**vehicle):\n",
    "    if 'Veh' in vehicle:\n",
    "        print(f\"There is my fav vehicel whose name is {vehicle['Veh']}.\")\n",
    "        print(\"There is my fav vehicle {}.\".format(vehicle[\"Veh\"]))\n",
    "    else:\n",
    "        print(\"Here is not my fav vehicle\")"
   ]
  },
  {
   "cell_type": "code",
   "execution_count": 15,
   "id": "ecbd7ff2",
   "metadata": {},
   "outputs": [
    {
     "name": "stdout",
     "output_type": "stream",
     "text": [
      "There is my fav vehicel whose name is Car.\n",
      "There is my fav vehicle Car.\n"
     ]
    }
   ],
   "source": [
    "myfunc(fruit=\"Guava\",veggie=\"Cauliflower\",Veh=\"Car\")"
   ]
  },
  {
   "cell_type": "markdown",
   "id": "c6904636",
   "metadata": {},
   "source": [
    "#"
   ]
  },
  {
   "cell_type": "code",
   "execution_count": 16,
   "id": "14eaec05",
   "metadata": {},
   "outputs": [],
   "source": [
    "def myfunc(*args,**kwargs):\n",
    "    print(args)\n",
    "    print(kwargs)\n",
    "    print(\"I would like {} {}\".format(args[2],kwargs[\"food\"]) )"
   ]
  },
  {
   "cell_type": "code",
   "execution_count": 17,
   "id": "301c656c",
   "metadata": {},
   "outputs": [
    {
     "name": "stdout",
     "output_type": "stream",
     "text": [
      "(10, 20, 30, 40)\n",
      "{'fruit': 'orange', 'food': 'eggs', 'animal': 'dog'}\n",
      "I would like 30 eggs\n"
     ]
    }
   ],
   "source": [
    "myfunc(10,20,30,40,fruit=\"orange\",food=\"eggs\",animal=\"dog\")# this has to go in the order which we prescribed before in myfunc()"
   ]
  },
  {
   "cell_type": "code",
   "execution_count": null,
   "id": "7fdcfe6d",
   "metadata": {},
   "outputs": [],
   "source": []
  },
  {
   "cell_type": "code",
   "execution_count": 18,
   "id": "f534c654",
   "metadata": {},
   "outputs": [],
   "source": [
    "def myfunc(*nos):\n",
    "    y=[]\n",
    "    for x in nos:\n",
    "        if x%2==0:\n",
    "            y.append(x)\n",
    "        else:\n",
    "            pass\n",
    "    return y"
   ]
  },
  {
   "cell_type": "code",
   "execution_count": 19,
   "id": "d1d0f6fa",
   "metadata": {},
   "outputs": [
    {
     "data": {
      "text/plain": [
       "[2, 4]"
      ]
     },
     "execution_count": 19,
     "metadata": {},
     "output_type": "execute_result"
    }
   ],
   "source": [
    "myfunc(1,2,3,4,5)"
   ]
  },
  {
   "cell_type": "markdown",
   "id": "0ee1bc7b",
   "metadata": {},
   "source": [
    "# "
   ]
  },
  {
   "cell_type": "code",
   "execution_count": 20,
   "id": "be1d0119",
   "metadata": {},
   "outputs": [],
   "source": [
    "def myfunc(stra):\n",
    "    result=\"\"\n",
    "    for n,word in enumerate(stra):\n",
    "        if n%2==0:\n",
    "            result +=word.upper()\n",
    "        else:\n",
    "            result +=word.lower()\n",
    "    return result\n"
   ]
  },
  {
   "cell_type": "code",
   "execution_count": 21,
   "id": "3934bdc2",
   "metadata": {},
   "outputs": [
    {
     "data": {
      "text/plain": [
       "'AsDfGhJkL'"
      ]
     },
     "execution_count": 21,
     "metadata": {},
     "output_type": "execute_result"
    }
   ],
   "source": [
    "myfunc(\"asdfghjkl\")"
   ]
  },
  {
   "cell_type": "code",
   "execution_count": 22,
   "id": "beebc41b",
   "metadata": {},
   "outputs": [],
   "source": [
    "def myfunc(string):\n",
    "  result = \"\"\n",
    "  for i, char in enumerate(string):\n",
    "    if i % 2 == 0:\n",
    "      result += char.upper()\n",
    "    else:\n",
    "      result += char.lower()\n",
    "  return result\n"
   ]
  },
  {
   "cell_type": "code",
   "execution_count": 23,
   "id": "c017b5e3",
   "metadata": {
    "scrolled": true
   },
   "outputs": [
    {
     "data": {
      "text/plain": [
       "'AsDfGhJkL'"
      ]
     },
     "execution_count": 23,
     "metadata": {},
     "output_type": "execute_result"
    }
   ],
   "source": [
    "myfunc(\"asdfghjkl\")"
   ]
  },
  {
   "cell_type": "markdown",
   "id": "14ec6079",
   "metadata": {},
   "source": [
    "# Function Practice Exercise"
   ]
  },
  {
   "cell_type": "code",
   "execution_count": null,
   "id": "01ea1518",
   "metadata": {},
   "outputs": [],
   "source": []
  },
  {
   "cell_type": "code",
   "execution_count": 24,
   "id": "92471f00",
   "metadata": {},
   "outputs": [],
   "source": [
    "def app(mylist):\n",
    "    enumerate(mylist)\n",
    "    return mylist"
   ]
  },
  {
   "cell_type": "code",
   "execution_count": 25,
   "id": "96b36173",
   "metadata": {},
   "outputs": [
    {
     "data": {
      "text/plain": [
       "'apple'"
      ]
     },
     "execution_count": 25,
     "metadata": {},
     "output_type": "execute_result"
    }
   ],
   "source": [
    "app(\"apple\")"
   ]
  },
  {
   "cell_type": "code",
   "execution_count": 26,
   "id": "5293e9d5",
   "metadata": {},
   "outputs": [
    {
     "data": {
      "text/plain": [
       "'Boy a am i'"
      ]
     },
     "execution_count": 26,
     "metadata": {},
     "output_type": "execute_result"
    }
   ],
   "source": [
    "def master_yoda(text):\n",
    "    n=0\n",
    "    words=text.split()\n",
    "    y=len(words)\n",
    "    #words=\" \"\n",
    "    if n<=y:\n",
    "        reverse_words=words[-1::-1]\n",
    "        x=\" \".join(reverse_words)\n",
    "        n+=1\n",
    "    return x.capitalize()\n",
    "master_yoda(\"I am a Boy\")"
   ]
  },
  {
   "cell_type": "code",
   "execution_count": null,
   "id": "74a81cbb",
   "metadata": {},
   "outputs": [],
   "source": []
  },
  {
   "cell_type": "code",
   "execution_count": 27,
   "id": "0a6a40f8",
   "metadata": {},
   "outputs": [],
   "source": [
    "def max_end3(nums):\n",
    "  #for a,b,c in nums:\n",
    "  if nums[0]>=nums[-1]:\n",
    "    return [nums[0]]*3\n",
    "  else:\n",
    "    return [nums[-1]]*3"
   ]
  },
  {
   "cell_type": "code",
   "execution_count": 28,
   "id": "897d9ab9",
   "metadata": {},
   "outputs": [
    {
     "data": {
      "text/plain": [
       "[5, 5, 5]"
      ]
     },
     "execution_count": 28,
     "metadata": {},
     "output_type": "execute_result"
    }
   ],
   "source": [
    "max_end3([5,2,4])"
   ]
  },
  {
   "cell_type": "code",
   "execution_count": 29,
   "id": "1136f5cf",
   "metadata": {},
   "outputs": [
    {
     "data": {
      "text/plain": [
       "1"
      ]
     },
     "execution_count": 29,
     "metadata": {},
     "output_type": "execute_result"
    }
   ],
   "source": [
    "len([0])"
   ]
  },
  {
   "cell_type": "code",
   "execution_count": 30,
   "id": "bd0f394f",
   "metadata": {},
   "outputs": [],
   "source": [
    "def sum2(nums):\n",
    "    z=nums\n",
    "    if len(nums)==1:\n",
    "        return sum(nums)\n",
    "    elif len(nums)>=2:\n",
    "        z=sum(nums[0],nums[1])\n",
    "        return (sum(z))\n",
    "    else:\n",
    "        return (0)"
   ]
  },
  {
   "cell_type": "code",
   "execution_count": 31,
   "id": "7cb4cc21",
   "metadata": {},
   "outputs": [
    {
     "ename": "TypeError",
     "evalue": "'int' object is not iterable",
     "output_type": "error",
     "traceback": [
      "\u001b[1;31m---------------------------------------------------------------------------\u001b[0m",
      "\u001b[1;31mTypeError\u001b[0m                                 Traceback (most recent call last)",
      "Cell \u001b[1;32mIn[31], line 1\u001b[0m\n\u001b[1;32m----> 1\u001b[0m sum2([\u001b[38;5;241m1\u001b[39m, \u001b[38;5;241m2\u001b[39m, \u001b[38;5;241m3\u001b[39m])\n",
      "Cell \u001b[1;32mIn[30], line 6\u001b[0m, in \u001b[0;36msum2\u001b[1;34m(nums)\u001b[0m\n\u001b[0;32m      4\u001b[0m     \u001b[38;5;28;01mreturn\u001b[39;00m \u001b[38;5;28msum\u001b[39m(nums)\n\u001b[0;32m      5\u001b[0m \u001b[38;5;28;01melif\u001b[39;00m \u001b[38;5;28mlen\u001b[39m(nums)\u001b[38;5;241m>\u001b[39m\u001b[38;5;241m=\u001b[39m\u001b[38;5;241m2\u001b[39m:\n\u001b[1;32m----> 6\u001b[0m     z\u001b[38;5;241m=\u001b[39m\u001b[38;5;28msum\u001b[39m(nums[\u001b[38;5;241m0\u001b[39m],nums[\u001b[38;5;241m1\u001b[39m])\n\u001b[0;32m      7\u001b[0m     \u001b[38;5;28;01mreturn\u001b[39;00m (\u001b[38;5;28msum\u001b[39m(z))\n\u001b[0;32m      8\u001b[0m \u001b[38;5;28;01melse\u001b[39;00m:\n",
      "\u001b[1;31mTypeError\u001b[0m: 'int' object is not iterable"
     ]
    }
   ],
   "source": [
    "sum2([1, 2, 3])"
   ]
  },
  {
   "cell_type": "code",
   "execution_count": null,
   "id": "ddc6cf02",
   "metadata": {},
   "outputs": [],
   "source": [
    "def sum2(nums):\n",
    "    if len(nums)==0:\n",
    "        return 0\n",
    "    elif len(nums)<=2:\n",
    "        return sum(nums)\n",
    "    else:\n",
    "        return (sum(nums[:2]))"
   ]
  },
  {
   "cell_type": "code",
   "execution_count": null,
   "id": "79fc7861",
   "metadata": {},
   "outputs": [],
   "source": [
    "sum2([1, 2, 3])"
   ]
  },
  {
   "cell_type": "code",
   "execution_count": null,
   "id": "2410e82a",
   "metadata": {},
   "outputs": [],
   "source": [
    "x=22/7\n",
    "y=float(x)\n",
    "len(x)"
   ]
  },
  {
   "cell_type": "code",
   "execution_count": null,
   "id": "ee3e893a",
   "metadata": {},
   "outputs": [],
   "source": []
  },
  {
   "cell_type": "code",
   "execution_count": null,
   "id": "bf8599c9",
   "metadata": {},
   "outputs": [],
   "source": [
    "def cigar_party(cigars, is_weekend):\n",
    "    #for x,b in (cigars,is_weekend):\n",
    "    if not is_weekend:\n",
    "        if cigars>=40 and cigars<=60:\n",
    "            return True\n",
    "        else:\n",
    "            return False\n",
    "    else:\n",
    "        return True"
   ]
  },
  {
   "cell_type": "code",
   "execution_count": null,
   "id": "bbb39822",
   "metadata": {},
   "outputs": [],
   "source": [
    "cigar_party(90,False)"
   ]
  },
  {
   "cell_type": "code",
   "execution_count": null,
   "id": "5754f7fe",
   "metadata": {},
   "outputs": [],
   "source": [
    "def sorta_sum(a, b):\n",
    "    if sum([a,b])<10 or sum([a,b])>20:\n",
    "        return 20\n",
    "    else:\n",
    "        return sum([a,b])"
   ]
  },
  {
   "cell_type": "code",
   "execution_count": null,
   "id": "e9bf92a1",
   "metadata": {},
   "outputs": [],
   "source": [
    "sorta_sum(2,4)"
   ]
  },
  {
   "cell_type": "code",
   "execution_count": null,
   "id": "8c303aa0",
   "metadata": {},
   "outputs": [],
   "source": [
    "def in1to10(n, outside_mode=False):\n",
    "    if outside_mode:\n",
    "        return n<=0 or n>=11\n",
    "            #return True\n",
    "#        else:\n",
    "#            return False\n",
    "    #else:\n",
    "    else: #not outside_mode\n",
    "        return 1<=n<=10\n",
    "        #else:\n",
    "         #   return False"
   ]
  },
  {
   "cell_type": "code",
   "execution_count": null,
   "id": "bf57d295",
   "metadata": {},
   "outputs": [],
   "source": [
    "in1to10(11,True)"
   ]
  },
  {
   "cell_type": "code",
   "execution_count": null,
   "id": "bd59edc0",
   "metadata": {},
   "outputs": [],
   "source": [
    "#brick problem\n",
    "def make_bricks(small, big, goal):\n",
    "  #for a,b,c in small, big, goal:\n",
    "    z=goal-small\n",
    "    return (z%(big*5)==0)"
   ]
  },
  {
   "cell_type": "code",
   "execution_count": null,
   "id": "b30d8168",
   "metadata": {},
   "outputs": [],
   "source": [
    "make_bricks(1,2,9)"
   ]
  },
  {
   "cell_type": "code",
   "execution_count": null,
   "id": "4102e025",
   "metadata": {},
   "outputs": [],
   "source": [
    "def make_bricks(small, big, goal):\n",
    "    total_from_big = big * 5  # Total bricks possible from big bricks\n",
    "    small >= goal% total_from_big  # Remaining goal after using big bricks\n",
    "\n",
    "  # Check if remaining goal can be met with small bricks and enough small bricks are available\n",
    "    #return (0 <= remaining_goal <= small  # Combine conditions for clarity\n",
    "make_bricks(3, 2, 8)"
   ]
  },
  {
   "cell_type": "code",
   "execution_count": null,
   "id": "ff9e8c38",
   "metadata": {},
   "outputs": [],
   "source": [
    "def no_teen_sum(a, b, c):\n",
    "\n",
    "    def fix_teen(n):\n",
    "        return  (0 if 13<=n<=19 and n!=15 and n!=16 else n)\n",
    "    a=fix_teen(a)\n",
    "    b=fix_teen(b)\n",
    "    c=fix_teen(c)\n",
    "    return a+b+c"
   ]
  },
  {
   "cell_type": "code",
   "execution_count": null,
   "id": "8b3108ec",
   "metadata": {},
   "outputs": [],
   "source": [
    "no_teen_sum(15,10,20)"
   ]
  },
  {
   "cell_type": "code",
   "execution_count": null,
   "id": "8bdcada8",
   "metadata": {},
   "outputs": [],
   "source": [
    "def fix_teen(n):\n",
    "    return 0 if 13 <= n <= 19 and n != 15 and n != 16 else n  # Use a concise conditional expression\n",
    "\n",
    "def no_teen_sum(a, b, c):\n",
    "\n",
    "\n",
    "  fixed_a = fix_teen(a)\n",
    "  fixed_b = fix_teen(b)\n",
    "  fixed_c = fix_teen(c)\n",
    "  return fixed_a + fixed_b + fixed_c\n"
   ]
  },
  {
   "cell_type": "code",
   "execution_count": null,
   "id": "082833df",
   "metadata": {},
   "outputs": [],
   "source": [
    "def lone_sum(a, b, c):\n",
    "\n",
    "    if a==b:\n",
    "        return sum(a,c)\n",
    "    elif b==c:\n",
    "        return sum(a,c)\n",
    "    elif a==c:\n",
    "        return sum(b,c)\n",
    "    elif a==b==c:\n",
    "        return a\n",
    "    else:\n",
    "        return sum(a,b,c)"
   ]
  },
  {
   "cell_type": "code",
   "execution_count": null,
   "id": "5a59b4a6",
   "metadata": {},
   "outputs": [],
   "source": [
    "def lone_sum(a, b, c):\n",
    "  if a==b:\n",
    "    return sum(a,c)\n",
    "  elif b==c:\n",
    "    return sum(a,c)\n",
    "  elif a==c:\n",
    "    return sum(b,c)\n",
    "  elif a==b==c:\n",
    "    return a\n",
    "  else:\n",
    "    return sum(a,b,c)"
   ]
  },
  {
   "cell_type": "code",
   "execution_count": null,
   "id": "48d5c185",
   "metadata": {},
   "outputs": [],
   "source": [
    "def round_sum(a, b, c):\n",
    "    def round_no(n):\n",
    "        r=n%10\n",
    "        if r<=5:\n",
    "            return n-r\n",
    "        else:\n",
    "            return n+(10-r)\n",
    "    a=round_no(b)\n",
    "    b=round_no(a)\n",
    "    c=round_no(c)\n",
    "    return a+b+c"
   ]
  },
  {
   "cell_type": "code",
   "execution_count": null,
   "id": "7417787d",
   "metadata": {},
   "outputs": [],
   "source": [
    "round_sum(13,14,15)"
   ]
  },
  {
   "cell_type": "code",
   "execution_count": null,
   "id": "defee0f3",
   "metadata": {},
   "outputs": [],
   "source": [
    "def old_macdonald(name):\n",
    "    a=name[:3].capitalize()\n",
    "    d=name[3:].capitalize()\n",
    "    return a+d\n",
    "old_macdonald('macdonald')"
   ]
  },
  {
   "cell_type": "code",
   "execution_count": null,
   "id": "8b647359",
   "metadata": {},
   "outputs": [],
   "source": [
    "def summer_69(arr):\n",
    "    x=0\n",
    "    add= True\n",
    "    \n",
    "    for a in arr:\n",
    "        while add:\n",
    "            if a!=6:\n",
    "                x+=a\n",
    "                break\n",
    "            else:\n",
    "                add=False\n",
    "        while not add:\n",
    "            if a!=9:\n",
    "                break\n",
    "            else:\n",
    "                add=True\n",
    "                break\n",
    "    return x"
   ]
  },
  {
   "cell_type": "code",
   "execution_count": null,
   "id": "37c5614a",
   "metadata": {},
   "outputs": [],
   "source": [
    "summer_69([2,3,6])"
   ]
  },
  {
   "cell_type": "code",
   "execution_count": null,
   "id": "a9a8116d",
   "metadata": {},
   "outputs": [],
   "source": [
    "def sum_69(nums):\n",
    "    a=True\n",
    "    no=0\n",
    "    for x in nums:\n",
    "        while a:\n",
    "            if x!=6:\n",
    "                no+=x\n",
    "                break\n",
    "            else:\n",
    "                add=False\n",
    "        while not a:\n",
    "            if x!=9:\n",
    "                break\n",
    "            else:\n",
    "                a=True\n",
    "                break\n",
    "    return no"
   ]
  },
  {
   "cell_type": "code",
   "execution_count": null,
   "id": "c59e9658",
   "metadata": {},
   "outputs": [],
   "source": [
    "sum_69([6,4,3,2,9,54])"
   ]
  },
  {
   "cell_type": "code",
   "execution_count": null,
   "id": "015b3512",
   "metadata": {},
   "outputs": [],
   "source": [
    "def spy_game(nums):\n",
    "    code=[0,0,7,1]\n",
    "    #[0,0,7,\"x\"]\n",
    "    #[0,7,\"x\"]\n",
    "    #[7,\"x\"]\n",
    "    #[\"x\"] Length=1\n",
    "    for x in nums:\n",
    "        if x==code[0]:\n",
    "            code.pop(0)\n",
    "    return len(code)==1\n",
    "spy_game([4,2,4,7,0,7,0,7,2,4,3])"
   ]
  },
  {
   "cell_type": "markdown",
   "id": "f45db8e1",
   "metadata": {},
   "source": [
    "#Printing Alphabets"
   ]
  },
  {
   "cell_type": "code",
   "execution_count": 178,
   "id": "21c886f1",
   "metadata": {},
   "outputs": [
    {
     "name": "stdout",
     "output_type": "stream",
     "text": [
      " \n",
      "***  \n",
      "*   *\n",
      "*   *\n",
      "*   *\n",
      "***  \n",
      " \n",
      "*****\n",
      "  *  \n",
      "  *  \n",
      "  *  \n",
      "*****\n",
      " \n",
      "*   *\n",
      "*   *\n",
      "*   *\n",
      " * * \n",
      "  *  \n",
      " \n",
      "*****\n",
      "  *  \n",
      "  *  \n",
      "  *  \n",
      "*****\n",
      " \n",
      "*****\n",
      "  *  \n",
      "  *  \n",
      "  *  \n",
      "*****\n",
      " \n",
      "*   *\n",
      "*   *\n",
      "*****\n",
      "*   *\n",
      "*   *\n",
      " \n",
      "  *  \n",
      " * * \n",
      "*****\n",
      "*   *\n",
      "*   *\n",
      " \n",
      "*****\n",
      "  *  \n",
      "  *  \n",
      "  *  \n",
      "  *  \n",
      " \n",
      "*****\n",
      "*    \n",
      "***  \n",
      "*    \n",
      "*****\n",
      " \n",
      "*   *\n",
      "*   *\n",
      " * * \n",
      "  *  \n",
      "  *  \n",
      " \n",
      "*****\n",
      "*   *\n",
      "*   *\n",
      "*   *\n",
      "*****\n",
      " \n",
      "*   *\n",
      "*   *\n",
      "*   *\n",
      "*   *\n",
      "*****\n"
     ]
    }
   ],
   "source": [
    "def print_big(letter):\n",
    "    patterns={1:\"  *  \",2:\" * * \",3:\"*   *\",4:\"*****\",5:\"**** \",6:\"   * \",7:\" *   \",8:\"*  * \",9:\"*    \",10:\"***  \",11:\"* *  *\",12:\"* * *\"}\n",
    "    alphabet={\"A\":[1,2,4,3,3],\"B\":[4,3,5,3,4],\"C\":[4,9,9,9,4],\"D\":[10,3,3,3,10],'E':[4,9,10,9,4],\"F\":[4,9,10,9,9],\"H\":[3,3,4,3,3],\"I\":[4,1,1,1,4],\"L\":[1,1,1,1,4],\"N\":[3,11,12,8,3],\"O\":[4,3,3,3,4],\"T\":[4,1,1,1,1],\"U\":[3,3,3,3,4],\"V\":[3,3,3,2,1],\"Y\":[3,3,2,1,1]}\n",
    "    for pattern in alphabet[letter.upper()]:\n",
    "        print(patterns[pattern])\n",
    "print(\" \")\n",
    "print_big(\"d\")\n",
    "print(\" \")\n",
    "print_big(\"i\")\n",
    "print(\" \")\n",
    "print_big(\"v\")\n",
    "print(\" \")\n",
    "print_big(\"i\")\n",
    "print(\" \")\n",
    "print_big(\"i\")\n",
    "print(\" \")\n",
    "print_big(\"h\")\n",
    "print(\" \")\n",
    "print_big(\"a\")\n",
    "print(\" \")\n",
    "print_big(\"t\")\n",
    "print(\" \")\n",
    "print_big(\"e\")\n",
    "print(\" \")\n",
    "print_big(\"y\")\n",
    "print(\" \")\n",
    "print_big(\"o\")\n",
    "print(\" \")\n",
    "print_big(\"u\")"
   ]
  },
  {
   "cell_type": "code",
   "execution_count": 182,
   "id": "c13827d9",
   "metadata": {},
   "outputs": [
    {
     "name": "stdout",
     "output_type": "stream",
     "text": [
      " \n",
      "*   *\n",
      "*   *\n",
      "*****\n",
      "*   *\n",
      "*   *\n",
      " \n",
      "*****\n",
      "*    \n",
      "***  \n",
      "*    \n",
      "*****\n",
      " \n",
      "*    \n",
      "*    \n",
      "*    \n",
      "*    \n",
      "*****\n",
      " \n",
      "*    \n",
      "*    \n",
      "*    \n",
      "*    \n",
      "*****\n",
      " \n",
      "*****\n",
      "*   *\n",
      "*   *\n",
      "*   *\n",
      "*****\n",
      " \n",
      "*   *\n",
      "**  *\n",
      "* * *\n",
      "*  **\n",
      "*   *\n",
      " \n",
      "  *  \n",
      " * * \n",
      "*****\n",
      "*   *\n",
      "*   *\n",
      " \n",
      "*   *\n",
      "**  *\n",
      "* * *\n",
      "*  **\n",
      "*   *\n",
      " \n",
      "*****\n",
      "*    \n",
      "*    \n",
      "*    \n",
      "*****\n",
      " \n",
      "*   *\n",
      "*   *\n",
      " * * \n",
      "  *  \n",
      "  *  \n",
      " \n",
      " \n"
     ]
    }
   ],
   "source": [
    "def print_big(letter):\n",
    "    patterns={1:\"  *  \",2:\" * * \",3:\"*   *\",4:\"*****\",5:\"**** \",6:\"   * \",7:\" *   \",8:\"*  * \",9:\"*    \",10:\"***  \",11:\"**  *\",12:\"* * *\",13:\"*  **\"}\n",
    "    alphabet={\"A\":[1,2,4,3,3],\"B\":[4,3,5,3,4],\"C\":[4,9,9,9,4],\"D\":[10,3,3,3,10],'E':[4,9,10,9,4],\"F\":[4,9,10,9,9],\"H\":[3,3,4,3,3],\"I\":[4,1,1,1,4],\"L\":[9,9,9,9,4],\"N\":[3,11,12,13,3],\"O\":[4,3,3,3,4],\"T\":[4,1,1,1,1],\"U\":[3,3,3,3,4],\"V\":[3,3,3,2,1],\"Y\":[3,3,2,1,1]}\n",
    "    for pattern in alphabet[letter.upper()]:\n",
    "        print(patterns[pattern])\n",
    "print(\" \")\n",
    "print_big(\"h\")\n",
    "print(\" \")\n",
    "print_big(\"e\")\n",
    "print(\" \")\n",
    "print_big(\"l\")\n",
    "print(\" \")\n",
    "print_big(\"l\")\n",
    "print(\" \")\n",
    "print_big(\"o\")\n",
    "print(\" \")\n",
    "print_big(\"n\")\n",
    "print(\" \")\n",
    "print_big(\"a\")\n",
    "print(\" \")\n",
    "print_big(\"n\")\n",
    "print(\" \")\n",
    "print_big(\"c\")\n",
    "print(\" \")\n",
    "print_big(\"y\")\n",
    "print(\" \")\n",
    "#print_big(\"o\")\n",
    "print(\" \")\n",
    "#print_big(\"u\")"
   ]
  },
  {
   "cell_type": "markdown",
   "id": "3e42cd91",
   "metadata": {},
   "source": [
    "# Lambda Expressions, Map and Filter functions"
   ]
  },
  {
   "cell_type": "markdown",
   "id": "e8d345fe",
   "metadata": {},
   "source": []
  },
  {
   "cell_type": "markdown",
   "id": "2b0dd6ad",
   "metadata": {},
   "source": [
    "#Map Function"
   ]
  },
  {
   "cell_type": "code",
   "execution_count": null,
   "id": "ababef24",
   "metadata": {},
   "outputs": [],
   "source": [
    "def square(num):\n",
    "    return num**2"
   ]
  },
  {
   "cell_type": "code",
   "execution_count": null,
   "id": "cf9ea779",
   "metadata": {},
   "outputs": [],
   "source": [
    "my_nums=[1,2,3,4,5]\n",
    "for item in map(square,my_nums):\n",
    "    print (item)"
   ]
  },
  {
   "cell_type": "code",
   "execution_count": null,
   "id": "247d20c5",
   "metadata": {},
   "outputs": [],
   "source": [
    "list(map(square,my_nums))"
   ]
  },
  {
   "cell_type": "code",
   "execution_count": null,
   "id": "d87b2c45",
   "metadata": {},
   "outputs": [],
   "source": [
    "def splicer(mystring):\n",
    "    if len(mystring)%2==0:\n",
    "        return \"Even\"\n",
    "    else:\n",
    "        return mystring[0]\n",
    "names=[\"Andy\",\"Eve\",\"Sally\"]\n",
    "list(map(splicer,names))"
   ]
  },
  {
   "cell_type": "markdown",
   "id": "37f8cea4",
   "metadata": {},
   "source": []
  },
  {
   "cell_type": "markdown",
   "id": "dc7e6e41",
   "metadata": {},
   "source": [
    "#Filter Function"
   ]
  },
  {
   "cell_type": "code",
   "execution_count": null,
   "id": "0c4c2d07",
   "metadata": {},
   "outputs": [],
   "source": [
    "def check_even(num):\n",
    "    return (num%2==0)"
   ]
  },
  {
   "cell_type": "code",
   "execution_count": null,
   "id": "29b9e986",
   "metadata": {},
   "outputs": [],
   "source": [
    "mynums=[1,2,3,4,5,6]\n",
    "list(filter(check_even,mynums))"
   ]
  },
  {
   "cell_type": "code",
   "execution_count": null,
   "id": "78e6ae55",
   "metadata": {},
   "outputs": [],
   "source": [
    "for n in filter(check_even,mynums):\n",
    "    print (n)"
   ]
  },
  {
   "cell_type": "code",
   "execution_count": null,
   "id": "3e8f617d",
   "metadata": {},
   "outputs": [],
   "source": [
    "filter"
   ]
  },
  {
   "cell_type": "code",
   "execution_count": null,
   "id": "3293aaeb",
   "metadata": {},
   "outputs": [],
   "source": []
  },
  {
   "cell_type": "markdown",
   "id": "0d777132",
   "metadata": {},
   "source": [
    "#labda expression"
   ]
  },
  {
   "cell_type": "code",
   "execution_count": null,
   "id": "c1abc0da",
   "metadata": {},
   "outputs": [],
   "source": [
    "m=lambda num:num**2"
   ]
  },
  {
   "cell_type": "code",
   "execution_count": null,
   "id": "7d40a40e",
   "metadata": {},
   "outputs": [],
   "source": [
    "m(5)"
   ]
  },
  {
   "cell_type": "code",
   "execution_count": null,
   "id": "6f15f605",
   "metadata": {},
   "outputs": [],
   "source": [
    "k(4)"
   ]
  },
  {
   "cell_type": "code",
   "execution_count": null,
   "id": "9923bfa4",
   "metadata": {},
   "outputs": [],
   "source": [
    "b=lambda x, y:x + y\n",
    "print (b(2, 3))"
   ]
  },
  {
   "cell_type": "code",
   "execution_count": null,
   "id": "7c0f8e1b",
   "metadata": {},
   "outputs": [],
   "source": [
    "print (b(99,11))"
   ]
  },
  {
   "cell_type": "markdown",
   "id": "fe07ba83",
   "metadata": {},
   "source": [
    "#Combine"
   ]
  },
  {
   "cell_type": "code",
   "execution_count": null,
   "id": "397030ae",
   "metadata": {},
   "outputs": [],
   "source": [
    "names"
   ]
  },
  {
   "cell_type": "code",
   "execution_count": null,
   "id": "d94a24db",
   "metadata": {},
   "outputs": [],
   "source": [
    "b=(map(lambda x:x[0],names))\n",
    "print (list(b))"
   ]
  },
  {
   "cell_type": "code",
   "execution_count": null,
   "id": "8c60a043",
   "metadata": {},
   "outputs": [],
   "source": [
    "print(\"even nums:-\",list(filter(lambda num:(num%2==0),mynums)))"
   ]
  },
  {
   "cell_type": "code",
   "execution_count": null,
   "id": "146979e3",
   "metadata": {},
   "outputs": [],
   "source": [
    "print(\"odd nums:-\",list(filter(lambda num:(num%2!=0),mynums)))"
   ]
  },
  {
   "cell_type": "markdown",
   "id": "a315195f",
   "metadata": {},
   "source": [
    "#Nested Statements and scope"
   ]
  },
  {
   "cell_type": "code",
   "execution_count": null,
   "id": "ef4cf101",
   "metadata": {},
   "outputs": [],
   "source": [
    "#Nested Statements and Scope\n",
    "x=25\n",
    "def printer():\n",
    "    x=50\n",
    "    return x\n",
    "print(x)"
   ]
  },
  {
   "cell_type": "code",
   "execution_count": null,
   "id": "73eabcb6",
   "metadata": {},
   "outputs": [],
   "source": [
    "print(printer())"
   ]
  },
  {
   "cell_type": "markdown",
   "id": "74ccb22a",
   "metadata": {},
   "source": [
    "# LEGB RULE:-"
   ]
  },
  {
   "cell_type": "markdown",
   "id": "c2623c60",
   "metadata": {},
   "source": [
    "LEGB Rule:\n",
    "\n",
    "L: Local — Names assigned in any way within a function (def or lambda), and not declared global in that function.\n",
    "\n",
    "E: Enclosing function locals — Names in the local scope of any and all enclosing functions (def or lambda), from inner to outer.\n",
    "\n",
    "G: Global (module) — Names assigned at the top-level of a module file, or declared global in a def within the file.\n",
    "\n",
    "B: Built-in (Python) — Names preassigned in the built-in names module : open, range, SyntaxError,..."
   ]
  },
  {
   "cell_type": "code",
   "execution_count": null,
   "id": "1e5f1fe9",
   "metadata": {},
   "outputs": [],
   "source": []
  },
  {
   "cell_type": "code",
   "execution_count": null,
   "id": "93855dca",
   "metadata": {},
   "outputs": [],
   "source": [
    "#lambda num:num**2"
   ]
  },
  {
   "cell_type": "code",
   "execution_count": null,
   "id": "620f28f2",
   "metadata": {},
   "outputs": [],
   "source": [
    "#name=\"THIS IS A GLOBAL STRING\"\n",
    "\n",
    "def greet():\n",
    "    \n",
    "    #name='Sammy'\n",
    "    \n",
    "    def hello():\n",
    "        name=\"I am a Local\"\n",
    "        print (\"Hello!!! \"+ name)\n",
    "        \n",
    "    hello()\n",
    "    \n",
    "greet()"
   ]
  },
  {
   "cell_type": "code",
   "execution_count": null,
   "id": "30cce067",
   "metadata": {},
   "outputs": [],
   "source": [
    "print (\"Hello!!! \"+name)"
   ]
  },
  {
   "cell_type": "code",
   "execution_count": null,
   "id": "34c70415",
   "metadata": {},
   "outputs": [],
   "source": [
    "help(len)"
   ]
  },
  {
   "cell_type": "code",
   "execution_count": 134,
   "id": "dcd71196",
   "metadata": {},
   "outputs": [],
   "source": [
    "x=50\n",
    "\n",
    "def func(x):\n",
    "    #global x\n",
    "    print(f'X is {x}') # This will get printed first\n",
    "    \n",
    "     #LOCAL REASSIGNMENT ON A GLOBAL VARIABLE\n",
    "    x=200\n",
    "    \n",
    "    print(f'I just Globally Changed X to {x}') #This will get printed second\n",
    "    #return x"
   ]
  },
  {
   "cell_type": "code",
   "execution_count": 135,
   "id": "d57b0a8d",
   "metadata": {},
   "outputs": [
    {
     "name": "stdout",
     "output_type": "stream",
     "text": [
      "50\n"
     ]
    }
   ],
   "source": [
    "print(x)"
   ]
  },
  {
   "cell_type": "code",
   "execution_count": 136,
   "id": "2bf939d7",
   "metadata": {},
   "outputs": [
    {
     "name": "stdout",
     "output_type": "stream",
     "text": [
      "X is 50\n",
      "I just Locally Changed X to 200\n"
     ]
    }
   ],
   "source": [
    "x=func(x)"
   ]
  },
  {
   "cell_type": "code",
   "execution_count": 137,
   "id": "aba9cb27",
   "metadata": {},
   "outputs": [
    {
     "name": "stdout",
     "output_type": "stream",
     "text": [
      "None\n"
     ]
    }
   ],
   "source": [
    "print(x)"
   ]
  },
  {
   "cell_type": "code",
   "execution_count": 146,
   "id": "157d4efc",
   "metadata": {},
   "outputs": [],
   "source": [
    "x=50\n",
    "\n",
    "def func():\n",
    "    global x\n",
    "   # x=\"New value\"\n",
    "    print(f'X is {x}') # This will get printed first\n",
    "    \n",
    "     #LOCAL REASSIGNMENT ON A GLOBAL VARIABLE\n",
    "    x=\"New Value\"\n",
    "    \n",
    "    print(f'I just Globally Changed X to {x}') #This will get printed second\n",
    "    #return x"
   ]
  },
  {
   "cell_type": "code",
   "execution_count": 147,
   "id": "5eafadb1",
   "metadata": {},
   "outputs": [
    {
     "name": "stdout",
     "output_type": "stream",
     "text": [
      "50\n"
     ]
    }
   ],
   "source": [
    "print(x)"
   ]
  },
  {
   "cell_type": "code",
   "execution_count": 148,
   "id": "457b28c0",
   "metadata": {},
   "outputs": [
    {
     "name": "stdout",
     "output_type": "stream",
     "text": [
      "X is 50\n",
      "I just Globally Changed X to New Value\n"
     ]
    }
   ],
   "source": [
    "func()"
   ]
  },
  {
   "cell_type": "code",
   "execution_count": 149,
   "id": "bf847f17",
   "metadata": {},
   "outputs": [
    {
     "name": "stdout",
     "output_type": "stream",
     "text": [
      "New Value\n"
     ]
    }
   ],
   "source": [
    "print(x)"
   ]
  },
  {
   "cell_type": "code",
   "execution_count": 2,
   "id": "040c573e",
   "metadata": {},
   "outputs": [],
   "source": [
    "x=50\n",
    "\n",
    "def func():\n",
    "    #global x\n",
    "    x=\"New value\"\n",
    "    print(f'X is {x}') # This will get printed first\n",
    "    \n",
    "    #LOCAL REASSIGNMENT ON A GLOBAL VARIABLE\n",
    "    x=\"New Value\"\n",
    "    \n",
    "    print(f'I just Locally Changed X to {x}') #This will get printed second\n",
    "    return x"
   ]
  },
  {
   "cell_type": "code",
   "execution_count": 3,
   "id": "ed161a39",
   "metadata": {},
   "outputs": [
    {
     "name": "stdout",
     "output_type": "stream",
     "text": [
      "50\n"
     ]
    }
   ],
   "source": [
    "print(x)"
   ]
  },
  {
   "cell_type": "code",
   "execution_count": 4,
   "id": "de2b7d28",
   "metadata": {},
   "outputs": [
    {
     "name": "stdout",
     "output_type": "stream",
     "text": [
      "X is New value\n",
      "I just Locally Changed X to New Value\n"
     ]
    },
    {
     "data": {
      "text/plain": [
       "'New Value'"
      ]
     },
     "execution_count": 4,
     "metadata": {},
     "output_type": "execute_result"
    }
   ],
   "source": [
    "func()"
   ]
  },
  {
   "cell_type": "code",
   "execution_count": 5,
   "id": "2c6c34de",
   "metadata": {},
   "outputs": [
    {
     "name": "stdout",
     "output_type": "stream",
     "text": [
      "50\n"
     ]
    }
   ],
   "source": [
    "print (x)"
   ]
  },
  {
   "cell_type": "markdown",
   "id": "c5bd09b7",
   "metadata": {},
   "source": [
    "."
   ]
  },
  {
   "cell_type": "markdown",
   "id": "c8872da7",
   "metadata": {},
   "source": [
    "."
   ]
  },
  {
   "cell_type": "code",
   "execution_count": 10,
   "id": "f60e85fa",
   "metadata": {},
   "outputs": [
    {
     "name": "stdout",
     "output_type": "stream",
     "text": [
      "False\n"
     ]
    }
   ],
   "source": [
    "count=(\"Hello my name is Ram\").islower()\n",
    "print(count)"
   ]
  },
  {
   "cell_type": "code",
   "execution_count": null,
   "id": "f1c7734a",
   "metadata": {},
   "outputs": [],
   "source": []
  },
  {
   "cell_type": "code",
   "execution_count": 12,
   "id": "5a3dd8e5",
   "metadata": {},
   "outputs": [],
   "source": [
    "def ar_of_triangle(base,height):\n",
    "    return base*height/2"
   ]
  },
  {
   "cell_type": "code",
   "execution_count": 13,
   "id": "835a7380",
   "metadata": {},
   "outputs": [
    {
     "data": {
      "text/plain": [
       "7.5"
      ]
     },
     "execution_count": 13,
     "metadata": {},
     "output_type": "execute_result"
    }
   ],
   "source": [
    "ar_of_triangle(3,5)"
   ]
  },
  {
   "cell_type": "code",
   "execution_count": 14,
   "id": "4af26b75",
   "metadata": {},
   "outputs": [],
   "source": [
    "def ar_of_triangle(base,height):\n",
    "    print( base*height/2)"
   ]
  },
  {
   "cell_type": "code",
   "execution_count": 15,
   "id": "3b39e050",
   "metadata": {},
   "outputs": [
    {
     "name": "stdout",
     "output_type": "stream",
     "text": [
      "7.5\n"
     ]
    }
   ],
   "source": [
    "ar_of_triangle(5,3)"
   ]
  },
  {
   "cell_type": "code",
   "execution_count": null,
   "id": "8f755ba3",
   "metadata": {},
   "outputs": [],
   "source": []
  },
  {
   "cell_type": "code",
   "execution_count": 18,
   "id": "f276244a",
   "metadata": {},
   "outputs": [],
   "source": [
    "def get_sec(hour,minut,sec):\n",
    "    a = hour*60*60+minut*60+sec\n",
    "    return a"
   ]
  },
  {
   "cell_type": "code",
   "execution_count": 19,
   "id": "5efb0528",
   "metadata": {},
   "outputs": [
    {
     "data": {
      "text/plain": [
       "16374"
      ]
     },
     "execution_count": 19,
     "metadata": {},
     "output_type": "execute_result"
    }
   ],
   "source": [
    "get_sec(4,32,54)"
   ]
  },
  {
   "cell_type": "code",
   "execution_count": 32,
   "id": "71792f3a",
   "metadata": {},
   "outputs": [],
   "source": [
    "def accut_tym(a):\n",
    "    h = int(a/3600)\n",
    "    m = int((a - h*3600)/60)\n",
    "    s = (a - h*3600 - m*60)\n",
    "    return (h,m,s)"
   ]
  },
  {
   "cell_type": "code",
   "execution_count": 33,
   "id": "60eeb927",
   "metadata": {},
   "outputs": [
    {
     "data": {
      "text/plain": [
       "(4, 32, 54)"
      ]
     },
     "execution_count": 33,
     "metadata": {},
     "output_type": "execute_result"
    }
   ],
   "source": [
    "accut_tym(16374)"
   ]
  },
  {
   "cell_type": "code",
   "execution_count": null,
   "id": "81e441e6",
   "metadata": {},
   "outputs": [],
   "source": []
  },
  {
   "cell_type": "code",
   "execution_count": 40,
   "id": "0a27cf5e",
   "metadata": {},
   "outputs": [
    {
     "name": "stdout",
     "output_type": "stream",
     "text": [
      "Enter the desired name:- frd f\n",
      "frd f this is your desired name with the number of elements of 5\n",
      "Enter the desired name:- fdvf32456\n",
      "fdvf32456 this is your desired name with the number of elements of 9\n"
     ]
    }
   ],
   "source": [
    "name1 = input(\"Enter the desired name:- \")\n",
    "num1 = len(name1)\n",
    "print(f\"{name1} this is your desired name with the number of elements of {num1}\")\n",
    "\n",
    "name2 = input(\"Enter the desired name:- \")\n",
    "num2 = len(name2)\n",
    "print(f\"{name2} this is your desired name with the number of elements of {num2}\")\n"
   ]
  },
  {
   "cell_type": "code",
   "execution_count": 44,
   "id": "2e6c8e98",
   "metadata": {},
   "outputs": [
    {
     "name": "stdout",
     "output_type": "stream",
     "text": [
      "Your desires name is Apple with the length of 5\n",
      "Your desires name is gtrefd2435 with the length of 10\n"
     ]
    }
   ],
   "source": [
    "def naming_words(name):\n",
    "    num = len(name)\n",
    "    print(f\"Your desires name is {name} with the length of {num}\")\n",
    "naming_words(\"Apple\")\n",
    "naming_words(\"gtrefd2435\")"
   ]
  },
  {
   "cell_type": "code",
   "execution_count": null,
   "id": "1010c717",
   "metadata": {},
   "outputs": [],
   "source": []
  },
  {
   "cell_type": "code",
   "execution_count": 48,
   "id": "4b46ec5f",
   "metadata": {},
   "outputs": [
    {
     "name": "stdout",
     "output_type": "stream",
     "text": [
      "23\n",
      "23\n",
      "529\n",
      "12167\n",
      "279841\n",
      "6436343\n",
      "148035889\n",
      "3404825447\n",
      "78310985281\n",
      "1801152661463\n",
      "41426511213649\n",
      "952809757913927\n",
      "21914624432020321\n",
      "504036361936467383\n",
      "11592836324538749809\n",
      "266635235464391245607\n",
      "6132610415680998648961\n",
      "141050039560662968926103\n",
      "3244150909895248285300369\n",
      "74615470927590710561908487\n",
      "1716155831334586342923895201\n",
      "39471584120695485887249589623\n",
      "907846434775996175406740561329\n",
      "20880467999847912034355032910567\n"
     ]
    }
   ],
   "source": [
    "a= input()\n",
    "i=1\n",
    "for x in range(int(a)):\n",
    "    i=i*(23)\n",
    "    print(i)"
   ]
  },
  {
   "cell_type": "code",
   "execution_count": 50,
   "id": "5f474d2e",
   "metadata": {},
   "outputs": [
    {
     "name": "stdout",
     "output_type": "stream",
     "text": [
      "2\n",
      "1\n",
      "2\n"
     ]
    }
   ],
   "source": [
    "a = input(); y = 1\n",
    "\n",
    "for i in range(int(a)):\n",
    "    y = y*(i+1)\n",
    "    print(y)"
   ]
  },
  {
   "cell_type": "code",
   "execution_count": 54,
   "id": "c5dcdcdc",
   "metadata": {},
   "outputs": [
    {
     "data": {
      "text/plain": [
       "range(0, 9)"
      ]
     },
     "execution_count": 54,
     "metadata": {},
     "output_type": "execute_result"
    }
   ],
   "source": [
    "def a_s(d):\n",
    "    return range(int(d))\n",
    "a_s(9)"
   ]
  },
  {
   "cell_type": "code",
   "execution_count": null,
   "id": "88c7da29",
   "metadata": {},
   "outputs": [],
   "source": []
  },
  {
   "cell_type": "code",
   "execution_count": 62,
   "id": "8f70fdfe",
   "metadata": {},
   "outputs": [],
   "source": [
    "def fact(n):\n",
    "    a=1\n",
    "    for x in range(int(n)):\n",
    "        a=a*(x+1)\n",
    "    return a"
   ]
  },
  {
   "cell_type": "code",
   "execution_count": 65,
   "id": "050cecb1",
   "metadata": {},
   "outputs": [
    {
     "data": {
      "text/plain": [
       "120"
      ]
     },
     "execution_count": 65,
     "metadata": {},
     "output_type": "execute_result"
    }
   ],
   "source": [
    "fact(5)"
   ]
  },
  {
   "cell_type": "code",
   "execution_count": null,
   "id": "a6b98ad3",
   "metadata": {},
   "outputs": [],
   "source": []
  },
  {
   "cell_type": "code",
   "execution_count": 68,
   "id": "0c595e0f",
   "metadata": {},
   "outputs": [
    {
     "name": "stdout",
     "output_type": "stream",
     "text": [
      "5\n",
      "120\n"
     ]
    }
   ],
   "source": [
    "def fact(n):\n",
    "    a=1\n",
    "    for x in range(int(n)):\n",
    "        a=a*(x+1)\n",
    "    return a\n",
    "num = input()\n",
    "print(fact(num))"
   ]
  },
  {
   "cell_type": "code",
   "execution_count": null,
   "id": "9e2f34e0",
   "metadata": {},
   "outputs": [],
   "source": []
  },
  {
   "cell_type": "code",
   "execution_count": 73,
   "id": "73d36f52",
   "metadata": {},
   "outputs": [],
   "source": [
    "def seed_calculator(fountain_side,grasss_width):\n",
    "    fountain_area = fountain_side**2\n",
    "    total_area = (fountain_side + grasss_width*2)**2\n",
    "    grass_area = total_area - fountain_area #(amount of grass seed in g/sq.m)\n",
    "    seed = grass_area*35\n",
    "    seed = seed/1000\n",
    "    return seed"
   ]
  },
  {
   "cell_type": "code",
   "execution_count": 74,
   "id": "3efcebd0",
   "metadata": {},
   "outputs": [
    {
     "data": {
      "text/plain": [
       "3.92"
      ]
     },
     "execution_count": 74,
     "metadata": {},
     "output_type": "execute_result"
    }
   ],
   "source": [
    "seed_calculator(12,2)"
   ]
  },
  {
   "cell_type": "code",
   "execution_count": 75,
   "id": "65591a3f",
   "metadata": {},
   "outputs": [
    {
     "ename": "TypeError",
     "evalue": "'<' not supported between instances of 'int' and 'str'",
     "output_type": "error",
     "traceback": [
      "\u001b[1;31m---------------------------------------------------------------------------\u001b[0m",
      "\u001b[1;31mTypeError\u001b[0m                                 Traceback (most recent call last)",
      "Cell \u001b[1;32mIn[75], line 1\u001b[0m\n\u001b[1;32m----> 1\u001b[0m \u001b[38;5;28mprint\u001b[39m (\u001b[38;5;241m1\u001b[39m\u001b[38;5;241m<\u001b[39m\u001b[38;5;124m\"\u001b[39m\u001b[38;5;124m1\u001b[39m\u001b[38;5;124m\"\u001b[39m)\n",
      "\u001b[1;31mTypeError\u001b[0m: '<' not supported between instances of 'int' and 'str'"
     ]
    }
   ],
   "source": [
    "print (1<\"1\")"
   ]
  },
  {
   "cell_type": "code",
   "execution_count": 78,
   "id": "fd562b7e",
   "metadata": {},
   "outputs": [
    {
     "name": "stdout",
     "output_type": "stream",
     "text": [
      "True\n"
     ]
    }
   ],
   "source": [
    "print(\"Apple\"<\"Banana\" or \"Brown\"> \"Magenta\")"
   ]
  },
  {
   "cell_type": "code",
   "execution_count": 79,
   "id": "df84747f",
   "metadata": {},
   "outputs": [
    {
     "name": "stdout",
     "output_type": "stream",
     "text": [
      "True\n"
     ]
    }
   ],
   "source": [
    "print(not 32 == \"Apple\")"
   ]
  },
  {
   "cell_type": "code",
   "execution_count": 80,
   "id": "37328715",
   "metadata": {},
   "outputs": [],
   "source": [
    "def name_length(name):\n",
    "    if len(name)>=8:\n",
    "        print(\"name has 8 or more letters to satisfy.\")\n",
    "    else:\n",
    "        print(\"name has not enough letters.\")"
   ]
  },
  {
   "cell_type": "code",
   "execution_count": 81,
   "id": "511fa174",
   "metadata": {},
   "outputs": [
    {
     "name": "stdout",
     "output_type": "stream",
     "text": [
      "name has not enough letters.\n"
     ]
    }
   ],
   "source": [
    "name_length(\"Gian\")"
   ]
  },
  {
   "cell_type": "code",
   "execution_count": 82,
   "id": "0aa1797f",
   "metadata": {},
   "outputs": [
    {
     "name": "stdout",
     "output_type": "stream",
     "text": [
      "name has 8 or more letters to satisfy.\n"
     ]
    }
   ],
   "source": [
    "name_length(\"Divya Sapare\")"
   ]
  },
  {
   "cell_type": "code",
   "execution_count": 83,
   "id": "33b5ff66",
   "metadata": {},
   "outputs": [],
   "source": [
    "def name_length(name):\n",
    "    if len(name)%2 == 0:\n",
    "        print(\"name has even number of letters to satisfy.\")\n",
    "    else:\n",
    "        print(\"name has odd number of letters.\")"
   ]
  },
  {
   "cell_type": "code",
   "execution_count": 84,
   "id": "2a6013b9",
   "metadata": {},
   "outputs": [
    {
     "name": "stdout",
     "output_type": "stream",
     "text": [
      "name has odd number of letters.\n"
     ]
    }
   ],
   "source": [
    "name_length(\"Sunio\")"
   ]
  },
  {
   "cell_type": "code",
   "execution_count": 85,
   "id": "6f6af968",
   "metadata": {},
   "outputs": [
    {
     "name": "stdout",
     "output_type": "stream",
     "text": [
      "name has even number of letters to satisfy.\n"
     ]
    }
   ],
   "source": [
    "name_length(\"Nobita\")"
   ]
  },
  {
   "cell_type": "code",
   "execution_count": 86,
   "id": "eabfa9bd",
   "metadata": {},
   "outputs": [],
   "source": [
    "def numb(num):\n",
    "    if num%2 == 0:\n",
    "        print(f\"{num} is a even number.\")\n",
    "    else:\n",
    "        print(f'{num} is a odd number.')"
   ]
  },
  {
   "cell_type": "code",
   "execution_count": 87,
   "id": "2c371f44",
   "metadata": {},
   "outputs": [
    {
     "name": "stdout",
     "output_type": "stream",
     "text": [
      "5 is a odd number.\n"
     ]
    }
   ],
   "source": [
    "numb(5)"
   ]
  },
  {
   "cell_type": "code",
   "execution_count": 88,
   "id": "6d0f42f0",
   "metadata": {},
   "outputs": [
    {
     "name": "stdout",
     "output_type": "stream",
     "text": [
      "876540 is a even number.\n"
     ]
    }
   ],
   "source": [
    "numb(876540)"
   ]
  },
  {
   "cell_type": "code",
   "execution_count": null,
   "id": "2ec64fd4",
   "metadata": {},
   "outputs": [],
   "source": []
  },
  {
   "cell_type": "code",
   "execution_count": null,
   "id": "4b0ee7ae",
   "metadata": {},
   "outputs": [],
   "source": []
  },
  {
   "cell_type": "code",
   "execution_count": 89,
   "id": "a5f7b6a1",
   "metadata": {},
   "outputs": [
    {
     "name": "stdout",
     "output_type": "stream",
     "text": [
      "(0, 'fee')\n",
      "(1, 'aplle')\n",
      "(2, 'gsd')\n"
     ]
    }
   ],
   "source": [
    "for item in list(zip(range(3),[\"fee\",\"aplle\",'gsd'])):\n",
    "                 print(item)"
   ]
  },
  {
   "cell_type": "code",
   "execution_count": 91,
   "id": "8b16c818",
   "metadata": {},
   "outputs": [
    {
     "ename": "ValueError",
     "evalue": "zip() argument 2 is longer than argument 1",
     "output_type": "error",
     "traceback": [
      "\u001b[1;31m---------------------------------------------------------------------------\u001b[0m",
      "\u001b[1;31mValueError\u001b[0m                                Traceback (most recent call last)",
      "Cell \u001b[1;32mIn[91], line 1\u001b[0m\n\u001b[1;32m----> 1\u001b[0m \u001b[38;5;28mlist\u001b[39m(\u001b[38;5;28mzip\u001b[39m((\u001b[38;5;124m\"\u001b[39m\u001b[38;5;124ma\u001b[39m\u001b[38;5;124m\"\u001b[39m,\u001b[38;5;124m\"\u001b[39m\u001b[38;5;124mb\u001b[39m\u001b[38;5;124m\"\u001b[39m,\u001b[38;5;124m'\u001b[39m\u001b[38;5;124mc\u001b[39m\u001b[38;5;124m'\u001b[39m),(\u001b[38;5;124m\"\u001b[39m\u001b[38;5;124m1\u001b[39m\u001b[38;5;124m\"\u001b[39m,\u001b[38;5;124m'\u001b[39m\u001b[38;5;124m2\u001b[39m\u001b[38;5;124m'\u001b[39m,\u001b[38;5;124m\"\u001b[39m\u001b[38;5;124m3\u001b[39m\u001b[38;5;124m\"\u001b[39m,\u001b[38;5;124m'\u001b[39m\u001b[38;5;124m4\u001b[39m\u001b[38;5;124m'\u001b[39m), strict \u001b[38;5;241m=\u001b[39m \u001b[38;5;28;01mTrue\u001b[39;00m))\n",
      "\u001b[1;31mValueError\u001b[0m: zip() argument 2 is longer than argument 1"
     ]
    }
   ],
   "source": [
    "list(zip((\"a\",\"b\",'c'),(\"1\",'2',\"3\",'4'), strict = True))"
   ]
  },
  {
   "cell_type": "code",
   "execution_count": 92,
   "id": "1ec672be",
   "metadata": {},
   "outputs": [
    {
     "data": {
      "text/plain": [
       "[('a', '1'), ('b', '2'), ('c', '3')]"
      ]
     },
     "execution_count": 92,
     "metadata": {},
     "output_type": "execute_result"
    }
   ],
   "source": [
    "list(zip((\"a\",\"b\",'c'),(\"1\",'2',\"3\",'4')))"
   ]
  },
  {
   "cell_type": "code",
   "execution_count": null,
   "id": "0e00be5e",
   "metadata": {},
   "outputs": [],
   "source": []
  },
  {
   "cell_type": "code",
   "execution_count": null,
   "id": "a6809d7b",
   "metadata": {},
   "outputs": [],
   "source": []
  },
  {
   "cell_type": "code",
   "execution_count": null,
   "id": "c4ac2172",
   "metadata": {},
   "outputs": [],
   "source": []
  },
  {
   "cell_type": "code",
   "execution_count": null,
   "id": "bb35b9bf",
   "metadata": {},
   "outputs": [],
   "source": []
  },
  {
   "cell_type": "code",
   "execution_count": null,
   "id": "b71ca10a",
   "metadata": {},
   "outputs": [],
   "source": []
  },
  {
   "cell_type": "code",
   "execution_count": 8,
   "id": "89ebd218",
   "metadata": {},
   "outputs": [
    {
     "name": "stdout",
     "output_type": "stream",
     "text": [
      "Enter the value for which you are looking for factorial.- 10\n",
      "The factorial value for 10 is 362880\n"
     ]
    }
   ],
   "source": [
    "product = 1\n",
    "x = int(input(\"Enter the value for which you are looking for factorial.- \"))\n",
    "for a in range(1,x):\n",
    "        product = product*a\n",
    "print(f\"The factorial value for {x} is {product}\")"
   ]
  },
  {
   "cell_type": "code",
   "execution_count": null,
   "id": "ede75df8",
   "metadata": {},
   "outputs": [],
   "source": []
  },
  {
   "cell_type": "code",
   "execution_count": null,
   "id": "440e2810",
   "metadata": {},
   "outputs": [],
   "source": []
  },
  {
   "cell_type": "code",
   "execution_count": null,
   "id": "e032e279",
   "metadata": {},
   "outputs": [],
   "source": []
  },
  {
   "cell_type": "code",
   "execution_count": 11,
   "id": "b5a7495a",
   "metadata": {},
   "outputs": [
    {
     "ename": "TypeError",
     "evalue": "time.sleep() takes exactly one argument (0 given)",
     "output_type": "error",
     "traceback": [
      "\u001b[1;31m---------------------------------------------------------------------------\u001b[0m",
      "\u001b[1;31mTypeError\u001b[0m                                 Traceback (most recent call last)",
      "Cell \u001b[1;32mIn[11], line 2\u001b[0m\n\u001b[0;32m      1\u001b[0m \u001b[38;5;28;01mfrom\u001b[39;00m \u001b[38;5;21;01mtime\u001b[39;00m \u001b[38;5;28;01mimport\u001b[39;00m sleep\n\u001b[1;32m----> 2\u001b[0m sleep()\n",
      "\u001b[1;31mTypeError\u001b[0m: time.sleep() takes exactly one argument (0 given)"
     ]
    }
   ],
   "source": [
    "from time import sleep\n",
    "sleep()"
   ]
  },
  {
   "cell_type": "code",
   "execution_count": null,
   "id": "5522611a",
   "metadata": {},
   "outputs": [
    {
     "name": "stdout",
     "output_type": "stream",
     "text": [
      "Enter a time value in seconds5\n",
      "5\n",
      "4\n",
      "3\n",
      "2\n"
     ]
    }
   ],
   "source": [
    "from time import sleep\n",
    "\n",
    "n = int(input(\"Enter a time value in seconds:- \"))\n",
    "while n>=0:\n",
    "    print(n)\n",
    "    sleep(n)\n",
    "    n-=1"
   ]
  },
  {
   "cell_type": "code",
   "execution_count": null,
   "id": "9a319081",
   "metadata": {},
   "outputs": [],
   "source": []
  }
 ],
 "metadata": {
  "kernelspec": {
   "display_name": "Python 3 (ipykernel)",
   "language": "python",
   "name": "python3"
  },
  "language_info": {
   "codemirror_mode": {
    "name": "ipython",
    "version": 3
   },
   "file_extension": ".py",
   "mimetype": "text/x-python",
   "name": "python",
   "nbconvert_exporter": "python",
   "pygments_lexer": "ipython3",
   "version": "3.11.5"
  }
 },
 "nbformat": 4,
 "nbformat_minor": 5
}
