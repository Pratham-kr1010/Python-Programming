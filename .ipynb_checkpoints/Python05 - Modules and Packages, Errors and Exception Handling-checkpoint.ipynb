{
 "cells": [
  {
   "cell_type": "markdown",
   "id": "adeb5bf9",
   "metadata": {},
   "source": [
    "# Modules and Packages\n",
    "Modules - are just .py scripts that you can call in another .py script"
   ]
  },
  {
   "cell_type": "markdown",
   "id": "6118de9a",
   "metadata": {},
   "source": [
    "Packages - are a collection of modules"
   ]
  },
  {
   "cell_type": "markdown",
   "id": "e23a5015",
   "metadata": {},
   "source": [
    "# to sublime text editor software"
   ]
  },
  {
   "cell_type": "code",
   "execution_count": null,
   "id": "555050b1",
   "metadata": {},
   "outputs": [],
   "source": []
  },
  {
   "cell_type": "code",
   "execution_count": null,
   "id": "c07a7180",
   "metadata": {},
   "outputs": [],
   "source": []
  },
  {
   "cell_type": "markdown",
   "id": "2eb9334c",
   "metadata": {},
   "source": [
    "# Errors and Exception Handling"
   ]
  },
  {
   "cell_type": "markdown",
   "id": "652ff592",
   "metadata": {},
   "source": [
    "helps to report the part of the error and continue the programming"
   ]
  },
  {
   "cell_type": "markdown",
   "id": "42145431",
   "metadata": {},
   "source": [
    "There are only 3 keywords:\n",
    "1- \"try\"    :-Block of code to be attempted (may lead to an error).\n",
    "2- \"except\" :-Block of code will execute in case there is an error in try block.\n",
    "3- \"finally\":-Final block of code to be executed, regardless of an error. (Always get to run)"
   ]
  },
  {
   "cell_type": "code",
   "execution_count": 1,
   "id": "cfa7dab0",
   "metadata": {},
   "outputs": [],
   "source": [
    "def add(n1,n2):\n",
    "    print(n1+n2)"
   ]
  },
  {
   "cell_type": "code",
   "execution_count": 2,
   "id": "cb0734ac",
   "metadata": {},
   "outputs": [
    {
     "name": "stdout",
     "output_type": "stream",
     "text": [
      "74\n"
     ]
    }
   ],
   "source": [
    "add(32,42)"
   ]
  },
  {
   "cell_type": "code",
   "execution_count": 3,
   "id": "615f4808",
   "metadata": {},
   "outputs": [
    {
     "name": "stdout",
     "output_type": "stream",
     "text": [
      "Enter your number:- 23\n"
     ]
    }
   ],
   "source": [
    "no1 = 32\n",
    "no2 = input(\"Enter your number:- \")"
   ]
  },
  {
   "cell_type": "code",
   "execution_count": 5,
   "id": "f383d168",
   "metadata": {},
   "outputs": [
    {
     "name": "stdout",
     "output_type": "stream",
     "text": [
      "23\n"
     ]
    }
   ],
   "source": [
    "print(no2)"
   ]
  },
  {
   "cell_type": "code",
   "execution_count": 7,
   "id": "b6f750bf",
   "metadata": {},
   "outputs": [
    {
     "ename": "TypeError",
     "evalue": "unsupported operand type(s) for +: 'int' and 'str'",
     "output_type": "error",
     "traceback": [
      "\u001b[1;31m---------------------------------------------------------------------------\u001b[0m",
      "\u001b[1;31mTypeError\u001b[0m                                 Traceback (most recent call last)",
      "Cell \u001b[1;32mIn[7], line 1\u001b[0m\n\u001b[1;32m----> 1\u001b[0m add(no1,no2)\n\u001b[0;32m      2\u001b[0m \u001b[38;5;28mprint\u001b[39m(\u001b[38;5;124m\"\u001b[39m\u001b[38;5;124mThere is an apple on the tree\u001b[39m\u001b[38;5;124m\"\u001b[39m)\n",
      "Cell \u001b[1;32mIn[1], line 2\u001b[0m, in \u001b[0;36madd\u001b[1;34m(n1, n2)\u001b[0m\n\u001b[0;32m      1\u001b[0m \u001b[38;5;28;01mdef\u001b[39;00m \u001b[38;5;21madd\u001b[39m(n1,n2):\n\u001b[1;32m----> 2\u001b[0m     \u001b[38;5;28mprint\u001b[39m(n1\u001b[38;5;241m+\u001b[39mn2)\n",
      "\u001b[1;31mTypeError\u001b[0m: unsupported operand type(s) for +: 'int' and 'str'"
     ]
    }
   ],
   "source": [
    "add(no1,no2)\n",
    "print(\"There is an apple on the tree\")"
   ]
  },
  {
   "cell_type": "code",
   "execution_count": 16,
   "id": "d8de8bdd",
   "metadata": {},
   "outputs": [
    {
     "name": "stdout",
     "output_type": "stream",
     "text": [
      "Add went well!\n",
      "20\n"
     ]
    }
   ],
   "source": [
    "try:\n",
    "    #WANT TO ATTEMPT THIS CODE\n",
    "    #MAY HAVE AN ERROR\n",
    "    result = 10 + 10 #as there are two values are in int form so this will directly get executed\n",
    "except:\n",
    "    print(\"Hey it looks like you aren't adding correctly\")\n",
    "else: #and the function will run in this line\n",
    "    print(\"Add went well!\")\n",
    "    print (result)"
   ]
  },
  {
   "cell_type": "code",
   "execution_count": 9,
   "id": "a7b0f202",
   "metadata": {},
   "outputs": [
    {
     "data": {
      "text/plain": [
       "20"
      ]
     },
     "execution_count": 9,
     "metadata": {},
     "output_type": "execute_result"
    }
   ],
   "source": [
    "result"
   ]
  },
  {
   "cell_type": "code",
   "execution_count": 32,
   "id": "2a691efc",
   "metadata": {},
   "outputs": [
    {
     "name": "stdout",
     "output_type": "stream",
     "text": [
      "Hey it looks like you aren't adding correctly\n"
     ]
    }
   ],
   "source": [
    "try:\n",
    "    #WANT TO ATTEMPT THIS CODE\n",
    "    #MAY HAVE AN ERROR\n",
    "    result = 10 + \"10\" #in this line you can see that there is one integer and one string so this will throw an error and\n",
    "except:                #this line will get executed\n",
    "    print(\"Hey it looks like you aren't adding correctly\")\n",
    "else:\n",
    "    print(\"Add went well!\")\n",
    "    print(result)"
   ]
  },
  {
   "cell_type": "code",
   "execution_count": 35,
   "id": "5558f053",
   "metadata": {},
   "outputs": [
    {
     "name": "stdout",
     "output_type": "stream",
     "text": [
      "Add went well!\n",
      "20\n"
     ]
    }
   ],
   "source": [
    "try:\n",
    "    #WANT TO ATTEMPT THIS CODE\n",
    "    #MAY HAVE AN ERROR\n",
    "    result = 10 + 10 #in this line you can see that there is one integer and one string so this will throw an error and\n",
    "except:                #this line will get executed\n",
    "    print(\"Hey it looks like you aren't adding correctly\")\n",
    "else:\n",
    "    print(\"Add went well!\")\n",
    "    print(result)"
   ]
  },
  {
   "cell_type": "code",
   "execution_count": 29,
   "id": "6c7632d7",
   "metadata": {},
   "outputs": [
    {
     "name": "stdout",
     "output_type": "stream",
     "text": [
      "I always run\n"
     ]
    }
   ],
   "source": [
    "try:\n",
    "    f = open(\"testfile\",\"w\")\n",
    "    f.write(\"Write a test line\")\n",
    "except TypeError:\n",
    "    print(\"There was type error\")\n",
    "except OSError:\n",
    "    print (\"Hey you have an OS Error\")\n",
    "finally:\n",
    "    print(\"I always run\")"
   ]
  },
  {
   "cell_type": "code",
   "execution_count": 30,
   "id": "d299d045",
   "metadata": {},
   "outputs": [
    {
     "name": "stdout",
     "output_type": "stream",
     "text": [
      "Aa\n",
      "I always run\n"
     ]
    }
   ],
   "source": [
    "try:\n",
    "    f = open(\"testfile\",\"w\")\n",
    "    f.write(\"Write a test line\")\n",
    "except TypeError:\n",
    "    print(\"There was type error\")\n",
    "except OSError:\n",
    "    print (\"Hey you have an OS Error\")\n",
    "else:\n",
    "    print(\"Aa\")\n",
    "finally:\n",
    "    print(\"I always run\")"
   ]
  },
  {
   "cell_type": "code",
   "execution_count": 25,
   "id": "30a4604c",
   "metadata": {},
   "outputs": [
    {
     "name": "stdout",
     "output_type": "stream",
     "text": [
      "qw\n"
     ]
    }
   ],
   "source": [
    "try:\n",
    "    x= 33/0\n",
    "    print(x)\n",
    "except ZeroDivisionError :         #this will get executed when the error matches the except error.\n",
    "    print(\"qw\") #ZeroDivisionError\n",
    "else:\n",
    "    print(\"A\")"
   ]
  },
  {
   "cell_type": "code",
   "execution_count": 31,
   "id": "d58dc62e",
   "metadata": {},
   "outputs": [
    {
     "name": "stdout",
     "output_type": "stream",
     "text": [
      "Hey you have an OS Error\n",
      "I always run\n"
     ]
    }
   ],
   "source": [
    "try:\n",
    "    f = open(\"testfile\",\"r\")\n",
    "    f.write(\"Write a test line\")\n",
    "except TypeError:\n",
    "    print(\"There was type error\")\n",
    "except OSError:\n",
    "    print (\"Hey you have an OS Error\")\n",
    "else:\n",
    "    print(\"Aa\")\n",
    "finally:\n",
    "    print(\"I always run\")"
   ]
  },
  {
   "cell_type": "code",
   "execution_count": 37,
   "id": "a0021c00",
   "metadata": {},
   "outputs": [
    {
     "name": "stdout",
     "output_type": "stream",
     "text": [
      "I always run\n"
     ]
    }
   ],
   "source": [
    "try:\n",
    "    f = open(\"testfile\",\"w\")\n",
    "    f.write(\"Write a test line\")\n",
    "except TypeError:\n",
    "    print(\"There was type error\")\n",
    "except OSError:\n",
    "    print (\"Hey you have an OS Error\")\n",
    "finally:\n",
    "    print(\"I always run\")"
   ]
  },
  {
   "cell_type": "code",
   "execution_count": 56,
   "id": "25c3f841",
   "metadata": {},
   "outputs": [],
   "source": [
    "def ask_for_int():\n",
    "    try:\n",
    "        result = int(input(\"Enter the desired value:- \"))\n",
    "    except:\n",
    "        print(\"This is not an integer value\")\n",
    "    else:\n",
    "        print(\"This is an integer value\")\n",
    "    finally:\n",
    "        print(\"End of try/except/finally\")"
   ]
  },
  {
   "cell_type": "code",
   "execution_count": 57,
   "id": "ead4877b",
   "metadata": {},
   "outputs": [
    {
     "name": "stdout",
     "output_type": "stream",
     "text": [
      "Enter the desired value:- cd\n",
      "This is not an integer value\n",
      "End of try/except/finally\n"
     ]
    }
   ],
   "source": [
    "ask_for_int()"
   ]
  },
  {
   "cell_type": "code",
   "execution_count": 1,
   "id": "04ac9839",
   "metadata": {},
   "outputs": [],
   "source": [
    "def ask_for_int():\n",
    "    while True:\n",
    "        try:\n",
    "            result = int(input(\"Enter the desired value:- \"))\n",
    "        except:\n",
    "            print(\"This is not an integer value\")\n",
    "            continue\n",
    "        else:\n",
    "            print(\"This is an integer value\")\n",
    "        finally:\n",
    "            print(\"End of try/except/finally\")"
   ]
  },
  {
   "cell_type": "code",
   "execution_count": null,
   "id": "918a0193",
   "metadata": {},
   "outputs": [
    {
     "name": "stdout",
     "output_type": "stream",
     "text": [
      "Enter the desired value:- c\n",
      "This is not an integer value\n",
      "End of try/except/finally\n",
      "Enter the desired value:- s\n",
      "This is not an integer value\n",
      "End of try/except/finally\n",
      "Enter the desired value:- 3\n",
      "This is an integer value\n",
      "End of try/except/finally\n",
      "Enter the desired value:- 2\n",
      "This is an integer value\n",
      "End of try/except/finally\n",
      "This is not an integer value\n",
      "End of try/except/finally\n"
     ]
    }
   ],
   "source": [
    "ask_for_int()"
   ]
  },
  {
   "cell_type": "code",
   "execution_count": 1,
   "id": "27602023",
   "metadata": {},
   "outputs": [],
   "source": [
    "def ask_for_int():\n",
    "    while True:\n",
    "        try:\n",
    "            result = int(input(\"Enter the desired value:- \"))\n",
    "        except:\n",
    "            print(\"This is not an integer value\")\n",
    "        else:\n",
    "            print(\"This is an integer value\")\n",
    "            break #break keyword helps to break the loop\n",
    "        finally:\n",
    "            print(\"End of try/except/finally\")"
   ]
  },
  {
   "cell_type": "code",
   "execution_count": 2,
   "id": "b73647ad",
   "metadata": {},
   "outputs": [
    {
     "name": "stdout",
     "output_type": "stream",
     "text": [
      "Enter the desired value:- 789\n",
      "This is an integer value\n",
      "End of try/except/finally\n"
     ]
    }
   ],
   "source": [
    "ask_for_int()"
   ]
  },
  {
   "cell_type": "code",
   "execution_count": 1,
   "id": "5e3f1d54",
   "metadata": {},
   "outputs": [],
   "source": [
    "def ask_for_int():\n",
    "    while True:\n",
    "        try:\n",
    "            result = int(input(\"Enter the desired value:- \"))\n",
    "        except:\n",
    "            print(\"This is not an integer value\")\n",
    "            continue\n",
    "        else:\n",
    "            print(\"This is an integer value\")\n",
    "            break\n",
    "        finally:\n",
    "            print(\"End of try/except/finally\")"
   ]
  },
  {
   "cell_type": "code",
   "execution_count": 2,
   "id": "f7584bc3",
   "metadata": {},
   "outputs": [
    {
     "name": "stdout",
     "output_type": "stream",
     "text": [
      "Enter the desired value:- vgh\n",
      "This is not an integer value\n",
      "End of try/except/finally\n",
      "Enter the desired value:- 7\n",
      "This is an integer value\n",
      "End of try/except/finally\n"
     ]
    }
   ],
   "source": [
    "ask_for_int()"
   ]
  },
  {
   "cell_type": "code",
   "execution_count": 5,
   "id": "212749a7",
   "metadata": {},
   "outputs": [],
   "source": [
    "def ask_for_int():\n",
    "    while True:\n",
    "        try:\n",
    "            result = int(input(\"Enter the desired value:- \"))\n",
    "        except:\n",
    "            print(\"This is not an integer value\")\n",
    "            continue\n",
    "        else:\n",
    "            print(\"This is an integer value\")\n",
    "            break  #you don't need the finally keyword compulsarily"
   ]
  },
  {
   "cell_type": "code",
   "execution_count": 4,
   "id": "852bee00",
   "metadata": {},
   "outputs": [
    {
     "name": "stdout",
     "output_type": "stream",
     "text": [
      "Enter the desired value:- dc\n",
      "This is not an integer value\n",
      "Enter the desired value:- ads\n",
      "This is not an integer value\n",
      "Enter the desired value:- 3\n",
      "This is an integer value\n"
     ]
    }
   ],
   "source": [
    "ask_for_int()"
   ]
  },
  {
   "cell_type": "code",
   "execution_count": null,
   "id": "146c02a7",
   "metadata": {},
   "outputs": [],
   "source": []
  },
  {
   "cell_type": "code",
   "execution_count": null,
   "id": "9c048c7f",
   "metadata": {},
   "outputs": [],
   "source": []
  },
  {
   "cell_type": "code",
   "execution_count": 17,
   "id": "025d2017",
   "metadata": {},
   "outputs": [],
   "source": [
    "def int_sq():\n",
    "    a = input(\"Enter your value for a:- \")\n",
    "    b = input(\"Enter your value for b:- \")\n",
    "    c = input(\"Enter your value for c:- \")\n",
    "    try:\n",
    "        for i in ['a','b','c']:\n",
    "            print(i**2)\n",
    "    except TypeError:\n",
    "        print(\"Oops! You made a type error\")"
   ]
  },
  {
   "cell_type": "code",
   "execution_count": 18,
   "id": "36ae44c1",
   "metadata": {},
   "outputs": [
    {
     "name": "stdout",
     "output_type": "stream",
     "text": [
      "Enter your value for a:- 3\n",
      "Enter your value for b:- 5\n",
      "Enter your value for c:- 3\n",
      "Oops! You made a type error\n"
     ]
    }
   ],
   "source": [
    "int_sq()"
   ]
  },
  {
   "cell_type": "code",
   "execution_count": null,
   "id": "dfa2178d",
   "metadata": {},
   "outputs": [],
   "source": []
  },
  {
   "cell_type": "code",
   "execution_count": 22,
   "id": "23e5fa1e",
   "metadata": {},
   "outputs": [
    {
     "name": "stdout",
     "output_type": "stream",
     "text": [
      "Can'nt divide a number by 0\n",
      "All Done\n"
     ]
    }
   ],
   "source": [
    "x = 5\n",
    "y = 0\n",
    "try:\n",
    "    z = x/y\n",
    "    print( z)\n",
    "except:\n",
    "    print(\"Can'nt divide a number by 0\")\n",
    "    pass\n",
    "finally:\n",
    "    print(\"All Done\")"
   ]
  },
  {
   "cell_type": "markdown",
   "id": "dc5256ca",
   "metadata": {},
   "source": []
  },
  {
   "cell_type": "code",
   "execution_count": 5,
   "id": "37643d01",
   "metadata": {},
   "outputs": [],
   "source": [
    "def ask():\n",
    "    while True:\n",
    "        try:\n",
    "            a = int(input(\"Input an integer: \"))\n",
    "        except:\n",
    "            print(\"An error occurred! Please try again!\")\n",
    "            continue\n",
    "        else:\n",
    "            break\n",
    "    b=a**2\n",
    "    print (\"Thank you, your number square is: {}\".format(b))\n",
    "            "
   ]
  },
  {
   "cell_type": "code",
   "execution_count": 7,
   "id": "3429dd70",
   "metadata": {},
   "outputs": [
    {
     "name": "stdout",
     "output_type": "stream",
     "text": [
      "Input an integer: vd\n",
      "An error occurred! Please try again!\n",
      "Input an integer: 4\n",
      "Thank you, your number square is: 16\n"
     ]
    }
   ],
   "source": [
    "ask()"
   ]
  },
  {
   "cell_type": "markdown",
   "id": "f3dfe2b5",
   "metadata": {},
   "source": [
    "Input an integer: null\n",
    "An error occurred! Please try again!\n",
    "Input an integer: 2\n",
    "Thank you, your number squared is:  4"
   ]
  },
  {
   "cell_type": "code",
   "execution_count": null,
   "id": "6b47a758",
   "metadata": {},
   "outputs": [],
   "source": []
  }
 ],
 "metadata": {
  "kernelspec": {
   "display_name": "Python 3 (ipykernel)",
   "language": "python",
   "name": "python3"
  },
  "language_info": {
   "codemirror_mode": {
    "name": "ipython",
    "version": 3
   },
   "file_extension": ".py",
   "mimetype": "text/x-python",
   "name": "python",
   "nbconvert_exporter": "python",
   "pygments_lexer": "ipython3",
   "version": "3.11.5"
  }
 },
 "nbformat": 4,
 "nbformat_minor": 5
}
