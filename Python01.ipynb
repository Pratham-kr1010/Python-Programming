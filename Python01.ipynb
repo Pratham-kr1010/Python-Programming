{
 "cells": [
  {
   "cell_type": "code",
   "execution_count": 4,
   "id": "78a5bb9a",
   "metadata": {},
   "outputs": [
    {
     "name": "stdout",
     "output_type": "stream",
     "text": [
      "SunSunSunSunSun MoonMoonMoonMoonMoon\n"
     ]
    }
   ],
   "source": [
    "print('Sun'*5,'Moon'*5)"
   ]
  },
  {
   "cell_type": "code",
   "execution_count": 25,
   "id": "854d757e",
   "metadata": {},
   "outputs": [
    {
     "name": "stdout",
     "output_type": "stream",
     "text": [
      "a\n",
      "b\n",
      "c\n",
      "d\n",
      "e\n",
      "f\n",
      "g\n",
      "h\n",
      "i\n",
      "j\n",
      "k\n",
      "l\n",
      "m\n",
      "n\n",
      "o\n",
      "p\n",
      "q\n",
      "r\n",
      "s\n",
      "t\n",
      "u\n",
      "v\n",
      "w\n",
      "x\n",
      "y\n",
      "z\n"
     ]
    }
   ],
   "source": [
    "for i in range(ord('a'), ord('z') + 1):\n",
    "    print(chr(i))\n"
   ]
  },
  {
   "cell_type": "markdown",
   "id": "49f82a73",
   "metadata": {},
   "source": [
    "you can write notes"
   ]
  },
  {
   "cell_type": "code",
   "execution_count": 14,
   "id": "31556d69",
   "metadata": {},
   "outputs": [
    {
     "name": "stdout",
     "output_type": "stream",
     "text": [
      "26890\n"
     ]
    },
    {
     "ename": "TypeError",
     "evalue": "int() argument must be a string, a bytes-like object or a real number, not 'NoneType'",
     "output_type": "error",
     "traceback": [
      "\u001b[1;31m---------------------------------------------------------------------------\u001b[0m",
      "\u001b[1;31mTypeError\u001b[0m                                 Traceback (most recent call last)",
      "Cell \u001b[1;32mIn[14], line 1\u001b[0m\n\u001b[1;32m----> 1\u001b[0m \u001b[38;5;28mint\u001b[39m(\u001b[38;5;28mprint\u001b[39m(\u001b[38;5;241m5378\u001b[39m\u001b[38;5;241m*\u001b[39m\u001b[38;5;241m5\u001b[39m))\n",
      "\u001b[1;31mTypeError\u001b[0m: int() argument must be a string, a bytes-like object or a real number, not 'NoneType'"
     ]
    }
   ],
   "source": [
    "int(print(5378*5))"
   ]
  },
  {
   "cell_type": "code",
   "execution_count": 15,
   "id": "20699c8c",
   "metadata": {},
   "outputs": [
    {
     "data": {
      "text/plain": [
       "4.5"
      ]
     },
     "execution_count": 15,
     "metadata": {},
     "output_type": "execute_result"
    }
   ],
   "source": [
    "9/2"
   ]
  },
  {
   "cell_type": "code",
   "execution_count": 17,
   "id": "24f3483d",
   "metadata": {},
   "outputs": [
    {
     "name": "stdout",
     "output_type": "stream",
     "text": [
      "['Sammy', 'Frankie']\n"
     ]
    }
   ],
   "source": [
    "my_dogs=2\n",
    "my_dogs=[\"Sammy\",\"Frankie\"]\n",
    "print(my_dogs)"
   ]
  },
  {
   "cell_type": "code",
   "execution_count": 18,
   "id": "2b3b57f3",
   "metadata": {},
   "outputs": [
    {
     "data": {
      "text/plain": [
       "['Sammy', 'Frankie']"
      ]
     },
     "execution_count": 18,
     "metadata": {},
     "output_type": "execute_result"
    }
   ],
   "source": [
    "my_dogs"
   ]
  },
  {
   "cell_type": "code",
   "execution_count": 2,
   "id": "1b2ba668",
   "metadata": {},
   "outputs": [],
   "source": [
    "a=10"
   ]
  },
  {
   "cell_type": "code",
   "execution_count": 3,
   "id": "2508d824",
   "metadata": {},
   "outputs": [
    {
     "data": {
      "text/plain": [
       "10"
      ]
     },
     "execution_count": 3,
     "metadata": {},
     "output_type": "execute_result"
    }
   ],
   "source": [
    "a"
   ]
  },
  {
   "cell_type": "code",
   "execution_count": 4,
   "id": "3621bc7d",
   "metadata": {},
   "outputs": [
    {
     "data": {
      "text/plain": [
       "20"
      ]
     },
     "execution_count": 4,
     "metadata": {},
     "output_type": "execute_result"
    }
   ],
   "source": [
    "a+a"
   ]
  },
  {
   "cell_type": "code",
   "execution_count": 5,
   "id": "47be404f",
   "metadata": {},
   "outputs": [],
   "source": [
    "a=a+a"
   ]
  },
  {
   "cell_type": "code",
   "execution_count": 6,
   "id": "38ea04f3",
   "metadata": {},
   "outputs": [
    {
     "data": {
      "text/plain": [
       "20"
      ]
     },
     "execution_count": 6,
     "metadata": {},
     "output_type": "execute_result"
    }
   ],
   "source": [
    "a"
   ]
  },
  {
   "cell_type": "code",
   "execution_count": 7,
   "id": "40e79754",
   "metadata": {},
   "outputs": [
    {
     "data": {
      "text/plain": [
       "int"
      ]
     },
     "execution_count": 7,
     "metadata": {},
     "output_type": "execute_result"
    }
   ],
   "source": [
    "type(a)"
   ]
  },
  {
   "cell_type": "code",
   "execution_count": 8,
   "id": "07c3c21f",
   "metadata": {},
   "outputs": [],
   "source": [
    "a=23.12"
   ]
  },
  {
   "cell_type": "code",
   "execution_count": 9,
   "id": "9197ffd1",
   "metadata": {},
   "outputs": [
    {
     "data": {
      "text/plain": [
       "float"
      ]
     },
     "execution_count": 9,
     "metadata": {},
     "output_type": "execute_result"
    }
   ],
   "source": [
    "type(a)"
   ]
  },
  {
   "cell_type": "code",
   "execution_count": 10,
   "id": "fc7da8ff",
   "metadata": {},
   "outputs": [],
   "source": [
    "my_income=100\n",
    "tax_rate=0.1\n",
    "my_taxes=my_income*tax_rate"
   ]
  },
  {
   "cell_type": "code",
   "execution_count": null,
   "id": "c6ffdd70",
   "metadata": {},
   "outputs": [],
   "source": []
  },
  {
   "cell_type": "code",
   "execution_count": 13,
   "id": "ef7dd223",
   "metadata": {},
   "outputs": [
    {
     "data": {
      "text/plain": [
       "10"
      ]
     },
     "execution_count": 13,
     "metadata": {},
     "output_type": "execute_result"
    }
   ],
   "source": [
    "int (my_taxes)"
   ]
  },
  {
   "cell_type": "code",
   "execution_count": 14,
   "id": "2f0213cc",
   "metadata": {},
   "outputs": [
    {
     "data": {
      "text/plain": [
       "'hello'"
      ]
     },
     "execution_count": 14,
     "metadata": {},
     "output_type": "execute_result"
    }
   ],
   "source": [
    " 'hello'"
   ]
  },
  {
   "cell_type": "code",
   "execution_count": 15,
   "id": "35d06b1f",
   "metadata": {},
   "outputs": [
    {
     "data": {
      "text/plain": [
       "'This is also a string'"
      ]
     },
     "execution_count": 15,
     "metadata": {},
     "output_type": "execute_result"
    }
   ],
   "source": [
    "'This is also a string'"
   ]
  },
  {
   "cell_type": "code",
   "execution_count": 17,
   "id": "0242c781",
   "metadata": {},
   "outputs": [
    {
     "name": "stdout",
     "output_type": "stream",
     "text": [
      "I'm going on a run\n"
     ]
    }
   ],
   "source": [
    "print(\"I'm going on a run\")"
   ]
  },
  {
   "cell_type": "code",
   "execution_count": 21,
   "id": "753be6ac",
   "metadata": {},
   "outputs": [
    {
     "name": "stdout",
     "output_type": "stream",
     "text": [
      "hello world one\n",
      "hello world two\n"
     ]
    }
   ],
   "source": [
    "print(\"hello world one\")\n",
    "print(\"hello world two\")"
   ]
  },
  {
   "cell_type": "code",
   "execution_count": 25,
   "id": "e2d6aa2b",
   "metadata": {},
   "outputs": [
    {
     "name": "stdout",
     "output_type": "stream",
     "text": [
      "hello\n",
      "world\n"
     ]
    }
   ],
   "source": [
    "print('hello\\nworld')"
   ]
  },
  {
   "cell_type": "code",
   "execution_count": 24,
   "id": "c156555b",
   "metadata": {},
   "outputs": [
    {
     "name": "stdout",
     "output_type": "stream",
     "text": [
      "hello\tworld\n"
     ]
    }
   ],
   "source": [
    "print('hello\\tworld')"
   ]
  },
  {
   "cell_type": "code",
   "execution_count": 26,
   "id": "31b8077e",
   "metadata": {},
   "outputs": [
    {
     "data": {
      "text/plain": [
       "5"
      ]
     },
     "execution_count": 26,
     "metadata": {},
     "output_type": "execute_result"
    }
   ],
   "source": [
    "len('hello')"
   ]
  },
  {
   "cell_type": "code",
   "execution_count": 27,
   "id": "57326d3f",
   "metadata": {},
   "outputs": [
    {
     "data": {
      "text/plain": [
       "4"
      ]
     },
     "execution_count": 27,
     "metadata": {},
     "output_type": "execute_result"
    }
   ],
   "source": [
    "len(\"I am\")"
   ]
  },
  {
   "cell_type": "code",
   "execution_count": 28,
   "id": "b4c1c1ff",
   "metadata": {},
   "outputs": [],
   "source": [
    "mystring=\"Hello World\""
   ]
  },
  {
   "cell_type": "code",
   "execution_count": 29,
   "id": "f176fe85",
   "metadata": {},
   "outputs": [
    {
     "data": {
      "text/plain": [
       "'Hello World'"
      ]
     },
     "execution_count": 29,
     "metadata": {},
     "output_type": "execute_result"
    }
   ],
   "source": [
    "mystring"
   ]
  },
  {
   "cell_type": "code",
   "execution_count": 30,
   "id": "f046c076",
   "metadata": {},
   "outputs": [
    {
     "data": {
      "text/plain": [
       "'H'"
      ]
     },
     "execution_count": 30,
     "metadata": {},
     "output_type": "execute_result"
    }
   ],
   "source": [
    "mystring[0]"
   ]
  },
  {
   "cell_type": "code",
   "execution_count": 31,
   "id": "8edba3b4",
   "metadata": {},
   "outputs": [
    {
     "data": {
      "text/plain": [
       "'l'"
      ]
     },
     "execution_count": 31,
     "metadata": {},
     "output_type": "execute_result"
    }
   ],
   "source": [
    "mystring[-2]"
   ]
  },
  {
   "cell_type": "code",
   "execution_count": 32,
   "id": "f0d43830",
   "metadata": {},
   "outputs": [
    {
     "data": {
      "text/plain": [
       "'r'"
      ]
     },
     "execution_count": 32,
     "metadata": {},
     "output_type": "execute_result"
    }
   ],
   "source": [
    "mystring[-3]"
   ]
  },
  {
   "cell_type": "code",
   "execution_count": 33,
   "id": "9fb28b51",
   "metadata": {},
   "outputs": [
    {
     "data": {
      "text/plain": [
       "'l'"
      ]
     },
     "execution_count": 33,
     "metadata": {},
     "output_type": "execute_result"
    }
   ],
   "source": [
    "mystring[9]"
   ]
  },
  {
   "cell_type": "code",
   "execution_count": 34,
   "id": "97597554",
   "metadata": {},
   "outputs": [
    {
     "data": {
      "text/plain": [
       "'Hello World'"
      ]
     },
     "execution_count": 34,
     "metadata": {},
     "output_type": "execute_result"
    }
   ],
   "source": [
    "mystring"
   ]
  },
  {
   "cell_type": "code",
   "execution_count": 35,
   "id": "a3bfd072",
   "metadata": {},
   "outputs": [
    {
     "data": {
      "text/plain": [
       "'HloWrd'"
      ]
     },
     "execution_count": 35,
     "metadata": {},
     "output_type": "execute_result"
    }
   ],
   "source": [
    "mystring[0:11:2]"
   ]
  },
  {
   "cell_type": "code",
   "execution_count": 36,
   "id": "8efe926e",
   "metadata": {},
   "outputs": [],
   "source": [
    "apple=\"bus\""
   ]
  },
  {
   "cell_type": "code",
   "execution_count": 37,
   "id": "1ec0f224",
   "metadata": {},
   "outputs": [
    {
     "data": {
      "text/plain": [
       "'bus'"
      ]
     },
     "execution_count": 37,
     "metadata": {},
     "output_type": "execute_result"
    }
   ],
   "source": [
    "apple"
   ]
  },
  {
   "cell_type": "code",
   "execution_count": 38,
   "id": "a3bb21fd",
   "metadata": {},
   "outputs": [
    {
     "data": {
      "text/plain": [
       "'bus'"
      ]
     },
     "execution_count": 38,
     "metadata": {},
     "output_type": "execute_result"
    }
   ],
   "source": [
    "apple[0:4:1]"
   ]
  },
  {
   "cell_type": "code",
   "execution_count": 43,
   "id": "01a61159",
   "metadata": {},
   "outputs": [
    {
     "data": {
      "text/plain": [
       "'b'"
      ]
     },
     "execution_count": 43,
     "metadata": {},
     "output_type": "execute_result"
    }
   ],
   "source": [
    "apple[0:2:3]"
   ]
  },
  {
   "cell_type": "code",
   "execution_count": 44,
   "id": "e5d7305c",
   "metadata": {},
   "outputs": [],
   "source": [
    "name=\"PRATHAM\""
   ]
  },
  {
   "cell_type": "code",
   "execution_count": 45,
   "id": "3eaaaa7b",
   "metadata": {},
   "outputs": [
    {
     "data": {
      "text/plain": [
       "'PRATHAM'"
      ]
     },
     "execution_count": 45,
     "metadata": {},
     "output_type": "execute_result"
    }
   ],
   "source": [
    "name"
   ]
  },
  {
   "cell_type": "code",
   "execution_count": 46,
   "id": "651e03f6",
   "metadata": {},
   "outputs": [
    {
     "data": {
      "text/plain": [
       "'AT'"
      ]
     },
     "execution_count": 46,
     "metadata": {},
     "output_type": "execute_result"
    }
   ],
   "source": [
    "name[2:4:1]"
   ]
  },
  {
   "cell_type": "code",
   "execution_count": 47,
   "id": "76028f5d",
   "metadata": {},
   "outputs": [
    {
     "data": {
      "text/plain": [
       "'ATHAM'"
      ]
     },
     "execution_count": 47,
     "metadata": {},
     "output_type": "execute_result"
    }
   ],
   "source": [
    "name[2:]"
   ]
  },
  {
   "cell_type": "code",
   "execution_count": 48,
   "id": "11f40a33",
   "metadata": {},
   "outputs": [
    {
     "data": {
      "text/plain": [
       "'PRA'"
      ]
     },
     "execution_count": 48,
     "metadata": {},
     "output_type": "execute_result"
    }
   ],
   "source": [
    "name[:3]"
   ]
  },
  {
   "cell_type": "code",
   "execution_count": 49,
   "id": "15b8d236",
   "metadata": {},
   "outputs": [],
   "source": [
    "mystring='abcdefghijk'"
   ]
  },
  {
   "cell_type": "code",
   "execution_count": 50,
   "id": "63d36031",
   "metadata": {},
   "outputs": [
    {
     "data": {
      "text/plain": [
       "'abcdefghijk'"
      ]
     },
     "execution_count": 50,
     "metadata": {},
     "output_type": "execute_result"
    }
   ],
   "source": [
    "mystring"
   ]
  },
  {
   "cell_type": "code",
   "execution_count": 51,
   "id": "afd3b9e1",
   "metadata": {},
   "outputs": [
    {
     "data": {
      "text/plain": [
       "'def'"
      ]
     },
     "execution_count": 51,
     "metadata": {},
     "output_type": "execute_result"
    }
   ],
   "source": [
    "mystring[3:6]"
   ]
  },
  {
   "cell_type": "code",
   "execution_count": 52,
   "id": "92d1fa60",
   "metadata": {},
   "outputs": [
    {
     "data": {
      "text/plain": [
       "'bc'"
      ]
     },
     "execution_count": 52,
     "metadata": {},
     "output_type": "execute_result"
    }
   ],
   "source": [
    "mystring[1:3]"
   ]
  },
  {
   "cell_type": "code",
   "execution_count": 53,
   "id": "c4e768e0",
   "metadata": {},
   "outputs": [
    {
     "data": {
      "text/plain": [
       "'acegik'"
      ]
     },
     "execution_count": 53,
     "metadata": {},
     "output_type": "execute_result"
    }
   ],
   "source": [
    "mystring[::2]"
   ]
  },
  {
   "cell_type": "code",
   "execution_count": 54,
   "id": "873262b9",
   "metadata": {},
   "outputs": [
    {
     "data": {
      "text/plain": [
       "'PAHM'"
      ]
     },
     "execution_count": 54,
     "metadata": {},
     "output_type": "execute_result"
    }
   ],
   "source": [
    "name[::2]"
   ]
  },
  {
   "cell_type": "code",
   "execution_count": 57,
   "id": "3ad05b9f",
   "metadata": {},
   "outputs": [
    {
     "name": "stdout",
     "output_type": "stream",
     "text": [
      "HelloJosie\n"
     ]
    }
   ],
   "source": [
    "my_name='Josie'\n",
    "print('Hello' + my_name)"
   ]
  },
  {
   "cell_type": "code",
   "execution_count": 87,
   "id": "b8a2c263",
   "metadata": {},
   "outputs": [
    {
     "name": "stdout",
     "output_type": "stream",
     "text": [
      "Hello Jose\n"
     ]
    }
   ],
   "source": [
    "#.format method\n",
    "print(\"Hello {}\".format('Jose'))"
   ]
  },
  {
   "cell_type": "code",
   "execution_count": 64,
   "id": "c72c4b22",
   "metadata": {},
   "outputs": [
    {
     "name": "stdout",
     "output_type": "stream",
     "text": [
      "The fox brown quick\n"
     ]
    }
   ],
   "source": [
    "print (\"The {} {} {}\".format('fox','brown','quick'))"
   ]
  },
  {
   "cell_type": "code",
   "execution_count": 67,
   "id": "b8ccb37e",
   "metadata": {},
   "outputs": [
    {
     "name": "stdout",
     "output_type": "stream",
     "text": [
      "The quick brown fox\n"
     ]
    }
   ],
   "source": [
    "print(\"The {q} {b} {f}\".format(f='fox',b='brown',q='quick'))"
   ]
  },
  {
   "cell_type": "code",
   "execution_count": 68,
   "id": "73ff5bb8",
   "metadata": {},
   "outputs": [],
   "source": [
    "result=77/43"
   ]
  },
  {
   "cell_type": "code",
   "execution_count": 69,
   "id": "e28cd6da",
   "metadata": {},
   "outputs": [
    {
     "data": {
      "text/plain": [
       "1.7906976744186047"
      ]
     },
     "execution_count": 69,
     "metadata": {},
     "output_type": "execute_result"
    }
   ],
   "source": [
    "result"
   ]
  },
  {
   "cell_type": "code",
   "execution_count": 86,
   "id": "b4c68d78",
   "metadata": {},
   "outputs": [
    {
     "name": "stdout",
     "output_type": "stream",
     "text": [
      "The Result for 77/43 is 1.791\n"
     ]
    }
   ],
   "source": [
    "print ('The Result for 77/43 is {r:1.3f}'.format(r=result))"
   ]
  },
  {
   "cell_type": "code",
   "execution_count": null,
   "id": "f4b4ddf9",
   "metadata": {},
   "outputs": [],
   "source": []
  },
  {
   "cell_type": "code",
   "execution_count": null,
   "id": "f57f5489",
   "metadata": {},
   "outputs": [],
   "source": []
  },
  {
   "cell_type": "code",
   "execution_count": null,
   "id": "912277d2",
   "metadata": {},
   "outputs": [],
   "source": []
  },
  {
   "cell_type": "code",
   "execution_count": 89,
   "id": "198b3da6",
   "metadata": {},
   "outputs": [
    {
     "name": "stdout",
     "output_type": "stream",
     "text": [
      "Hello, his name is Jose\n"
     ]
    }
   ],
   "source": [
    "#f-string\n",
    "name=\"Jose\"\n",
    "print(f\"Hello, his name is {name}\")"
   ]
  },
  {
   "cell_type": "code",
   "execution_count": 101,
   "id": "4f2b5afa",
   "metadata": {},
   "outputs": [
    {
     "name": "stdout",
     "output_type": "stream",
     "text": [
      "Yuvi is 20 years old.\n"
     ]
    }
   ],
   "source": [
    "name=\"Yuvi\"\n",
    "age=int(float(20.2))\n",
    "print(f\"{name} is {age} years old.\")"
   ]
  },
  {
   "cell_type": "code",
   "execution_count": null,
   "id": "19306e4b",
   "metadata": {},
   "outputs": [],
   "source": []
  },
  {
   "cell_type": "code",
   "execution_count": null,
   "id": "3149bcac",
   "metadata": {},
   "outputs": [],
   "source": []
  },
  {
   "cell_type": "code",
   "execution_count": null,
   "id": "14df4531",
   "metadata": {},
   "outputs": [],
   "source": []
  },
  {
   "cell_type": "markdown",
   "id": "f254d6ec",
   "metadata": {},
   "source": [
    "#list"
   ]
  },
  {
   "cell_type": "code",
   "execution_count": 103,
   "id": "aff3a886",
   "metadata": {},
   "outputs": [],
   "source": [
    "my_list=[1,2,3,4,5]"
   ]
  },
  {
   "cell_type": "code",
   "execution_count": 104,
   "id": "c66d4525",
   "metadata": {},
   "outputs": [
    {
     "data": {
      "text/plain": [
       "5"
      ]
     },
     "execution_count": 104,
     "metadata": {},
     "output_type": "execute_result"
    }
   ],
   "source": [
    "len(my_list)"
   ]
  },
  {
   "cell_type": "code",
   "execution_count": 119,
   "id": "efa92ec5",
   "metadata": {},
   "outputs": [],
   "source": [
    "first_list=[\"One\",\"Two\",\"Three\"]"
   ]
  },
  {
   "cell_type": "code",
   "execution_count": 120,
   "id": "56e2abeb",
   "metadata": {},
   "outputs": [
    {
     "data": {
      "text/plain": [
       "['One', 'Two', 'Three']"
      ]
     },
     "execution_count": 120,
     "metadata": {},
     "output_type": "execute_result"
    }
   ],
   "source": [
    "first_list"
   ]
  },
  {
   "cell_type": "code",
   "execution_count": 121,
   "id": "676dea16",
   "metadata": {},
   "outputs": [
    {
     "name": "stdout",
     "output_type": "stream",
     "text": [
      "['One', 'Two', 'Three']\n"
     ]
    }
   ],
   "source": [
    "print(first_list)"
   ]
  },
  {
   "cell_type": "code",
   "execution_count": 122,
   "id": "c6408851",
   "metadata": {},
   "outputs": [],
   "source": [
    "second_list=[\"Four\",\"Five\"]"
   ]
  },
  {
   "cell_type": "code",
   "execution_count": 123,
   "id": "a6c6fc43",
   "metadata": {},
   "outputs": [
    {
     "data": {
      "text/plain": [
       "['Four', 'Five']"
      ]
     },
     "execution_count": 123,
     "metadata": {},
     "output_type": "execute_result"
    }
   ],
   "source": [
    "second_list"
   ]
  },
  {
   "cell_type": "code",
   "execution_count": 125,
   "id": "2eb11ed3",
   "metadata": {},
   "outputs": [
    {
     "data": {
      "text/plain": [
       "['Two', 'Three']"
      ]
     },
     "execution_count": 125,
     "metadata": {},
     "output_type": "execute_result"
    }
   ],
   "source": [
    "first_list[1:]"
   ]
  },
  {
   "cell_type": "code",
   "execution_count": 126,
   "id": "877cc8bb",
   "metadata": {},
   "outputs": [],
   "source": [
    "new_list=first_list+second_list"
   ]
  },
  {
   "cell_type": "code",
   "execution_count": 127,
   "id": "a02aaecf",
   "metadata": {},
   "outputs": [
    {
     "data": {
      "text/plain": [
       "['One', 'Two', 'Three', 'Four', 'Five']"
      ]
     },
     "execution_count": 127,
     "metadata": {},
     "output_type": "execute_result"
    }
   ],
   "source": [
    "new_list"
   ]
  },
  {
   "cell_type": "code",
   "execution_count": 138,
   "id": "643183f4",
   "metadata": {},
   "outputs": [],
   "source": [
    "new_list[0]='one'"
   ]
  },
  {
   "cell_type": "code",
   "execution_count": 139,
   "id": "af10470a",
   "metadata": {},
   "outputs": [
    {
     "data": {
      "text/plain": [
       "['one', 'Two', 'Three', 'Four', 'Five']"
      ]
     },
     "execution_count": 139,
     "metadata": {},
     "output_type": "execute_result"
    }
   ],
   "source": [
    "new_list"
   ]
  },
  {
   "cell_type": "code",
   "execution_count": 140,
   "id": "4a24219a",
   "metadata": {},
   "outputs": [
    {
     "data": {
      "text/plain": [
       "['Three', 'Four']"
      ]
     },
     "execution_count": 140,
     "metadata": {},
     "output_type": "execute_result"
    }
   ],
   "source": [
    "new_list[2:4]"
   ]
  },
  {
   "cell_type": "code",
   "execution_count": 144,
   "id": "4b98bbcc",
   "metadata": {},
   "outputs": [
    {
     "data": {
      "text/plain": [
       "2"
      ]
     },
     "execution_count": 144,
     "metadata": {},
     "output_type": "execute_result"
    }
   ],
   "source": [
    "len(second_list)"
   ]
  },
  {
   "cell_type": "code",
   "execution_count": 145,
   "id": "9b0414d1",
   "metadata": {},
   "outputs": [
    {
     "data": {
      "text/plain": [
       "['One']"
      ]
     },
     "execution_count": 145,
     "metadata": {},
     "output_type": "execute_result"
    }
   ],
   "source": [
    "first_list[0:1]"
   ]
  },
  {
   "cell_type": "code",
   "execution_count": 149,
   "id": "5513c0dc",
   "metadata": {},
   "outputs": [],
   "source": [
    "first_list[0]=1"
   ]
  },
  {
   "cell_type": "code",
   "execution_count": 150,
   "id": "43ea34d2",
   "metadata": {},
   "outputs": [],
   "source": [
    "new_list.append('Six')"
   ]
  },
  {
   "cell_type": "code",
   "execution_count": 151,
   "id": "60f188f3",
   "metadata": {},
   "outputs": [
    {
     "data": {
      "text/plain": [
       "['one', 'Two', 'Three', 'Four', 'Five', 'Six']"
      ]
     },
     "execution_count": 151,
     "metadata": {},
     "output_type": "execute_result"
    }
   ],
   "source": [
    "new_list"
   ]
  },
  {
   "cell_type": "code",
   "execution_count": 155,
   "id": "b0eedcf0",
   "metadata": {},
   "outputs": [],
   "source": [
    "new_list.append(\"Seven\")"
   ]
  },
  {
   "cell_type": "code",
   "execution_count": 156,
   "id": "28f6340e",
   "metadata": {},
   "outputs": [
    {
     "data": {
      "text/plain": [
       "['one', 'Two', 'Four', 'Five', 'Seven']"
      ]
     },
     "execution_count": 156,
     "metadata": {},
     "output_type": "execute_result"
    }
   ],
   "source": [
    "new_list"
   ]
  },
  {
   "cell_type": "code",
   "execution_count": 157,
   "id": "ccd5727c",
   "metadata": {},
   "outputs": [
    {
     "data": {
      "text/plain": [
       "'Seven'"
      ]
     },
     "execution_count": 157,
     "metadata": {},
     "output_type": "execute_result"
    }
   ],
   "source": [
    "new_list.pop()"
   ]
  },
  {
   "cell_type": "code",
   "execution_count": 159,
   "id": "ca6b3f88",
   "metadata": {},
   "outputs": [],
   "source": [
    "new_list.append(\"Six\")"
   ]
  },
  {
   "cell_type": "code",
   "execution_count": 160,
   "id": "93ce69fc",
   "metadata": {},
   "outputs": [],
   "source": [
    "new_list.append(\"Seven\")"
   ]
  },
  {
   "cell_type": "code",
   "execution_count": 161,
   "id": "07543a78",
   "metadata": {},
   "outputs": [
    {
     "data": {
      "text/plain": [
       "['one', 'Two', 'Four', 'Five', 'Six', 'Seven']"
      ]
     },
     "execution_count": 161,
     "metadata": {},
     "output_type": "execute_result"
    }
   ],
   "source": [
    "new_list"
   ]
  },
  {
   "cell_type": "code",
   "execution_count": 162,
   "id": "23fc1281",
   "metadata": {},
   "outputs": [],
   "source": [
    "new_list=['a','f','d','b','z','k']\n",
    "num_list=[5,2,6,8,2]"
   ]
  },
  {
   "cell_type": "code",
   "execution_count": 172,
   "id": "23dfb8cc",
   "metadata": {},
   "outputs": [],
   "source": [
    "new_list.sort()\n",
    "num_list.sort()"
   ]
  },
  {
   "cell_type": "code",
   "execution_count": 173,
   "id": "b1249453",
   "metadata": {},
   "outputs": [
    {
     "data": {
      "text/plain": [
       "['a', 'b', 'd', 'f', 'k', 'z']"
      ]
     },
     "execution_count": 173,
     "metadata": {},
     "output_type": "execute_result"
    }
   ],
   "source": [
    "new_list"
   ]
  },
  {
   "cell_type": "code",
   "execution_count": 174,
   "id": "80560e33",
   "metadata": {},
   "outputs": [
    {
     "data": {
      "text/plain": [
       "[2, 2, 5, 6, 8]"
      ]
     },
     "execution_count": 174,
     "metadata": {},
     "output_type": "execute_result"
    }
   ],
   "source": [
    "num_list"
   ]
  },
  {
   "cell_type": "code",
   "execution_count": 177,
   "id": "6d195733",
   "metadata": {},
   "outputs": [
    {
     "data": {
      "text/plain": [
       "5"
      ]
     },
     "execution_count": 177,
     "metadata": {},
     "output_type": "execute_result"
    }
   ],
   "source": [
    "len(num_list)"
   ]
  },
  {
   "cell_type": "code",
   "execution_count": 178,
   "id": "8490e7ee",
   "metadata": {},
   "outputs": [
    {
     "data": {
      "text/plain": [
       "6"
      ]
     },
     "execution_count": 178,
     "metadata": {},
     "output_type": "execute_result"
    }
   ],
   "source": [
    "len(new_list)"
   ]
  },
  {
   "cell_type": "code",
   "execution_count": 193,
   "id": "4e910826",
   "metadata": {},
   "outputs": [],
   "source": [
    "fruits=['Apple','Banana','Guava']"
   ]
  },
  {
   "cell_type": "code",
   "execution_count": 194,
   "id": "91b00576",
   "metadata": {},
   "outputs": [
    {
     "name": "stdout",
     "output_type": "stream",
     "text": [
      "['Apple']\n"
     ]
    }
   ],
   "source": [
    "print(fruits[:1])"
   ]
  },
  {
   "cell_type": "code",
   "execution_count": 187,
   "id": "d87441da",
   "metadata": {},
   "outputs": [
    {
     "data": {
      "text/plain": [
       "('Apple',)"
      ]
     },
     "execution_count": 187,
     "metadata": {},
     "output_type": "execute_result"
    }
   ],
   "source": [
    "fruits[0:1]"
   ]
  },
  {
   "cell_type": "code",
   "execution_count": 191,
   "id": "8ae67677",
   "metadata": {},
   "outputs": [],
   "source": [
    "first_list[0]=\"One\""
   ]
  },
  {
   "cell_type": "code",
   "execution_count": 192,
   "id": "b3482e07",
   "metadata": {},
   "outputs": [
    {
     "data": {
      "text/plain": [
       "['One']"
      ]
     },
     "execution_count": 192,
     "metadata": {},
     "output_type": "execute_result"
    }
   ],
   "source": [
    "first_list[0:1]"
   ]
  },
  {
   "cell_type": "code",
   "execution_count": 195,
   "id": "67c629c1",
   "metadata": {},
   "outputs": [],
   "source": [
    "copy_of_first_list=first_list.copy()"
   ]
  },
  {
   "cell_type": "code",
   "execution_count": 196,
   "id": "5d7a1beb",
   "metadata": {},
   "outputs": [
    {
     "data": {
      "text/plain": [
       "['One', 'Two', 'Three']"
      ]
     },
     "execution_count": 196,
     "metadata": {},
     "output_type": "execute_result"
    }
   ],
   "source": [
    "copy_of_first_list"
   ]
  },
  {
   "cell_type": "code",
   "execution_count": 197,
   "id": "2c0b6503",
   "metadata": {},
   "outputs": [
    {
     "data": {
      "text/plain": [
       "['One', 'Two', 'Three']"
      ]
     },
     "execution_count": 197,
     "metadata": {},
     "output_type": "execute_result"
    }
   ],
   "source": [
    "first_list"
   ]
  },
  {
   "cell_type": "code",
   "execution_count": 201,
   "id": "c2a7221a",
   "metadata": {},
   "outputs": [
    {
     "data": {
      "text/plain": [
       "'One'"
      ]
     },
     "execution_count": 201,
     "metadata": {},
     "output_type": "execute_result"
    }
   ],
   "source": [
    "first_list[0]"
   ]
  },
  {
   "cell_type": "code",
   "execution_count": 205,
   "id": "ced0865d",
   "metadata": {},
   "outputs": [],
   "source": [
    "first_list.reverse()"
   ]
  },
  {
   "cell_type": "code",
   "execution_count": 206,
   "id": "a5a3945c",
   "metadata": {},
   "outputs": [
    {
     "data": {
      "text/plain": [
       "['Three', 'Two', 'One']"
      ]
     },
     "execution_count": 206,
     "metadata": {},
     "output_type": "execute_result"
    }
   ],
   "source": [
    "first_list"
   ]
  },
  {
   "cell_type": "code",
   "execution_count": 208,
   "id": "fbe091a8",
   "metadata": {},
   "outputs": [],
   "source": [
    "first_list.reverse()"
   ]
  },
  {
   "cell_type": "code",
   "execution_count": 209,
   "id": "f20829e0",
   "metadata": {},
   "outputs": [],
   "source": [
    "first_list.remove('One')"
   ]
  },
  {
   "cell_type": "code",
   "execution_count": 210,
   "id": "7ecfce89",
   "metadata": {},
   "outputs": [
    {
     "data": {
      "text/plain": [
       "['Two', 'Three']"
      ]
     },
     "execution_count": 210,
     "metadata": {},
     "output_type": "execute_result"
    }
   ],
   "source": [
    "first_list"
   ]
  },
  {
   "cell_type": "code",
   "execution_count": 211,
   "id": "906d0492",
   "metadata": {},
   "outputs": [
    {
     "data": {
      "text/plain": [
       "['a', 'b', 'd', 'f', 'k', 'z']"
      ]
     },
     "execution_count": 211,
     "metadata": {},
     "output_type": "execute_result"
    }
   ],
   "source": [
    "new_list"
   ]
  },
  {
   "cell_type": "code",
   "execution_count": 220,
   "id": "ecc66fb2",
   "metadata": {},
   "outputs": [],
   "source": [
    "new_list=['One', 'Two', 'Four', 'Five', 'Six', 'Seven']"
   ]
  },
  {
   "cell_type": "code",
   "execution_count": 221,
   "id": "8be6b899",
   "metadata": {},
   "outputs": [
    {
     "data": {
      "text/plain": [
       "['One', 'Two', 'Four', 'Five', 'Six', 'Seven']"
      ]
     },
     "execution_count": 221,
     "metadata": {},
     "output_type": "execute_result"
    }
   ],
   "source": [
    "new_list"
   ]
  },
  {
   "cell_type": "code",
   "execution_count": 222,
   "id": "7137d6d9",
   "metadata": {},
   "outputs": [],
   "source": [
    "new_list.append(\"Three\")"
   ]
  },
  {
   "cell_type": "code",
   "execution_count": 223,
   "id": "49258300",
   "metadata": {},
   "outputs": [
    {
     "data": {
      "text/plain": [
       "['One', 'Two', 'Four', 'Five', 'Six', 'Seven', 'Three']"
      ]
     },
     "execution_count": 223,
     "metadata": {},
     "output_type": "execute_result"
    }
   ],
   "source": [
    "new_list"
   ]
  },
  {
   "cell_type": "code",
   "execution_count": 224,
   "id": "7bd7cb14",
   "metadata": {},
   "outputs": [],
   "source": [
    "new_list.sort()"
   ]
  },
  {
   "cell_type": "code",
   "execution_count": 225,
   "id": "637c6514",
   "metadata": {},
   "outputs": [
    {
     "data": {
      "text/plain": [
       "['Five', 'Four', 'One', 'Seven', 'Six', 'Three', 'Two']"
      ]
     },
     "execution_count": 225,
     "metadata": {},
     "output_type": "execute_result"
    }
   ],
   "source": [
    "new_list"
   ]
  },
  {
   "cell_type": "code",
   "execution_count": 226,
   "id": "3d866eae",
   "metadata": {},
   "outputs": [
    {
     "data": {
      "text/plain": [
       "[2, 2, 5, 6, 8]"
      ]
     },
     "execution_count": 226,
     "metadata": {},
     "output_type": "execute_result"
    }
   ],
   "source": [
    "num_list"
   ]
  },
  {
   "cell_type": "code",
   "execution_count": 227,
   "id": "26132613",
   "metadata": {},
   "outputs": [],
   "source": [
    "num_list=[8,43,654,7,2,8,0]"
   ]
  },
  {
   "cell_type": "code",
   "execution_count": 228,
   "id": "befea783",
   "metadata": {},
   "outputs": [],
   "source": [
    "num_list.sort()"
   ]
  },
  {
   "cell_type": "code",
   "execution_count": 229,
   "id": "25571028",
   "metadata": {},
   "outputs": [
    {
     "data": {
      "text/plain": [
       "[0, 2, 7, 8, 8, 43, 654]"
      ]
     },
     "execution_count": 229,
     "metadata": {},
     "output_type": "execute_result"
    }
   ],
   "source": [
    "num_list"
   ]
  },
  {
   "cell_type": "code",
   "execution_count": 233,
   "id": "50d09b0b",
   "metadata": {},
   "outputs": [
    {
     "data": {
      "text/plain": [
       "3"
      ]
     },
     "execution_count": 233,
     "metadata": {},
     "output_type": "execute_result"
    }
   ],
   "source": [
    "new_list.index(\"Seven\")"
   ]
  },
  {
   "cell_type": "code",
   "execution_count": 235,
   "id": "0a7274dc",
   "metadata": {},
   "outputs": [],
   "source": [
    "new_list=[\"One\",\"Two\",\"Three\",\"Four\",\"Five\",\"Six\",\"Seven\",\"Eight\",\"Nine\",\"Ten\"]"
   ]
  },
  {
   "cell_type": "code",
   "execution_count": 236,
   "id": "397e7971",
   "metadata": {},
   "outputs": [
    {
     "data": {
      "text/plain": [
       "['One', 'Two', 'Three', 'Four', 'Five', 'Six', 'Seven', 'Eight', 'Nine', 'Ten']"
      ]
     },
     "execution_count": 236,
     "metadata": {},
     "output_type": "execute_result"
    }
   ],
   "source": [
    "new_list"
   ]
  },
  {
   "cell_type": "code",
   "execution_count": 237,
   "id": "70809196",
   "metadata": {},
   "outputs": [],
   "source": [
    "popped_item=new_list.pop()"
   ]
  },
  {
   "cell_type": "code",
   "execution_count": 238,
   "id": "c2157b7e",
   "metadata": {},
   "outputs": [
    {
     "data": {
      "text/plain": [
       "'Ten'"
      ]
     },
     "execution_count": 238,
     "metadata": {},
     "output_type": "execute_result"
    }
   ],
   "source": [
    "popped_item"
   ]
  },
  {
   "cell_type": "code",
   "execution_count": 239,
   "id": "7030d339",
   "metadata": {},
   "outputs": [],
   "source": [
    "new_list.append(\"Ten\")"
   ]
  },
  {
   "cell_type": "code",
   "execution_count": 240,
   "id": "22492a9a",
   "metadata": {},
   "outputs": [
    {
     "data": {
      "text/plain": [
       "['One', 'Two', 'Three', 'Four', 'Five', 'Six', 'Seven', 'Eight', 'Nine', 'Ten']"
      ]
     },
     "execution_count": 240,
     "metadata": {},
     "output_type": "execute_result"
    }
   ],
   "source": [
    "new_list"
   ]
  },
  {
   "cell_type": "code",
   "execution_count": 241,
   "id": "fc5d837b",
   "metadata": {},
   "outputs": [
    {
     "data": {
      "text/plain": [
       "'One'"
      ]
     },
     "execution_count": 241,
     "metadata": {},
     "output_type": "execute_result"
    }
   ],
   "source": [
    "new_list.pop(0)"
   ]
  },
  {
   "cell_type": "code",
   "execution_count": 282,
   "id": "b76e8dec",
   "metadata": {},
   "outputs": [],
   "source": [
    "new_list=['q','f','e','s','h','r']\n",
    "num_list=[3,1,5,7,4]"
   ]
  },
  {
   "cell_type": "code",
   "execution_count": 283,
   "id": "1d45d494",
   "metadata": {},
   "outputs": [
    {
     "data": {
      "text/plain": [
       "list"
      ]
     },
     "execution_count": 283,
     "metadata": {},
     "output_type": "execute_result"
    }
   ],
   "source": [
    "type(new_list)"
   ]
  },
  {
   "cell_type": "code",
   "execution_count": 284,
   "id": "aa7e879c",
   "metadata": {},
   "outputs": [
    {
     "data": {
      "text/plain": [
       "list"
      ]
     },
     "execution_count": 284,
     "metadata": {},
     "output_type": "execute_result"
    }
   ],
   "source": [
    "type(num_list)"
   ]
  },
  {
   "cell_type": "code",
   "execution_count": 285,
   "id": "ec693ba7",
   "metadata": {},
   "outputs": [],
   "source": [
    "new_list.sort()"
   ]
  },
  {
   "cell_type": "code",
   "execution_count": 286,
   "id": "7eebbdd0",
   "metadata": {},
   "outputs": [
    {
     "data": {
      "text/plain": [
       "['e', 'f', 'h', 'q', 'r', 's']"
      ]
     },
     "execution_count": 286,
     "metadata": {},
     "output_type": "execute_result"
    }
   ],
   "source": [
    "new_list"
   ]
  },
  {
   "cell_type": "code",
   "execution_count": 287,
   "id": "34a3399a",
   "metadata": {},
   "outputs": [],
   "source": [
    "num_list.sort()"
   ]
  },
  {
   "cell_type": "code",
   "execution_count": 288,
   "id": "50d1be21",
   "metadata": {},
   "outputs": [
    {
     "data": {
      "text/plain": [
       "[1, 3, 4, 5, 7]"
      ]
     },
     "execution_count": 288,
     "metadata": {},
     "output_type": "execute_result"
    }
   ],
   "source": [
    "num_list"
   ]
  },
  {
   "cell_type": "code",
   "execution_count": 289,
   "id": "9d1e835c",
   "metadata": {},
   "outputs": [],
   "source": [
    "sorted_list=num_list.sort()"
   ]
  },
  {
   "cell_type": "code",
   "execution_count": 294,
   "id": "e236f661",
   "metadata": {},
   "outputs": [
    {
     "data": {
      "text/plain": [
       "7"
      ]
     },
     "execution_count": 294,
     "metadata": {},
     "output_type": "execute_result"
    }
   ],
   "source": [
    "num_list.pop()"
   ]
  },
  {
   "cell_type": "code",
   "execution_count": 295,
   "id": "8b94682f",
   "metadata": {},
   "outputs": [
    {
     "data": {
      "text/plain": [
       "[1, 3, 4, 5]"
      ]
     },
     "execution_count": 295,
     "metadata": {},
     "output_type": "execute_result"
    }
   ],
   "source": [
    "num_list"
   ]
  },
  {
   "cell_type": "code",
   "execution_count": 301,
   "id": "12b1c950",
   "metadata": {},
   "outputs": [
    {
     "data": {
      "text/plain": [
       "'h'"
      ]
     },
     "execution_count": 301,
     "metadata": {},
     "output_type": "execute_result"
    }
   ],
   "source": [
    "new_list.pop(2)"
   ]
  },
  {
   "cell_type": "code",
   "execution_count": 302,
   "id": "8eb39280",
   "metadata": {},
   "outputs": [
    {
     "data": {
      "text/plain": [
       "['e', 'f', 'q', 'r', 's']"
      ]
     },
     "execution_count": 302,
     "metadata": {},
     "output_type": "execute_result"
    }
   ],
   "source": [
    "new_list"
   ]
  },
  {
   "cell_type": "code",
   "execution_count": 308,
   "id": "e40c8a01",
   "metadata": {},
   "outputs": [
    {
     "data": {
      "text/plain": [
       "['e', 'q']"
      ]
     },
     "execution_count": 308,
     "metadata": {},
     "output_type": "execute_result"
    }
   ],
   "source": [
    "new_list[0:4:2]"
   ]
  },
  {
   "cell_type": "code",
   "execution_count": 309,
   "id": "41cc6cef",
   "metadata": {},
   "outputs": [],
   "source": [
    "asd=[2,34,2,[5,3,[5,4,2]]]"
   ]
  },
  {
   "cell_type": "code",
   "execution_count": 313,
   "id": "4ca82822",
   "metadata": {},
   "outputs": [
    {
     "name": "stdout",
     "output_type": "stream",
     "text": [
      "2\n"
     ]
    }
   ],
   "source": [
    "print(asd[3][2][2])"
   ]
  },
  {
   "cell_type": "code",
   "execution_count": 314,
   "id": "7fec2ac1",
   "metadata": {},
   "outputs": [
    {
     "data": {
      "text/plain": [
       "2"
      ]
     },
     "execution_count": 314,
     "metadata": {},
     "output_type": "execute_result"
    }
   ],
   "source": [
    "asd[3][2][2]"
   ]
  },
  {
   "cell_type": "markdown",
   "id": "aec4b803",
   "metadata": {},
   "source": [
    "dictionary"
   ]
  },
  {
   "cell_type": "code",
   "execution_count": 317,
   "id": "d739a10c",
   "metadata": {},
   "outputs": [],
   "source": [
    "my_dict={'key1':'value1','key2':'value2'}"
   ]
  },
  {
   "cell_type": "code",
   "execution_count": 318,
   "id": "9fe373f4",
   "metadata": {},
   "outputs": [
    {
     "data": {
      "text/plain": [
       "{'key1': 'value1', 'key2': 'value2'}"
      ]
     },
     "execution_count": 318,
     "metadata": {},
     "output_type": "execute_result"
    }
   ],
   "source": [
    "my_dict"
   ]
  },
  {
   "cell_type": "code",
   "execution_count": 319,
   "id": "b249ed93",
   "metadata": {},
   "outputs": [
    {
     "data": {
      "text/plain": [
       "'value1'"
      ]
     },
     "execution_count": 319,
     "metadata": {},
     "output_type": "execute_result"
    }
   ],
   "source": [
    "my_dict['key1']"
   ]
  },
  {
   "cell_type": "code",
   "execution_count": 325,
   "id": "d6b81321",
   "metadata": {},
   "outputs": [],
   "source": [
    "prices_lookup={'apple':'80 per kg','oranges':'50 per kg','milk':'55 per ltr'}"
   ]
  },
  {
   "cell_type": "code",
   "execution_count": 324,
   "id": "ff123df3",
   "metadata": {},
   "outputs": [],
   "source": [
    "prices_lookup={'apple':80,'oranges':50,'milk':55}"
   ]
  },
  {
   "cell_type": "code",
   "execution_count": 339,
   "id": "0b0bb432",
   "metadata": {},
   "outputs": [],
   "source": [
    "prices_lookup={'apple':'80/-kg','oranges':'50/-kg','milk':'55/-ltr'}"
   ]
  },
  {
   "cell_type": "code",
   "execution_count": 340,
   "id": "964912df",
   "metadata": {},
   "outputs": [
    {
     "name": "stdout",
     "output_type": "stream",
     "text": [
      "80/-kg\n"
     ]
    }
   ],
   "source": [
    "print(prices_lookup['apple'])"
   ]
  },
  {
   "cell_type": "code",
   "execution_count": 347,
   "id": "3654d937",
   "metadata": {},
   "outputs": [
    {
     "data": {
      "text/plain": [
       "'80/-kg'"
      ]
     },
     "execution_count": 347,
     "metadata": {},
     "output_type": "execute_result"
    }
   ],
   "source": [
    "prices_lookup['apple']"
   ]
  },
  {
   "cell_type": "code",
   "execution_count": 368,
   "id": "68ab8627",
   "metadata": {},
   "outputs": [],
   "source": [
    "d={'k1':123,'k2':[0,1,2],'k3':{'insidekey':100}}"
   ]
  },
  {
   "cell_type": "code",
   "execution_count": 350,
   "id": "ecc3e4ba",
   "metadata": {},
   "outputs": [
    {
     "data": {
      "text/plain": [
       "123"
      ]
     },
     "execution_count": 350,
     "metadata": {},
     "output_type": "execute_result"
    }
   ],
   "source": [
    "d['k1']"
   ]
  },
  {
   "cell_type": "code",
   "execution_count": 356,
   "id": "36026acc",
   "metadata": {},
   "outputs": [
    {
     "data": {
      "text/plain": [
       "2"
      ]
     },
     "execution_count": 356,
     "metadata": {},
     "output_type": "execute_result"
    }
   ],
   "source": [
    "d['k2'][2]"
   ]
  },
  {
   "cell_type": "code",
   "execution_count": 357,
   "id": "87ebf253",
   "metadata": {},
   "outputs": [
    {
     "data": {
      "text/plain": [
       "[0, 1, 2]"
      ]
     },
     "execution_count": 357,
     "metadata": {},
     "output_type": "execute_result"
    }
   ],
   "source": [
    "d['k2']"
   ]
  },
  {
   "cell_type": "code",
   "execution_count": 358,
   "id": "457c93e0",
   "metadata": {},
   "outputs": [
    {
     "data": {
      "text/plain": [
       "{'insidekey': 100}"
      ]
     },
     "execution_count": 358,
     "metadata": {},
     "output_type": "execute_result"
    }
   ],
   "source": [
    "d['k3']"
   ]
  },
  {
   "cell_type": "code",
   "execution_count": 359,
   "id": "69980050",
   "metadata": {},
   "outputs": [
    {
     "data": {
      "text/plain": [
       "100"
      ]
     },
     "execution_count": 359,
     "metadata": {},
     "output_type": "execute_result"
    }
   ],
   "source": [
    "d['k3']['insidekey']"
   ]
  },
  {
   "cell_type": "code",
   "execution_count": 373,
   "id": "4ba1175c",
   "metadata": {},
   "outputs": [],
   "source": [
    "d1={'key1':['a','b','c'],'key2':['d','e','f']}"
   ]
  },
  {
   "cell_type": "code",
   "execution_count": 374,
   "id": "3b896b30",
   "metadata": {},
   "outputs": [
    {
     "data": {
      "text/plain": [
       "['a', 'b']"
      ]
     },
     "execution_count": 374,
     "metadata": {},
     "output_type": "execute_result"
    }
   ],
   "source": [
    "d1['key1'][0:2]"
   ]
  },
  {
   "cell_type": "code",
   "execution_count": 375,
   "id": "1b06ab49",
   "metadata": {},
   "outputs": [
    {
     "data": {
      "text/plain": [
       "[0, 1]"
      ]
     },
     "execution_count": 375,
     "metadata": {},
     "output_type": "execute_result"
    }
   ],
   "source": [
    "d['k2'][0:2]"
   ]
  },
  {
   "cell_type": "code",
   "execution_count": 381,
   "id": "62ec7d16",
   "metadata": {},
   "outputs": [
    {
     "data": {
      "text/plain": [
       "'A'"
      ]
     },
     "execution_count": 381,
     "metadata": {},
     "output_type": "execute_result"
    }
   ],
   "source": [
    "d1['key1'][0].upper()"
   ]
  },
  {
   "cell_type": "code",
   "execution_count": 382,
   "id": "79fa0605",
   "metadata": {},
   "outputs": [
    {
     "data": {
      "text/plain": [
       "{'key1': ['a', 'b', 'c'], 'key2': ['d', 'e', 'f']}"
      ]
     },
     "execution_count": 382,
     "metadata": {},
     "output_type": "execute_result"
    }
   ],
   "source": [
    "d1"
   ]
  },
  {
   "cell_type": "code",
   "execution_count": 383,
   "id": "d3313d4e",
   "metadata": {},
   "outputs": [],
   "source": [
    "d3={'k1':100,'k2':200}"
   ]
  },
  {
   "cell_type": "code",
   "execution_count": 384,
   "id": "3dbc1f53",
   "metadata": {},
   "outputs": [
    {
     "data": {
      "text/plain": [
       "{'k1': 100, 'k2': 200}"
      ]
     },
     "execution_count": 384,
     "metadata": {},
     "output_type": "execute_result"
    }
   ],
   "source": [
    "d3"
   ]
  },
  {
   "cell_type": "code",
   "execution_count": 385,
   "id": "cdee7bb6",
   "metadata": {},
   "outputs": [],
   "source": [
    "d3['k3']=300"
   ]
  },
  {
   "cell_type": "code",
   "execution_count": 386,
   "id": "c0208a6c",
   "metadata": {},
   "outputs": [
    {
     "data": {
      "text/plain": [
       "{'k1': 100, 'k2': 200, 'k3': 300}"
      ]
     },
     "execution_count": 386,
     "metadata": {},
     "output_type": "execute_result"
    }
   ],
   "source": [
    "d3"
   ]
  },
  {
   "cell_type": "code",
   "execution_count": 387,
   "id": "81a7e81b",
   "metadata": {},
   "outputs": [],
   "source": [
    "d3['k4']=400"
   ]
  },
  {
   "cell_type": "code",
   "execution_count": 388,
   "id": "89261b96",
   "metadata": {},
   "outputs": [
    {
     "data": {
      "text/plain": [
       "{'k1': 100, 'k2': 200, 'k3': 300, 'k4': 400}"
      ]
     },
     "execution_count": 388,
     "metadata": {},
     "output_type": "execute_result"
    }
   ],
   "source": [
    "d3"
   ]
  },
  {
   "cell_type": "code",
   "execution_count": 389,
   "id": "f4e8b274",
   "metadata": {},
   "outputs": [],
   "source": [
    "d3['k1']=150"
   ]
  },
  {
   "cell_type": "code",
   "execution_count": 390,
   "id": "7c447b94",
   "metadata": {},
   "outputs": [
    {
     "data": {
      "text/plain": [
       "{'k1': 150, 'k2': 200, 'k3': 300, 'k4': 400}"
      ]
     },
     "execution_count": 390,
     "metadata": {},
     "output_type": "execute_result"
    }
   ],
   "source": [
    "d3"
   ]
  },
  {
   "cell_type": "code",
   "execution_count": 391,
   "id": "7f9a95fa",
   "metadata": {},
   "outputs": [],
   "source": [
    "d3={'k1': 100, 'k2': 200, 'k3': 300}"
   ]
  },
  {
   "cell_type": "code",
   "execution_count": 397,
   "id": "4af21931",
   "metadata": {},
   "outputs": [
    {
     "data": {
      "text/plain": [
       "dict_keys(['k1', 'k2', 'k3'])"
      ]
     },
     "execution_count": 397,
     "metadata": {},
     "output_type": "execute_result"
    }
   ],
   "source": [
    "d3.keys()"
   ]
  },
  {
   "cell_type": "code",
   "execution_count": 398,
   "id": "a0b1db6f",
   "metadata": {},
   "outputs": [
    {
     "data": {
      "text/plain": [
       "dict_values([100, 200, 300])"
      ]
     },
     "execution_count": 398,
     "metadata": {},
     "output_type": "execute_result"
    }
   ],
   "source": [
    "d3.values()"
   ]
  },
  {
   "cell_type": "code",
   "execution_count": 400,
   "id": "d6fa818d",
   "metadata": {},
   "outputs": [
    {
     "data": {
      "text/plain": [
       "dict_items([('k1', 100), ('k2', 200), ('k3', 300)])"
      ]
     },
     "execution_count": 400,
     "metadata": {},
     "output_type": "execute_result"
    }
   ],
   "source": [
    "d3.items()"
   ]
  },
  {
   "cell_type": "code",
   "execution_count": 406,
   "id": "04c64a9b",
   "metadata": {},
   "outputs": [],
   "source": [
    "d3['k1']=150"
   ]
  },
  {
   "cell_type": "code",
   "execution_count": 407,
   "id": "1c929599",
   "metadata": {},
   "outputs": [
    {
     "data": {
      "text/plain": [
       "{'k1': 150, 'k2': 200, 'k3': 300}"
      ]
     },
     "execution_count": 407,
     "metadata": {},
     "output_type": "execute_result"
    }
   ],
   "source": [
    "d3"
   ]
  },
  {
   "cell_type": "code",
   "execution_count": 696,
   "id": "0a2189f6",
   "metadata": {},
   "outputs": [
    {
     "name": "stdout",
     "output_type": "stream",
     "text": [
      "k4\n"
     ]
    }
   ],
   "source": [
    "d4={'k1':[{'k2':['k3',['k4']]}]}\n",
    "print(d4['k1'][0]['k2'][1][0])"
   ]
  },
  {
   "cell_type": "code",
   "execution_count": 682,
   "id": "250eda8a",
   "metadata": {},
   "outputs": [],
   "source": [
    "d4 = {'k1':[{'nest_key':['this is deep',['hello']]}]}"
   ]
  },
  {
   "cell_type": "code",
   "execution_count": null,
   "id": "7a8d7e68",
   "metadata": {},
   "outputs": [],
   "source": [
    "d4['k1'][]"
   ]
  },
  {
   "cell_type": "code",
   "execution_count": null,
   "id": "f26a91bb",
   "metadata": {},
   "outputs": [],
   "source": []
  },
  {
   "cell_type": "code",
   "execution_count": null,
   "id": "753e4057",
   "metadata": {},
   "outputs": [],
   "source": []
  },
  {
   "cell_type": "code",
   "execution_count": null,
   "id": "3cca828e",
   "metadata": {},
   "outputs": [],
   "source": []
  },
  {
   "cell_type": "code",
   "execution_count": null,
   "id": "3c89a109",
   "metadata": {},
   "outputs": [],
   "source": []
  },
  {
   "cell_type": "markdown",
   "id": "d48f3538",
   "metadata": {},
   "source": [
    "Tuples"
   ]
  },
  {
   "cell_type": "code",
   "execution_count": 408,
   "id": "e356f05f",
   "metadata": {},
   "outputs": [],
   "source": [
    "t1=(1,2,3)"
   ]
  },
  {
   "cell_type": "code",
   "execution_count": 409,
   "id": "1e2b753e",
   "metadata": {},
   "outputs": [],
   "source": [
    "mylist=[1,2,3]"
   ]
  },
  {
   "cell_type": "code",
   "execution_count": 410,
   "id": "fe7350c1",
   "metadata": {},
   "outputs": [
    {
     "data": {
      "text/plain": [
       "tuple"
      ]
     },
     "execution_count": 410,
     "metadata": {},
     "output_type": "execute_result"
    }
   ],
   "source": [
    "type(t1)"
   ]
  },
  {
   "cell_type": "code",
   "execution_count": 411,
   "id": "0c12cea1",
   "metadata": {},
   "outputs": [
    {
     "data": {
      "text/plain": [
       "list"
      ]
     },
     "execution_count": 411,
     "metadata": {},
     "output_type": "execute_result"
    }
   ],
   "source": [
    "type(mylist)"
   ]
  },
  {
   "cell_type": "code",
   "execution_count": 412,
   "id": "a7ccbc6e",
   "metadata": {},
   "outputs": [
    {
     "data": {
      "text/plain": [
       "3"
      ]
     },
     "execution_count": 412,
     "metadata": {},
     "output_type": "execute_result"
    }
   ],
   "source": [
    "len(t1)"
   ]
  },
  {
   "cell_type": "code",
   "execution_count": 413,
   "id": "494af687",
   "metadata": {},
   "outputs": [
    {
     "data": {
      "text/plain": [
       "(1, 2, 3)"
      ]
     },
     "execution_count": 413,
     "metadata": {},
     "output_type": "execute_result"
    }
   ],
   "source": [
    "t1"
   ]
  },
  {
   "cell_type": "code",
   "execution_count": 421,
   "id": "c619cb75",
   "metadata": {},
   "outputs": [],
   "source": [
    "t=('One',2,'a')"
   ]
  },
  {
   "cell_type": "code",
   "execution_count": 422,
   "id": "6f7352d0",
   "metadata": {},
   "outputs": [
    {
     "data": {
      "text/plain": [
       "'One'"
      ]
     },
     "execution_count": 422,
     "metadata": {},
     "output_type": "execute_result"
    }
   ],
   "source": [
    "t[0]"
   ]
  },
  {
   "cell_type": "code",
   "execution_count": 423,
   "id": "3e8c8155",
   "metadata": {},
   "outputs": [
    {
     "data": {
      "text/plain": [
       "('One', 2)"
      ]
     },
     "execution_count": 423,
     "metadata": {},
     "output_type": "execute_result"
    }
   ],
   "source": [
    "t[0:2]"
   ]
  },
  {
   "cell_type": "code",
   "execution_count": 424,
   "id": "960a8e6e",
   "metadata": {},
   "outputs": [
    {
     "data": {
      "text/plain": [
       "'One'"
      ]
     },
     "execution_count": 424,
     "metadata": {},
     "output_type": "execute_result"
    }
   ],
   "source": [
    "t[0]"
   ]
  },
  {
   "cell_type": "code",
   "execution_count": 426,
   "id": "e28a483c",
   "metadata": {},
   "outputs": [
    {
     "data": {
      "text/plain": [
       "'One'"
      ]
     },
     "execution_count": 426,
     "metadata": {},
     "output_type": "execute_result"
    }
   ],
   "source": [
    "t[0]"
   ]
  },
  {
   "cell_type": "code",
   "execution_count": 428,
   "id": "579c53ec",
   "metadata": {},
   "outputs": [
    {
     "data": {
      "text/plain": [
       "1"
      ]
     },
     "execution_count": 428,
     "metadata": {},
     "output_type": "execute_result"
    }
   ],
   "source": [
    "t.count(2)"
   ]
  },
  {
   "cell_type": "code",
   "execution_count": 444,
   "id": "f4165c9a",
   "metadata": {},
   "outputs": [],
   "source": [
    "t2=('a','a','a','b','c','d','g','e','a','b')"
   ]
  },
  {
   "cell_type": "code",
   "execution_count": 445,
   "id": "25b2d511",
   "metadata": {},
   "outputs": [
    {
     "data": {
      "text/plain": [
       "4"
      ]
     },
     "execution_count": 445,
     "metadata": {},
     "output_type": "execute_result"
    }
   ],
   "source": [
    "t2.count('a')"
   ]
  },
  {
   "cell_type": "code",
   "execution_count": 446,
   "id": "52ba84d9",
   "metadata": {},
   "outputs": [
    {
     "data": {
      "text/plain": [
       "0"
      ]
     },
     "execution_count": 446,
     "metadata": {},
     "output_type": "execute_result"
    }
   ],
   "source": [
    "t2.index('a')"
   ]
  },
  {
   "cell_type": "code",
   "execution_count": 447,
   "id": "be4c8b59",
   "metadata": {},
   "outputs": [
    {
     "data": {
      "text/plain": [
       "3"
      ]
     },
     "execution_count": 447,
     "metadata": {},
     "output_type": "execute_result"
    }
   ],
   "source": [
    "t2.index('b')"
   ]
  },
  {
   "cell_type": "code",
   "execution_count": 448,
   "id": "11e9fd19",
   "metadata": {},
   "outputs": [
    {
     "data": {
      "text/plain": [
       "[1, 2, 3]"
      ]
     },
     "execution_count": 448,
     "metadata": {},
     "output_type": "execute_result"
    }
   ],
   "source": [
    "mylist"
   ]
  },
  {
   "cell_type": "code",
   "execution_count": 449,
   "id": "26e0d59c",
   "metadata": {},
   "outputs": [],
   "source": [
    "mylist[0]=\"New\""
   ]
  },
  {
   "cell_type": "code",
   "execution_count": 450,
   "id": "38246a6d",
   "metadata": {},
   "outputs": [
    {
     "data": {
      "text/plain": [
       "['New', 2, 3]"
      ]
     },
     "execution_count": 450,
     "metadata": {},
     "output_type": "execute_result"
    }
   ],
   "source": [
    "mylist"
   ]
  },
  {
   "cell_type": "code",
   "execution_count": 451,
   "id": "fb74815b",
   "metadata": {},
   "outputs": [
    {
     "data": {
      "text/plain": [
       "'a'"
      ]
     },
     "execution_count": 451,
     "metadata": {},
     "output_type": "execute_result"
    }
   ],
   "source": [
    "t2[0]"
   ]
  },
  {
   "cell_type": "code",
   "execution_count": 452,
   "id": "ee4d30c7",
   "metadata": {},
   "outputs": [
    {
     "ename": "TypeError",
     "evalue": "'tuple' object does not support item assignment",
     "output_type": "error",
     "traceback": [
      "\u001b[1;31m---------------------------------------------------------------------------\u001b[0m",
      "\u001b[1;31mTypeError\u001b[0m                                 Traceback (most recent call last)",
      "Cell \u001b[1;32mIn[452], line 1\u001b[0m\n\u001b[1;32m----> 1\u001b[0m t2[\u001b[38;5;241m0\u001b[39m]\u001b[38;5;241m=\u001b[39m\u001b[38;5;124m'\u001b[39m\u001b[38;5;124mk\u001b[39m\u001b[38;5;124m'\u001b[39m\n",
      "\u001b[1;31mTypeError\u001b[0m: 'tuple' object does not support item assignment"
     ]
    }
   ],
   "source": [
    "t2[0]='k'"
   ]
  },
  {
   "cell_type": "code",
   "execution_count": 456,
   "id": "dfa65be5",
   "metadata": {},
   "outputs": [
    {
     "data": {
      "text/plain": [
       "('c', 'd', 'g', 'e')"
      ]
     },
     "execution_count": 456,
     "metadata": {},
     "output_type": "execute_result"
    }
   ],
   "source": [
    "t2[4:-2]"
   ]
  },
  {
   "cell_type": "code",
   "execution_count": 457,
   "id": "33b5937f",
   "metadata": {},
   "outputs": [
    {
     "data": {
      "text/plain": [
       "('b', 'd', 'e')"
      ]
     },
     "execution_count": 457,
     "metadata": {},
     "output_type": "execute_result"
    }
   ],
   "source": [
    "t2[3:-1:2]"
   ]
  },
  {
   "cell_type": "code",
   "execution_count": 462,
   "id": "444d0484",
   "metadata": {},
   "outputs": [
    {
     "data": {
      "text/plain": [
       "('a', 'a', 'a', 'b', 'c', 'd', 'g', 'e', 'a', 'b')"
      ]
     },
     "execution_count": 462,
     "metadata": {},
     "output_type": "execute_result"
    }
   ],
   "source": [
    "t2"
   ]
  },
  {
   "cell_type": "code",
   "execution_count": 459,
   "id": "45509cb2",
   "metadata": {},
   "outputs": [],
   "source": [
    "list(t2).append('k')"
   ]
  },
  {
   "cell_type": "code",
   "execution_count": 465,
   "id": "a386ec2a",
   "metadata": {},
   "outputs": [],
   "source": [
    "k=list(t2)"
   ]
  },
  {
   "cell_type": "code",
   "execution_count": 478,
   "id": "952707c1",
   "metadata": {},
   "outputs": [],
   "source": [
    "k.append('h')"
   ]
  },
  {
   "cell_type": "code",
   "execution_count": 480,
   "id": "ff5c0ffa",
   "metadata": {},
   "outputs": [],
   "source": [
    "t2=tuple(k)"
   ]
  },
  {
   "cell_type": "code",
   "execution_count": 481,
   "id": "328164b0",
   "metadata": {},
   "outputs": [
    {
     "data": {
      "text/plain": [
       "('a', 'a', 'a', 'b', 'c', 'd', 'g', 'e', 'a', 'b', 'h', 'h')"
      ]
     },
     "execution_count": 481,
     "metadata": {},
     "output_type": "execute_result"
    }
   ],
   "source": [
    "t2"
   ]
  },
  {
   "cell_type": "code",
   "execution_count": 482,
   "id": "102c73d0",
   "metadata": {},
   "outputs": [],
   "source": [
    "m=list(t2)"
   ]
  },
  {
   "cell_type": "code",
   "execution_count": 483,
   "id": "3426238c",
   "metadata": {},
   "outputs": [],
   "source": [
    "m.append('n')"
   ]
  },
  {
   "cell_type": "code",
   "execution_count": 484,
   "id": "2e43f7bc",
   "metadata": {},
   "outputs": [],
   "source": [
    "t2=tuple(m)"
   ]
  },
  {
   "cell_type": "code",
   "execution_count": 485,
   "id": "cafae321",
   "metadata": {},
   "outputs": [
    {
     "data": {
      "text/plain": [
       "('a', 'a', 'a', 'b', 'c', 'd', 'g', 'e', 'a', 'b', 'h', 'h', 'n')"
      ]
     },
     "execution_count": 485,
     "metadata": {},
     "output_type": "execute_result"
    }
   ],
   "source": [
    "t2"
   ]
  },
  {
   "cell_type": "code",
   "execution_count": 486,
   "id": "d320cdd3",
   "metadata": {},
   "outputs": [],
   "source": [
    "fruits1=(\"apple\",'banana',\"guava\")"
   ]
  },
  {
   "cell_type": "code",
   "execution_count": 489,
   "id": "78519b3f",
   "metadata": {},
   "outputs": [],
   "source": [
    "fruits2=(\"orange\",)"
   ]
  },
  {
   "cell_type": "code",
   "execution_count": 490,
   "id": "86c45987",
   "metadata": {},
   "outputs": [],
   "source": [
    "fruits1 += fruits2"
   ]
  },
  {
   "cell_type": "code",
   "execution_count": 491,
   "id": "fde32b38",
   "metadata": {},
   "outputs": [
    {
     "data": {
      "text/plain": [
       "('apple', 'banana', 'guava', 'orange')"
      ]
     },
     "execution_count": 491,
     "metadata": {},
     "output_type": "execute_result"
    }
   ],
   "source": [
    "fruits1"
   ]
  },
  {
   "cell_type": "code",
   "execution_count": 492,
   "id": "f9cf5f23",
   "metadata": {},
   "outputs": [],
   "source": [
    "m=list(fruits1)"
   ]
  },
  {
   "cell_type": "code",
   "execution_count": 496,
   "id": "81609ead",
   "metadata": {},
   "outputs": [
    {
     "data": {
      "text/plain": [
       "['apple', 'banana', 'guava']"
      ]
     },
     "execution_count": 496,
     "metadata": {},
     "output_type": "execute_result"
    }
   ],
   "source": [
    "m"
   ]
  },
  {
   "cell_type": "code",
   "execution_count": 493,
   "id": "6e850bc5",
   "metadata": {},
   "outputs": [],
   "source": [
    "m.remove('orange')"
   ]
  },
  {
   "cell_type": "code",
   "execution_count": 497,
   "id": "fa0b0dbc",
   "metadata": {},
   "outputs": [
    {
     "data": {
      "text/plain": [
       "['apple', 'banana', 'guava']"
      ]
     },
     "execution_count": 497,
     "metadata": {},
     "output_type": "execute_result"
    }
   ],
   "source": [
    "m"
   ]
  },
  {
   "cell_type": "code",
   "execution_count": 494,
   "id": "213b43e1",
   "metadata": {},
   "outputs": [],
   "source": [
    "fruits1=tuple(m)"
   ]
  },
  {
   "cell_type": "code",
   "execution_count": 500,
   "id": "04296542",
   "metadata": {},
   "outputs": [
    {
     "data": {
      "text/plain": [
       "('apple', 'banana', 'guava')"
      ]
     },
     "execution_count": 500,
     "metadata": {},
     "output_type": "execute_result"
    }
   ],
   "source": [
    "fruits1"
   ]
  },
  {
   "cell_type": "code",
   "execution_count": 509,
   "id": "8bcd428e",
   "metadata": {},
   "outputs": [],
   "source": [
    "vehicle=('car','bus')"
   ]
  },
  {
   "cell_type": "code",
   "execution_count": 510,
   "id": "ea217950",
   "metadata": {},
   "outputs": [
    {
     "data": {
      "text/plain": [
       "tuple"
      ]
     },
     "execution_count": 510,
     "metadata": {},
     "output_type": "execute_result"
    }
   ],
   "source": [
    "type(vehicle)"
   ]
  },
  {
   "cell_type": "code",
   "execution_count": 511,
   "id": "54785393",
   "metadata": {},
   "outputs": [],
   "source": [
    "veh=('car''bus')"
   ]
  },
  {
   "cell_type": "code",
   "execution_count": 512,
   "id": "f3d7e451",
   "metadata": {},
   "outputs": [
    {
     "data": {
      "text/plain": [
       "str"
      ]
     },
     "execution_count": 512,
     "metadata": {},
     "output_type": "execute_result"
    }
   ],
   "source": [
    "type(veh)"
   ]
  },
  {
   "cell_type": "code",
   "execution_count": 513,
   "id": "a3053cbf",
   "metadata": {},
   "outputs": [],
   "source": [
    "del veh"
   ]
  },
  {
   "cell_type": "code",
   "execution_count": 515,
   "id": "6aceea4d",
   "metadata": {},
   "outputs": [],
   "source": [
    "del vehicle"
   ]
  },
  {
   "cell_type": "code",
   "execution_count": 519,
   "id": "d87ecb65",
   "metadata": {},
   "outputs": [],
   "source": []
  },
  {
   "cell_type": "markdown",
   "id": "7ddb47ce",
   "metadata": {},
   "source": [
    "#Tuples"
   ]
  },
  {
   "cell_type": "code",
   "execution_count": 540,
   "id": "304df7c9",
   "metadata": {},
   "outputs": [],
   "source": [
    "fruits_=(\"apple\",\"banana\",\"cherry\",\"orange\",\"guava\")\n",
    "(green,yellow,*red)=fruits_"
   ]
  },
  {
   "cell_type": "code",
   "execution_count": 541,
   "id": "fc16f1d2",
   "metadata": {},
   "outputs": [
    {
     "name": "stdout",
     "output_type": "stream",
     "text": [
      "['cherry', 'orange', 'guava']\n"
     ]
    }
   ],
   "source": [
    "print(red)"
   ]
  },
  {
   "cell_type": "code",
   "execution_count": 544,
   "id": "d5a32686",
   "metadata": {},
   "outputs": [
    {
     "name": "stdout",
     "output_type": "stream",
     "text": [
      "apple\n"
     ]
    }
   ],
   "source": [
    "print(green)"
   ]
  },
  {
   "cell_type": "code",
   "execution_count": 545,
   "id": "770bec15",
   "metadata": {},
   "outputs": [],
   "source": [
    "(green,*yellow,red)=fruits_"
   ]
  },
  {
   "cell_type": "code",
   "execution_count": 546,
   "id": "ae04a6fc",
   "metadata": {},
   "outputs": [
    {
     "name": "stdout",
     "output_type": "stream",
     "text": [
      "['banana', 'cherry', 'orange']\n"
     ]
    }
   ],
   "source": [
    "print(yellow)"
   ]
  },
  {
   "cell_type": "code",
   "execution_count": 551,
   "id": "ad3e3ea8",
   "metadata": {},
   "outputs": [],
   "source": [
    "#Joinng of 2 tuples\n",
    "tup1=('a','b','c')\n",
    "tup2=(1,2,3)"
   ]
  },
  {
   "cell_type": "code",
   "execution_count": 552,
   "id": "706166c9",
   "metadata": {},
   "outputs": [
    {
     "name": "stdout",
     "output_type": "stream",
     "text": [
      "('a', 'b', 'c', 1, 2, 3)\n"
     ]
    }
   ],
   "source": [
    "tup3=tup1+tup2\n",
    "print(tup3)"
   ]
  },
  {
   "cell_type": "code",
   "execution_count": 559,
   "id": "28017191",
   "metadata": {},
   "outputs": [
    {
     "name": "stdout",
     "output_type": "stream",
     "text": [
      "('a', 'b', 'c', 'a', 'b', 'c')\n"
     ]
    }
   ],
   "source": [
    "#multiply of tuples\n",
    "q=tup1*2\n",
    "print(q)"
   ]
  },
  {
   "cell_type": "code",
   "execution_count": null,
   "id": "dcb282aa",
   "metadata": {},
   "outputs": [],
   "source": []
  },
  {
   "cell_type": "code",
   "execution_count": null,
   "id": "7f59f2eb",
   "metadata": {},
   "outputs": [],
   "source": []
  },
  {
   "cell_type": "markdown",
   "id": "42d95a62",
   "metadata": {},
   "source": [
    "#Sets"
   ]
  },
  {
   "cell_type": "code",
   "execution_count": 561,
   "id": "005aae4e",
   "metadata": {},
   "outputs": [],
   "source": [
    "myset=set()"
   ]
  },
  {
   "cell_type": "code",
   "execution_count": 562,
   "id": "6a3d4d3d",
   "metadata": {},
   "outputs": [
    {
     "data": {
      "text/plain": [
       "set()"
      ]
     },
     "execution_count": 562,
     "metadata": {},
     "output_type": "execute_result"
    }
   ],
   "source": [
    "myset"
   ]
  },
  {
   "cell_type": "code",
   "execution_count": 563,
   "id": "730a38b1",
   "metadata": {},
   "outputs": [],
   "source": [
    "myset.add(1)"
   ]
  },
  {
   "cell_type": "code",
   "execution_count": 564,
   "id": "a72aade4",
   "metadata": {},
   "outputs": [
    {
     "data": {
      "text/plain": [
       "{1}"
      ]
     },
     "execution_count": 564,
     "metadata": {},
     "output_type": "execute_result"
    }
   ],
   "source": [
    "myset"
   ]
  },
  {
   "cell_type": "code",
   "execution_count": 565,
   "id": "4f5502e3",
   "metadata": {},
   "outputs": [],
   "source": [
    "myset.add(2)"
   ]
  },
  {
   "cell_type": "code",
   "execution_count": 566,
   "id": "6e0ea2ce",
   "metadata": {},
   "outputs": [
    {
     "data": {
      "text/plain": [
       "{1, 2}"
      ]
     },
     "execution_count": 566,
     "metadata": {},
     "output_type": "execute_result"
    }
   ],
   "source": [
    "myset"
   ]
  },
  {
   "cell_type": "code",
   "execution_count": 567,
   "id": "7f5d13f6",
   "metadata": {},
   "outputs": [],
   "source": [
    "myset.add(2)"
   ]
  },
  {
   "cell_type": "code",
   "execution_count": 568,
   "id": "a6de01c4",
   "metadata": {},
   "outputs": [
    {
     "data": {
      "text/plain": [
       "{1, 2}"
      ]
     },
     "execution_count": 568,
     "metadata": {},
     "output_type": "execute_result"
    }
   ],
   "source": [
    "myset"
   ]
  },
  {
   "cell_type": "code",
   "execution_count": 593,
   "id": "7397f478",
   "metadata": {},
   "outputs": [],
   "source": [
    "mylist=[1,1,1,1,2,34,1,1,2,5,4,3,2,2,3,3,3,3,4,2,2,5,74,2,2]"
   ]
  },
  {
   "cell_type": "code",
   "execution_count": 594,
   "id": "15fe497d",
   "metadata": {},
   "outputs": [
    {
     "data": {
      "text/plain": [
       "list"
      ]
     },
     "execution_count": 594,
     "metadata": {},
     "output_type": "execute_result"
    }
   ],
   "source": [
    "type(mylist)"
   ]
  },
  {
   "cell_type": "code",
   "execution_count": 595,
   "id": "946a9d3c",
   "metadata": {},
   "outputs": [
    {
     "data": {
      "text/plain": [
       "{1, 2, 3, 4, 5, 34, 74}"
      ]
     },
     "execution_count": 595,
     "metadata": {},
     "output_type": "execute_result"
    }
   ],
   "source": [
    "set(mylist)"
   ]
  },
  {
   "cell_type": "code",
   "execution_count": 598,
   "id": "0667a949",
   "metadata": {},
   "outputs": [],
   "source": [
    "myset={1,2,5,3,4}"
   ]
  },
  {
   "cell_type": "code",
   "execution_count": 599,
   "id": "06ba9972",
   "metadata": {},
   "outputs": [
    {
     "data": {
      "text/plain": [
       "set"
      ]
     },
     "execution_count": 599,
     "metadata": {},
     "output_type": "execute_result"
    }
   ],
   "source": [
    "type(myset)"
   ]
  },
  {
   "cell_type": "code",
   "execution_count": 600,
   "id": "46ba6663",
   "metadata": {},
   "outputs": [
    {
     "data": {
      "text/plain": [
       "{1, 2, 3, 4, 5}"
      ]
     },
     "execution_count": 600,
     "metadata": {},
     "output_type": "execute_result"
    }
   ],
   "source": [
    "myset"
   ]
  },
  {
   "cell_type": "code",
   "execution_count": null,
   "id": "060fa064",
   "metadata": {},
   "outputs": [],
   "source": []
  },
  {
   "cell_type": "code",
   "execution_count": null,
   "id": "eee2dcf6",
   "metadata": {},
   "outputs": [],
   "source": []
  },
  {
   "cell_type": "code",
   "execution_count": 602,
   "id": "0c744134",
   "metadata": {},
   "outputs": [],
   "source": [
    "#booleans :- convey only True or False options"
   ]
  },
  {
   "cell_type": "code",
   "execution_count": 603,
   "id": "ad2aef0a",
   "metadata": {},
   "outputs": [
    {
     "name": "stdout",
     "output_type": "stream",
     "text": [
      "False\n"
     ]
    }
   ],
   "source": [
    "a=(10<9)\n",
    "print(a)"
   ]
  },
  {
   "cell_type": "code",
   "execution_count": 605,
   "id": "4b110b65",
   "metadata": {},
   "outputs": [
    {
     "data": {
      "text/plain": [
       "bool"
      ]
     },
     "execution_count": 605,
     "metadata": {},
     "output_type": "execute_result"
    }
   ],
   "source": [
    "type(a)"
   ]
  },
  {
   "cell_type": "code",
   "execution_count": 613,
   "id": "17791968",
   "metadata": {},
   "outputs": [
    {
     "data": {
      "text/plain": [
       "bool"
      ]
     },
     "execution_count": 613,
     "metadata": {},
     "output_type": "execute_result"
    }
   ],
   "source": [
    "type(True)"
   ]
  },
  {
   "cell_type": "code",
   "execution_count": 614,
   "id": "9b169150",
   "metadata": {},
   "outputs": [
    {
     "data": {
      "text/plain": [
       "bool"
      ]
     },
     "execution_count": 614,
     "metadata": {},
     "output_type": "execute_result"
    }
   ],
   "source": [
    "type(False)"
   ]
  },
  {
   "cell_type": "code",
   "execution_count": 616,
   "id": "164eb731",
   "metadata": {},
   "outputs": [],
   "source": [
    "b=None"
   ]
  },
  {
   "cell_type": "code",
   "execution_count": 618,
   "id": "f2c8a83c",
   "metadata": {},
   "outputs": [
    {
     "name": "stdout",
     "output_type": "stream",
     "text": [
      "None\n"
     ]
    }
   ],
   "source": [
    "print(b)"
   ]
  },
  {
   "cell_type": "code",
   "execution_count": 630,
   "id": "9d5c10fc",
   "metadata": {},
   "outputs": [],
   "source": [
    "myset={1,2,1,1,3,4,2}"
   ]
  },
  {
   "cell_type": "code",
   "execution_count": 631,
   "id": "08811c61",
   "metadata": {},
   "outputs": [
    {
     "data": {
      "text/plain": [
       "{1, 2, 3, 4}"
      ]
     },
     "execution_count": 631,
     "metadata": {},
     "output_type": "execute_result"
    }
   ],
   "source": [
    "set(myset)"
   ]
  },
  {
   "cell_type": "code",
   "execution_count": 632,
   "id": "19e48026",
   "metadata": {},
   "outputs": [
    {
     "data": {
      "text/plain": [
       "{1, 2, 3, 4}"
      ]
     },
     "execution_count": 632,
     "metadata": {},
     "output_type": "execute_result"
    }
   ],
   "source": [
    "myset"
   ]
  },
  {
   "cell_type": "code",
   "execution_count": null,
   "id": "bc2589db",
   "metadata": {},
   "outputs": [],
   "source": []
  },
  {
   "cell_type": "code",
   "execution_count": null,
   "id": "37b6697b",
   "metadata": {},
   "outputs": [],
   "source": []
  },
  {
   "cell_type": "markdown",
   "id": "53130482",
   "metadata": {},
   "source": [
    "#Files"
   ]
  },
  {
   "cell_type": "code",
   "execution_count": 634,
   "id": "f1998929",
   "metadata": {},
   "outputs": [
    {
     "name": "stdout",
     "output_type": "stream",
     "text": [
      "Writing myfile.txt\n"
     ]
    }
   ],
   "source": [
    "%%writefile myfile.txt\n",
    "Hello this is a text file\n",
    "this is the second line\n",
    "this is the third line"
   ]
  },
  {
   "cell_type": "code",
   "execution_count": 639,
   "id": "71065879",
   "metadata": {},
   "outputs": [],
   "source": [
    "myfile=open('myfile.txt')"
   ]
  },
  {
   "cell_type": "code",
   "execution_count": 637,
   "id": "4dcf86e0",
   "metadata": {},
   "outputs": [
    {
     "ename": "FileNotFoundError",
     "evalue": "[Errno 2] No such file or directory: 'whoops_wrong.txt'",
     "output_type": "error",
     "traceback": [
      "\u001b[1;31m---------------------------------------------------------------------------\u001b[0m",
      "\u001b[1;31mFileNotFoundError\u001b[0m                         Traceback (most recent call last)",
      "Cell \u001b[1;32mIn[637], line 1\u001b[0m\n\u001b[1;32m----> 1\u001b[0m myfile\u001b[38;5;241m=\u001b[39m\u001b[38;5;28mopen\u001b[39m(\u001b[38;5;124m'\u001b[39m\u001b[38;5;124mwhoops_wrong.txt\u001b[39m\u001b[38;5;124m'\u001b[39m)\n",
      "File \u001b[1;32mC:\\ProgramData\\anaconda3\\Lib\\site-packages\\IPython\\core\\interactiveshell.py:286\u001b[0m, in \u001b[0;36m_modified_open\u001b[1;34m(file, *args, **kwargs)\u001b[0m\n\u001b[0;32m    279\u001b[0m \u001b[38;5;28;01mif\u001b[39;00m file \u001b[38;5;129;01min\u001b[39;00m {\u001b[38;5;241m0\u001b[39m, \u001b[38;5;241m1\u001b[39m, \u001b[38;5;241m2\u001b[39m}:\n\u001b[0;32m    280\u001b[0m     \u001b[38;5;28;01mraise\u001b[39;00m \u001b[38;5;167;01mValueError\u001b[39;00m(\n\u001b[0;32m    281\u001b[0m         \u001b[38;5;124mf\u001b[39m\u001b[38;5;124m\"\u001b[39m\u001b[38;5;124mIPython won\u001b[39m\u001b[38;5;124m'\u001b[39m\u001b[38;5;124mt let you open fd=\u001b[39m\u001b[38;5;132;01m{\u001b[39;00mfile\u001b[38;5;132;01m}\u001b[39;00m\u001b[38;5;124m by default \u001b[39m\u001b[38;5;124m\"\u001b[39m\n\u001b[0;32m    282\u001b[0m         \u001b[38;5;124m\"\u001b[39m\u001b[38;5;124mas it is likely to crash IPython. If you know what you are doing, \u001b[39m\u001b[38;5;124m\"\u001b[39m\n\u001b[0;32m    283\u001b[0m         \u001b[38;5;124m\"\u001b[39m\u001b[38;5;124myou can use builtins\u001b[39m\u001b[38;5;124m'\u001b[39m\u001b[38;5;124m open.\u001b[39m\u001b[38;5;124m\"\u001b[39m\n\u001b[0;32m    284\u001b[0m     )\n\u001b[1;32m--> 286\u001b[0m \u001b[38;5;28;01mreturn\u001b[39;00m io_open(file, \u001b[38;5;241m*\u001b[39margs, \u001b[38;5;241m*\u001b[39m\u001b[38;5;241m*\u001b[39mkwargs)\n",
      "\u001b[1;31mFileNotFoundError\u001b[0m: [Errno 2] No such file or directory: 'whoops_wrong.txt'"
     ]
    }
   ],
   "source": [
    "#happens because there is no file with such a name\n",
    "myfile=open('whoops_wrong.txt')"
   ]
  },
  {
   "cell_type": "code",
   "execution_count": 638,
   "id": "29000d8c",
   "metadata": {},
   "outputs": [
    {
     "data": {
      "text/plain": [
       "'C:\\\\Users\\\\Mittal\\\\Desktop'"
      ]
     },
     "execution_count": 638,
     "metadata": {},
     "output_type": "execute_result"
    }
   ],
   "source": [
    "pwd"
   ]
  },
  {
   "cell_type": "code",
   "execution_count": 642,
   "id": "0f608906",
   "metadata": {},
   "outputs": [],
   "source": [
    "myfile = open('myfile.txt')"
   ]
  },
  {
   "cell_type": "code",
   "execution_count": 643,
   "id": "7d057bdb",
   "metadata": {},
   "outputs": [
    {
     "data": {
      "text/plain": [
       "'Hello this is a text file\\nthis is the second line\\nthis is the third line\\n'"
      ]
     },
     "execution_count": 643,
     "metadata": {},
     "output_type": "execute_result"
    }
   ],
   "source": [
    "myfile.read()"
   ]
  },
  {
   "cell_type": "code",
   "execution_count": 650,
   "id": "2f627484",
   "metadata": {},
   "outputs": [
    {
     "data": {
      "text/plain": [
       "''"
      ]
     },
     "execution_count": 650,
     "metadata": {},
     "output_type": "execute_result"
    }
   ],
   "source": [
    "#showed error because cursor moved to the last point of the data\n",
    "myfile.read()"
   ]
  },
  {
   "cell_type": "code",
   "execution_count": 658,
   "id": "90fd2c64",
   "metadata": {},
   "outputs": [
    {
     "data": {
      "text/plain": [
       "0"
      ]
     },
     "execution_count": 658,
     "metadata": {},
     "output_type": "execute_result"
    }
   ],
   "source": [
    "#.seek helps to move cursor to the desired point, if we don't put any value then it will throw error and this method don't take\n",
    "#any negative value also\n",
    "myfile.seek(0)"
   ]
  },
  {
   "cell_type": "code",
   "execution_count": 659,
   "id": "457255be",
   "metadata": {},
   "outputs": [
    {
     "data": {
      "text/plain": [
       "'Hello this is a text file\\nthis is the second line\\nthis is the third line\\n'"
      ]
     },
     "execution_count": 659,
     "metadata": {},
     "output_type": "execute_result"
    }
   ],
   "source": [
    "myfile.read()"
   ]
  },
  {
   "cell_type": "code",
   "execution_count": 660,
   "id": "9c434f26",
   "metadata": {},
   "outputs": [
    {
     "data": {
      "text/plain": [
       "10"
      ]
     },
     "execution_count": 660,
     "metadata": {},
     "output_type": "execute_result"
    }
   ],
   "source": [
    "myfile.seek(10)"
   ]
  },
  {
   "cell_type": "code",
   "execution_count": 661,
   "id": "f826789a",
   "metadata": {},
   "outputs": [
    {
     "data": {
      "text/plain": [
       "' is a text file\\nthis is the second line\\nthis is the third line\\n'"
      ]
     },
     "execution_count": 661,
     "metadata": {},
     "output_type": "execute_result"
    }
   ],
   "source": [
    "myfile.read()"
   ]
  },
  {
   "cell_type": "code",
   "execution_count": 663,
   "id": "e608498b",
   "metadata": {},
   "outputs": [],
   "source": [
    "contents= myfile.read()"
   ]
  },
  {
   "cell_type": "code",
   "execution_count": 664,
   "id": "3daeb311",
   "metadata": {},
   "outputs": [
    {
     "ename": "NameError",
     "evalue": "name 'content' is not defined",
     "output_type": "error",
     "traceback": [
      "\u001b[1;31m---------------------------------------------------------------------------\u001b[0m",
      "\u001b[1;31mNameError\u001b[0m                                 Traceback (most recent call last)",
      "Cell \u001b[1;32mIn[664], line 1\u001b[0m\n\u001b[1;32m----> 1\u001b[0m content\n",
      "\u001b[1;31mNameError\u001b[0m: name 'content' is not defined"
     ]
    }
   ],
   "source": [
    "content"
   ]
  },
  {
   "cell_type": "code",
   "execution_count": 665,
   "id": "06b49a91",
   "metadata": {},
   "outputs": [
    {
     "data": {
      "text/plain": [
       "0"
      ]
     },
     "execution_count": 665,
     "metadata": {},
     "output_type": "execute_result"
    }
   ],
   "source": [
    "myfile.seek(0)"
   ]
  },
  {
   "cell_type": "code",
   "execution_count": 666,
   "id": "108a80eb",
   "metadata": {},
   "outputs": [],
   "source": [
    "contents= myfile.read()"
   ]
  },
  {
   "cell_type": "code",
   "execution_count": 667,
   "id": "a8e6bac4",
   "metadata": {},
   "outputs": [
    {
     "data": {
      "text/plain": [
       "'Hello this is a text file\\nthis is the second line\\nthis is the third line\\n'"
      ]
     },
     "execution_count": 667,
     "metadata": {},
     "output_type": "execute_result"
    }
   ],
   "source": [
    "contents"
   ]
  },
  {
   "cell_type": "code",
   "execution_count": 668,
   "id": "0f77cf88",
   "metadata": {},
   "outputs": [
    {
     "data": {
      "text/plain": [
       "0"
      ]
     },
     "execution_count": 668,
     "metadata": {},
     "output_type": "execute_result"
    }
   ],
   "source": [
    "myfile.seek(0)"
   ]
  },
  {
   "cell_type": "code",
   "execution_count": 669,
   "id": "b4052e7c",
   "metadata": {},
   "outputs": [
    {
     "data": {
      "text/plain": [
       "['Hello this is a text file\\n',\n",
       " 'this is the second line\\n',\n",
       " 'this is the third line\\n']"
      ]
     },
     "execution_count": 669,
     "metadata": {},
     "output_type": "execute_result"
    }
   ],
   "source": [
    "myfile.readlines()"
   ]
  },
  {
   "cell_type": "code",
   "execution_count": null,
   "id": "90c72709",
   "metadata": {},
   "outputs": [],
   "source": []
  },
  {
   "cell_type": "code",
   "execution_count": null,
   "id": "5151cd46",
   "metadata": {},
   "outputs": [],
   "source": []
  },
  {
   "cell_type": "code",
   "execution_count": 670,
   "id": "13e50f1c",
   "metadata": {},
   "outputs": [],
   "source": [
    "#assesment-1"
   ]
  },
  {
   "cell_type": "code",
   "execution_count": 671,
   "id": "a322b386",
   "metadata": {},
   "outputs": [
    {
     "name": "stdout",
     "output_type": "stream",
     "text": [
      "44\n"
     ]
    }
   ],
   "source": [
    "print(4*(6+5))"
   ]
  },
  {
   "cell_type": "code",
   "execution_count": 672,
   "id": "167b2ab1",
   "metadata": {},
   "outputs": [
    {
     "data": {
      "text/plain": [
       "29"
      ]
     },
     "execution_count": 672,
     "metadata": {},
     "output_type": "execute_result"
    }
   ],
   "source": [
    "4*6+5"
   ]
  },
  {
   "cell_type": "code",
   "execution_count": 673,
   "id": "e0328068",
   "metadata": {},
   "outputs": [
    {
     "data": {
      "text/plain": [
       "34"
      ]
     },
     "execution_count": 673,
     "metadata": {},
     "output_type": "execute_result"
    }
   ],
   "source": [
    "4+6*5"
   ]
  },
  {
   "cell_type": "code",
   "execution_count": 675,
   "id": "36b76a2d",
   "metadata": {},
   "outputs": [
    {
     "data": {
      "text/plain": [
       "100.25"
      ]
     },
     "execution_count": 675,
     "metadata": {},
     "output_type": "execute_result"
    }
   ],
   "source": [
    "1/4*5+25*5-26"
   ]
  },
  {
   "cell_type": "code",
   "execution_count": 676,
   "id": "2b853398",
   "metadata": {},
   "outputs": [
    {
     "data": {
      "text/plain": [
       "float"
      ]
     },
     "execution_count": 676,
     "metadata": {},
     "output_type": "execute_result"
    }
   ],
   "source": [
    "type(3+1.5+4)"
   ]
  },
  {
   "cell_type": "code",
   "execution_count": 677,
   "id": "301366a5",
   "metadata": {},
   "outputs": [
    {
     "data": {
      "text/plain": [
       "7744"
      ]
     },
     "execution_count": 677,
     "metadata": {},
     "output_type": "execute_result"
    }
   ],
   "source": [
    "88**2"
   ]
  },
  {
   "cell_type": "code",
   "execution_count": 681,
   "id": "207ca56a",
   "metadata": {},
   "outputs": [
    {
     "data": {
      "text/plain": [
       "88"
      ]
     },
     "execution_count": 681,
     "metadata": {},
     "output_type": "execute_result"
    }
   ],
   "source": [
    "int(7744**0.5)"
   ]
  },
  {
   "cell_type": "code",
   "execution_count": null,
   "id": "b9f8b900",
   "metadata": {},
   "outputs": [],
   "source": []
  },
  {
   "cell_type": "code",
   "execution_count": null,
   "id": "721618fe",
   "metadata": {},
   "outputs": [],
   "source": []
  },
  {
   "cell_type": "code",
   "execution_count": null,
   "id": "658b021b",
   "metadata": {},
   "outputs": [],
   "source": []
  },
  {
   "cell_type": "markdown",
   "id": "29a8ca67",
   "metadata": {},
   "source": [
    "#chaining comparison operators\n",
    "#and\n",
    "#or\n",
    "#not"
   ]
  },
  {
   "cell_type": "code",
   "execution_count": 702,
   "id": "5a3eece2",
   "metadata": {},
   "outputs": [
    {
     "data": {
      "text/plain": [
       "True"
      ]
     },
     "execution_count": 702,
     "metadata": {},
     "output_type": "execute_result"
    }
   ],
   "source": [
    "1<2 and 2<3"
   ]
  },
  {
   "cell_type": "code",
   "execution_count": 703,
   "id": "fbb9c384",
   "metadata": {},
   "outputs": [
    {
     "data": {
      "text/plain": [
       "True"
      ]
     },
     "execution_count": 703,
     "metadata": {},
     "output_type": "execute_result"
    }
   ],
   "source": [
    "3==6/2 and 18==9*2"
   ]
  },
  {
   "cell_type": "code",
   "execution_count": 704,
   "id": "2b2a6366",
   "metadata": {},
   "outputs": [
    {
     "data": {
      "text/plain": [
       "True"
      ]
     },
     "execution_count": 704,
     "metadata": {},
     "output_type": "execute_result"
    }
   ],
   "source": [
    "10==8/2 or 6==3*2"
   ]
  },
  {
   "cell_type": "code",
   "execution_count": 713,
   "id": "a5ab0bea",
   "metadata": {},
   "outputs": [
    {
     "data": {
      "text/plain": [
       "True"
      ]
     },
     "execution_count": 713,
     "metadata": {},
     "output_type": "execute_result"
    }
   ],
   "source": [
    "6*3==1 or 15*4==60 and 18/3==6 or \"hii\"=='Hii'"
   ]
  },
  {
   "cell_type": "code",
   "execution_count": 714,
   "id": "1292bcb8",
   "metadata": {},
   "outputs": [
    {
     "data": {
      "text/plain": [
       "True"
      ]
     },
     "execution_count": 714,
     "metadata": {},
     "output_type": "execute_result"
    }
   ],
   "source": [
    "6/1==6.0"
   ]
  },
  {
   "cell_type": "code",
   "execution_count": 715,
   "id": "feca2b19",
   "metadata": {},
   "outputs": [
    {
     "data": {
      "text/plain": [
       "False"
      ]
     },
     "execution_count": 715,
     "metadata": {},
     "output_type": "execute_result"
    }
   ],
   "source": [
    "3*2==5 or 5**2==24"
   ]
  },
  {
   "cell_type": "code",
   "execution_count": 721,
   "id": "d590efc3",
   "metadata": {},
   "outputs": [
    {
     "data": {
      "text/plain": [
       "True"
      ]
     },
     "execution_count": 721,
     "metadata": {},
     "output_type": "execute_result"
    }
   ],
   "source": [
    "(89**2==7921) and 63*2==126"
   ]
  },
  {
   "cell_type": "code",
   "execution_count": 718,
   "id": "9c3840fe",
   "metadata": {},
   "outputs": [
    {
     "data": {
      "text/plain": [
       "7921"
      ]
     },
     "execution_count": 718,
     "metadata": {},
     "output_type": "execute_result"
    }
   ],
   "source": [
    "89**2"
   ]
  },
  {
   "cell_type": "code",
   "execution_count": 722,
   "id": "419607cf",
   "metadata": {},
   "outputs": [
    {
     "data": {
      "text/plain": [
       "True"
      ]
     },
     "execution_count": 722,
     "metadata": {},
     "output_type": "execute_result"
    }
   ],
   "source": [
    "not 1==2"
   ]
  },
  {
   "cell_type": "code",
   "execution_count": 727,
   "id": "768db529",
   "metadata": {},
   "outputs": [
    {
     "data": {
      "text/plain": [
       "True"
      ]
     },
     "execution_count": 727,
     "metadata": {},
     "output_type": "execute_result"
    }
   ],
   "source": [
    "not 400>=409"
   ]
  },
  {
   "cell_type": "code",
   "execution_count": 758,
   "id": "489b5048",
   "metadata": {},
   "outputs": [
    {
     "data": {
      "text/plain": [
       "True"
      ]
     },
     "execution_count": 758,
     "metadata": {},
     "output_type": "execute_result"
    }
   ],
   "source": [
    "not 84<=80 and 86<=89 or 64**0.5==31"
   ]
  },
  {
   "cell_type": "code",
   "execution_count": null,
   "id": "0dd9b5c3",
   "metadata": {},
   "outputs": [],
   "source": []
  },
  {
   "cell_type": "code",
   "execution_count": null,
   "id": "a18c6d3d",
   "metadata": {},
   "outputs": [],
   "source": []
  },
  {
   "cell_type": "markdown",
   "id": "39df28f3",
   "metadata": {},
   "source": [
    "#if elif and else statement\n",
    "#syntax of an if statement\n",
    "\n",
    "#if will always be the first condition\n",
    "#elif can used in a number of condition(can or can not be use)\n",
    "#else will be the last condition\n",
    "\n",
    "if some_condition:\n",
    "    #execute some code\n",
    "elif some_other_condition:\n",
    "    #execute some other code\n",
    "elif*n number of time\n",
    "\n",
    "else:\n",
    "    #execute some other code"
   ]
  },
  {
   "cell_type": "code",
   "execution_count": 761,
   "id": "dd051c39",
   "metadata": {},
   "outputs": [
    {
     "name": "stdout",
     "output_type": "stream",
     "text": [
      "It's True!\n"
     ]
    }
   ],
   "source": [
    "if True:\n",
    "    print(\"It's True!\")"
   ]
  },
  {
   "cell_type": "code",
   "execution_count": 773,
   "id": "c8e70e9f",
   "metadata": {},
   "outputs": [
    {
     "name": "stdout",
     "output_type": "stream",
     "text": [
      "It's True\n"
     ]
    }
   ],
   "source": [
    "hungry=True\n",
    "if hungry==True:\n",
    "    print(\"It's True\")"
   ]
  },
  {
   "cell_type": "code",
   "execution_count": 776,
   "id": "39d805fb",
   "metadata": {},
   "outputs": [
    {
     "name": "stdout",
     "output_type": "stream",
     "text": [
      "Thank You! am Full\n"
     ]
    }
   ],
   "source": [
    "hungry=False\n",
    "if hungry:\n",
    "    print(\"FEED ME!\")\n",
    "else:\n",
    "    print(\"Thank You! am Full\")"
   ]
  },
  {
   "cell_type": "code",
   "execution_count": 777,
   "id": "648cebf3",
   "metadata": {},
   "outputs": [
    {
     "name": "stdout",
     "output_type": "stream",
     "text": [
      "I'm not hungry\n"
     ]
    }
   ],
   "source": [
    "hungry=False\n",
    "if hungry:\n",
    "    print(\"FEED ME!\")\n",
    "else:\n",
    "    print(\"I'm not hungry\")"
   ]
  },
  {
   "cell_type": "code",
   "execution_count": 782,
   "id": "f6363801",
   "metadata": {},
   "outputs": [
    {
     "name": "stdout",
     "output_type": "stream",
     "text": [
      "Money is Awesome\n"
     ]
    }
   ],
   "source": [
    "loc='Bank'\n",
    "if loc==\"Auto Shop\":\n",
    "    print(\"Cars are cool\")\n",
    "elif loc==\"Bank\":\n",
    "    print(\"Money is Awesome\")\n",
    "elif loc==\"Store\":\n",
    "    print(\"Welcome to the Store\")\n",
    "else:\n",
    "    print(\"I do not know much\")"
   ]
  },
  {
   "cell_type": "code",
   "execution_count": 783,
   "id": "dfec8cf6",
   "metadata": {},
   "outputs": [
    {
     "name": "stdout",
     "output_type": "stream",
     "text": [
      "I do not know much\n"
     ]
    }
   ],
   "source": [
    "loc='Game'\n",
    "if loc==\"Auto Shop\":\n",
    "    print(\"Cars are cool\")\n",
    "elif loc==\"Bank\":\n",
    "    print(\"Money is Awesome\")\n",
    "elif loc==\"Store\":\n",
    "    print(\"Welcome to the Store\")\n",
    "else:\n",
    "    print(\"I do not know much\")"
   ]
  },
  {
   "cell_type": "code",
   "execution_count": 784,
   "id": "6294400b",
   "metadata": {},
   "outputs": [
    {
     "name": "stdout",
     "output_type": "stream",
     "text": [
      "I do not know much\n"
     ]
    }
   ],
   "source": [
    "loc='BANK'\n",
    "if loc==\"Auto Shop\":\n",
    "    print(\"Cars are cool\")\n",
    "elif loc==\"Bank\":\n",
    "    print(\"Money is Awesome\")\n",
    "elif loc==\"Store\":\n",
    "    print(\"Welcome to the Store\")\n",
    "else:\n",
    "    print(\"I do not know much\")"
   ]
  },
  {
   "cell_type": "code",
   "execution_count": 794,
   "id": "e9d6909b",
   "metadata": {},
   "outputs": [
    {
     "name": "stdout",
     "output_type": "stream",
     "text": [
      "Hello Sammy! How you Doing?\n"
     ]
    }
   ],
   "source": [
    "name= \"Sammy\"\n",
    "if name==\"Sammy\":\n",
    "    print(\"Hello Sammy! How you Doing?\")\n",
    "elif name==\"Frankie\":\n",
    "    print(\"Hello Frankie! How are you mate\")\n",
    "else:\n",
    "    print(\"Hey dude! What's your name?\")"
   ]
  },
  {
   "cell_type": "code",
   "execution_count": 796,
   "id": "48f837e5",
   "metadata": {},
   "outputs": [
    {
     "name": "stdout",
     "output_type": "stream",
     "text": [
      "Hey dude! What's your name?\n"
     ]
    }
   ],
   "source": [
    "name= \"Jack\"\n",
    "if name==\"Sammy\":\n",
    "    print(\"Hello Sammy! How you Doing?\")\n",
    "elif name==\"Frankie\":\n",
    "    print(\"Hello Frankie! How are you mate\")\n",
    "else:\n",
    "    print(\"Hey dude! What's your name?\")"
   ]
  },
  {
   "cell_type": "code",
   "execution_count": null,
   "id": "b8d37be9",
   "metadata": {},
   "outputs": [],
   "source": []
  },
  {
   "cell_type": "code",
   "execution_count": null,
   "id": "c6f3a708",
   "metadata": {},
   "outputs": [],
   "source": []
  },
  {
   "cell_type": "markdown",
   "id": "9565ec84",
   "metadata": {},
   "source": [
    "For Loops"
   ]
  },
  {
   "cell_type": "code",
   "execution_count": 799,
   "id": "e258137b",
   "metadata": {},
   "outputs": [
    {
     "name": "stdout",
     "output_type": "stream",
     "text": [
      "1\n",
      "2\n",
      "3\n"
     ]
    }
   ],
   "source": [
    "#syntax of a for loop\n",
    "\n",
    "my_iterable=[1,2,3]\n",
    "for item_name in my_iterable:\n",
    "    print(item_name)"
   ]
  },
  {
   "cell_type": "code",
   "execution_count": 803,
   "id": "c8994903",
   "metadata": {},
   "outputs": [
    {
     "name": "stdout",
     "output_type": "stream",
     "text": [
      "1\n",
      "2\n",
      "3\n",
      "4\n",
      "5\n",
      "6\n",
      "7\n",
      "8\n",
      "9\n",
      "10\n"
     ]
    }
   ],
   "source": [
    "mylist=[1,2,3,4,5,6,7,8,9,10]\n",
    "for num in mylist:\n",
    "    print (num)"
   ]
  },
  {
   "cell_type": "code",
   "execution_count": 806,
   "id": "a9119caa",
   "metadata": {},
   "outputs": [
    {
     "name": "stdout",
     "output_type": "stream",
     "text": [
      "hello\n",
      "hello\n",
      "hello\n",
      "hello\n",
      "hello\n"
     ]
    }
   ],
   "source": [
    "mylist=[1,2,3,4,5]\n",
    "for num in mylist:\n",
    "    print (\"hello\")"
   ]
  },
  {
   "cell_type": "code",
   "execution_count": 810,
   "id": "5b6ef1ad",
   "metadata": {},
   "outputs": [
    {
     "name": "stdout",
     "output_type": "stream",
     "text": [
      "h\n",
      "h\n",
      "h\n",
      "h\n",
      "h\n"
     ]
    }
   ],
   "source": [
    "mylist=['a','b','c','d','e']\n",
    "for num in mylist:\n",
    "    print(\"h\")"
   ]
  },
  {
   "cell_type": "code",
   "execution_count": 832,
   "id": "52e310cb",
   "metadata": {},
   "outputs": [
    {
     "name": "stdout",
     "output_type": "stream",
     "text": [
      "1 is a odd number\n",
      "2 is a even number\n",
      "3 is a odd number\n",
      "4 is a even number\n",
      "5 is a odd number\n",
      "6 is a even number\n",
      "7 is a odd number\n",
      "8 is a even number\n",
      "9 is a odd number\n",
      "10 is a even number\n"
     ]
    }
   ],
   "source": [
    "#even or odd number\n",
    "mylist=[1,2,3,4,5,6,7,8,9,10]\n",
    "for num in mylist:\n",
    "    #check for even number\n",
    "    if num%2==0:\n",
    "        print (f\"{num} is a even number\")\n",
    "    else:\n",
    "        print(f\"{num} is a odd number\")"
   ]
  },
  {
   "cell_type": "code",
   "execution_count": 833,
   "id": "df37a4be",
   "metadata": {},
   "outputs": [
    {
     "name": "stdout",
     "output_type": "stream",
     "text": [
      "1 is a odd number\n",
      "2 is a even number\n",
      "3 is a odd number\n",
      "4 is a even number\n",
      "5 is a odd number\n",
      "6 is a even number\n",
      "7 is a odd number\n",
      "8 is a even number\n",
      "9 is a odd number\n",
      "10 is a even number\n"
     ]
    }
   ],
   "source": [
    "mylist=[1,2,3,4,5,6,7,8,9,10]\n",
    "for num in mylist:\n",
    "    if num%2==0:\n",
    "        print(f\"{num} is a even number\")\n",
    "    else:\n",
    "        print(f\"{num} is a odd number\")"
   ]
  },
  {
   "cell_type": "code",
   "execution_count": 937,
   "id": "140aaca9",
   "metadata": {},
   "outputs": [
    {
     "name": "stdout",
     "output_type": "stream",
     "text": [
      "a is a vowel\n",
      "b is a consonant\n",
      "d is a consonant\n",
      "g is a consonant\n",
      "r is a consonant\n",
      "e is a vowel\n",
      "k is a consonant\n",
      "o is a vowel\n",
      "i is a vowel\n",
      "z is a consonant\n",
      "l is a consonant\n",
      "m is a consonant\n"
     ]
    }
   ],
   "source": [
    "alpha=['a','b','d','g','r','e','k','o','i','z','l','m']\n",
    "for _ in alpha:\n",
    "    if _==('a'):\n",
    "        print(f'{_} is a vowel')\n",
    "    elif _==('e'):\n",
    "        print(f'{_} is a vowel')\n",
    "    elif _==('i'):\n",
    "        print(f'{_} is a vowel')\n",
    "    elif _==('o'):\n",
    "        print(f'{_} is a vowel')\n",
    "    elif _==('u'):\n",
    "        print(f'{_} is a vowel')\n",
    "    else:\n",
    "        print(f'{_} is a consonant')"
   ]
  },
  {
   "cell_type": "code",
   "execution_count": 836,
   "id": "aa774da2",
   "metadata": {},
   "outputs": [
    {
     "data": {
      "text/plain": [
       "[1, 2, 3, 4, 5, 6, 7, 8, 9, 10]"
      ]
     },
     "execution_count": 836,
     "metadata": {},
     "output_type": "execute_result"
    }
   ],
   "source": [
    "mylist"
   ]
  },
  {
   "cell_type": "code",
   "execution_count": 842,
   "id": "7062eee9",
   "metadata": {},
   "outputs": [
    {
     "name": "stdout",
     "output_type": "stream",
     "text": [
      "1\n",
      "3\n",
      "6\n",
      "10\n",
      "15\n",
      "21\n",
      "28\n",
      "36\n",
      "45\n",
      "55\n"
     ]
    }
   ],
   "source": [
    "list_sum=0\n",
    "for num in mylist:\n",
    "    list_sum=list_sum+num\n",
    "    print(list_sum)\n"
   ]
  },
  {
   "cell_type": "code",
   "execution_count": 844,
   "id": "fa38eaef",
   "metadata": {},
   "outputs": [
    {
     "name": "stdout",
     "output_type": "stream",
     "text": [
      "Hello World\n",
      "Hello World\n",
      "Hello World\n",
      "Hello World\n",
      "Hello World\n",
      "Hello World\n",
      "Hello World\n",
      "Hello World\n",
      "Hello World\n",
      "Hello World\n",
      "Hello World\n"
     ]
    }
   ],
   "source": [
    "mystring='Hello World'\n",
    "\n",
    "for letter in mystring:\n",
    "    print(mystring)"
   ]
  },
  {
   "cell_type": "code",
   "execution_count": 850,
   "id": "abe5dfe0",
   "metadata": {},
   "outputs": [
    {
     "data": {
      "text/plain": [
       "11"
      ]
     },
     "execution_count": 850,
     "metadata": {},
     "output_type": "execute_result"
    }
   ],
   "source": [
    "len('Hello World')"
   ]
  },
  {
   "cell_type": "code",
   "execution_count": 851,
   "id": "c049e2d2",
   "metadata": {},
   "outputs": [
    {
     "name": "stdout",
     "output_type": "stream",
     "text": [
      "Hello World\n",
      "Hello World\n",
      "Hello World\n",
      "Hello World\n",
      "Hello World\n",
      "Hello World\n",
      "Hello World\n",
      "Hello World\n",
      "Hello World\n",
      "Hello World\n",
      "Hello World\n"
     ]
    }
   ],
   "source": [
    "#mystring='Hello World'\n",
    "\n",
    "for letter in mystring:\n",
    "    print(\"Hello World\")"
   ]
  },
  {
   "cell_type": "code",
   "execution_count": 863,
   "id": "a215d3fc",
   "metadata": {},
   "outputs": [
    {
     "name": "stdout",
     "output_type": "stream",
     "text": [
      "Cool!\n",
      "Cool!\n",
      "Cool!\n"
     ]
    }
   ],
   "source": [
    "#mystring='Hello World'\n",
    "\n",
    "for _ in 'SUN':\n",
    "    print(\"Cool!\")"
   ]
  },
  {
   "cell_type": "code",
   "execution_count": 862,
   "id": "8ca01783",
   "metadata": {},
   "outputs": [
    {
     "name": "stdout",
     "output_type": "stream",
     "text": [
      "1\n",
      "2\n",
      "3\n",
      "4\n"
     ]
    }
   ],
   "source": [
    "tup=[1,2,3,4]\n",
    "for item in tup:\n",
    "    print(item)"
   ]
  },
  {
   "cell_type": "code",
   "execution_count": 872,
   "id": "8bebd0bd",
   "metadata": {},
   "outputs": [
    {
     "name": "stdout",
     "output_type": "stream",
     "text": [
      "1\n",
      "2\n",
      "3\n",
      "4\n",
      "5\n",
      "6\n",
      "7\n",
      "8\n",
      "9\n"
     ]
    }
   ],
   "source": [
    "tup=(1,2,3,4,5,6,7,8,9)\n",
    "for _ in tup:\n",
    "    print(_)"
   ]
  },
  {
   "cell_type": "code",
   "execution_count": 876,
   "id": "82d9f5e2",
   "metadata": {},
   "outputs": [
    {
     "data": {
      "text/plain": [
       "4"
      ]
     },
     "execution_count": 876,
     "metadata": {},
     "output_type": "execute_result"
    }
   ],
   "source": [
    "mylist=[(1,2),(3,4),(5,6),(7,8)]\n",
    "len(mylist)"
   ]
  },
  {
   "cell_type": "code",
   "execution_count": 878,
   "id": "707bd1fa",
   "metadata": {},
   "outputs": [
    {
     "name": "stdout",
     "output_type": "stream",
     "text": [
      "(1, 2)\n",
      "(3, 4)\n",
      "(5, 6)\n",
      "(7, 8)\n"
     ]
    }
   ],
   "source": [
    "for item in mylist:\n",
    "    print(item)"
   ]
  },
  {
   "cell_type": "code",
   "execution_count": 881,
   "id": "39843dd1",
   "metadata": {},
   "outputs": [
    {
     "name": "stdout",
     "output_type": "stream",
     "text": [
      "[(1, 2), (3, 4), (5, 6), (7, 8)]\n",
      "[(1, 2), (3, 4), (5, 6), (7, 8)]\n",
      "[(1, 2), (3, 4), (5, 6), (7, 8)]\n",
      "[(1, 2), (3, 4), (5, 6), (7, 8)]\n"
     ]
    }
   ],
   "source": [
    "for item in mylist:\n",
    "    print(mylist)"
   ]
  },
  {
   "cell_type": "code",
   "execution_count": 882,
   "id": "03fe6780",
   "metadata": {},
   "outputs": [
    {
     "name": "stdout",
     "output_type": "stream",
     "text": [
      "1\n",
      "2\n"
     ]
    }
   ],
   "source": [
    "for item in (1,2):\n",
    "    print(item)"
   ]
  },
  {
   "cell_type": "code",
   "execution_count": 883,
   "id": "621d69a1",
   "metadata": {},
   "outputs": [
    {
     "name": "stdout",
     "output_type": "stream",
     "text": [
      "(1, 2)\n",
      "(1, 2)\n"
     ]
    }
   ],
   "source": [
    "for item in (1,2):\n",
    "    print((1,2))"
   ]
  },
  {
   "cell_type": "code",
   "execution_count": 889,
   "id": "f9e0fe90",
   "metadata": {},
   "outputs": [
    {
     "data": {
      "text/plain": [
       "[(1, 2), (3, 4), (5, 6), (7, 8)]"
      ]
     },
     "execution_count": 889,
     "metadata": {},
     "output_type": "execute_result"
    }
   ],
   "source": [
    "mylist"
   ]
  },
  {
   "cell_type": "code",
   "execution_count": 891,
   "id": "fd8d9f91",
   "metadata": {},
   "outputs": [
    {
     "name": "stdout",
     "output_type": "stream",
     "text": [
      "1\n",
      "3\n",
      "5\n",
      "7\n"
     ]
    }
   ],
   "source": [
    "for a,b in mylist:\n",
    "    print (a)"
   ]
  },
  {
   "cell_type": "code",
   "execution_count": 904,
   "id": "55090f16",
   "metadata": {},
   "outputs": [
    {
     "name": "stdout",
     "output_type": "stream",
     "text": [
      "1\n",
      "4\n",
      "7\n"
     ]
    }
   ],
   "source": [
    "mylist=[(1,2,3),(4,5,6),(7,8,9)]\n",
    "for a,b,c in mylist:\n",
    "    print(a)"
   ]
  },
  {
   "cell_type": "code",
   "execution_count": 925,
   "id": "db48858e",
   "metadata": {},
   "outputs": [
    {
     "name": "stdout",
     "output_type": "stream",
     "text": [
      "k1\n",
      "k2\n",
      "k3\n"
     ]
    }
   ],
   "source": [
    "d={'k1':1,'k2':2,'k3':3}\n",
    "for value in d.keys():\n",
    "    print(value)"
   ]
  },
  {
   "cell_type": "code",
   "execution_count": 918,
   "id": "57665dc5",
   "metadata": {},
   "outputs": [
    {
     "data": {
      "text/plain": [
       "dict"
      ]
     },
     "execution_count": 918,
     "metadata": {},
     "output_type": "execute_result"
    }
   ],
   "source": [
    "type(d)"
   ]
  },
  {
   "cell_type": "code",
   "execution_count": null,
   "id": "07df86ff",
   "metadata": {},
   "outputs": [],
   "source": []
  },
  {
   "cell_type": "code",
   "execution_count": null,
   "id": "3d99744d",
   "metadata": {},
   "outputs": [],
   "source": []
  },
  {
   "cell_type": "code",
   "execution_count": null,
   "id": "4a1ce8d6",
   "metadata": {},
   "outputs": [],
   "source": [
    "#While loops\n",
    "syntax of a while loop\n",
    "while some_boolean_condition\n",
    "     #do something\n",
    "else:\n",
    "    #do something else"
   ]
  },
  {
   "cell_type": "code",
   "execution_count": 947,
   "id": "5b5575cd",
   "metadata": {},
   "outputs": [
    {
     "name": "stdout",
     "output_type": "stream",
     "text": [
      "The current value of x is 0\n",
      "The current value of x is 1\n",
      "The current value of x is 2\n",
      "The current value of x is 3\n",
      "The current value of x is 4\n",
      "The current value of x is 5\n",
      "Now 6 is the value of x and x is not less than 5\n"
     ]
    }
   ],
   "source": [
    "x=0\n",
    "while x<=5:\n",
    "    print(f'The current value of x is {x}')\n",
    "    x+=1\n",
    "else:\n",
    "    print(f\"Now {x} is the value of x and x is not less than 5\")"
   ]
  },
  {
   "cell_type": "code",
   "execution_count": null,
   "id": "713cec76",
   "metadata": {},
   "outputs": [],
   "source": []
  },
  {
   "cell_type": "code",
   "execution_count": 958,
   "id": "5e1668f3",
   "metadata": {},
   "outputs": [],
   "source": [
    "#There are three functions or methods that we use in for or while loop to add some new functionality for various cases\n",
    "#Those are:-\n",
    "#break:- Breaks out of the current closest enclosing loop\n",
    "#continue:- Goes to the top of the closest encloseing loop\n",
    "#pass:- Does nothing at all"
   ]
  },
  {
   "cell_type": "code",
   "execution_count": 959,
   "id": "5ca7fb3f",
   "metadata": {},
   "outputs": [
    {
     "name": "stdout",
     "output_type": "stream",
     "text": [
      "end of my script\n"
     ]
    }
   ],
   "source": [
    "#use of pass\n",
    "x=[1,2,3]\n",
    "for item in x:\n",
    "    #comment\n",
    "    pass\n",
    "print('end of my script')\n",
    "#we used pass function to avoid the error which was gonna throw by the for loop"
   ]
  },
  {
   "cell_type": "code",
   "execution_count": 962,
   "id": "96165108",
   "metadata": {},
   "outputs": [
    {
     "name": "stdout",
     "output_type": "stream",
     "text": [
      "S\n",
      "m\n",
      "m\n",
      "y\n"
     ]
    }
   ],
   "source": [
    "#use of continue\n",
    "mystring=\"Sammy\"\n",
    "for letter in mystring:\n",
    "    if letter =='a':\n",
    "        continue\n",
    "    print(letter)\n",
    "#here we use continue funtionality to back to the beginning of the loop and to go forward in the loop"
   ]
  },
  {
   "cell_type": "code",
   "execution_count": 964,
   "id": "0ce17498",
   "metadata": {},
   "outputs": [
    {
     "name": "stdout",
     "output_type": "stream",
     "text": [
      "S\n"
     ]
    }
   ],
   "source": [
    "#use of break\n",
    "mystring=\"Sammy\"\n",
    "for letter in mystring:\n",
    "    if letter =='a':\n",
    "        break\n",
    "    print (letter)"
   ]
  },
  {
   "cell_type": "code",
   "execution_count": 976,
   "id": "84a542f9",
   "metadata": {},
   "outputs": [
    {
     "name": "stdout",
     "output_type": "stream",
     "text": [
      "0\n",
      "1\n"
     ]
    }
   ],
   "source": [
    "x=0\n",
    "while x <=5:\n",
    "    if x==2:\n",
    "        break\n",
    "    print(x)\n",
    "    x+=1"
   ]
  },
  {
   "cell_type": "code",
   "execution_count": 977,
   "id": "df6625c3",
   "metadata": {},
   "outputs": [
    {
     "name": "stdout",
     "output_type": "stream",
     "text": [
      "a is a vowel\n",
      "b is a consonant\n",
      "d is a consonant\n",
      "g is a consonant\n",
      "r is a consonant\n",
      "e is a vowel\n"
     ]
    }
   ],
   "source": [
    "alpha=['a','b','d','g','r','e','k','o','i','z','l','m']\n",
    "for _ in alpha:\n",
    "    if _==('a'):\n",
    "        print(f'{_} is a vowel')\n",
    "    elif _==('e'):\n",
    "        print(f'{_} is a vowel')\n",
    "    elif _==('i'):\n",
    "        print(f'{_} is a vowel')\n",
    "    elif _==('o'):\n",
    "        print(f'{_} is a vowel')\n",
    "    elif _==('u'):\n",
    "        print(f'{_} is a vowel')\n",
    "    elif _==('k'):\n",
    "        break\n",
    "    else:\n",
    "        print(f'{_} is a consonant')"
   ]
  },
  {
   "cell_type": "code",
   "execution_count": null,
   "id": "cb7bcc64",
   "metadata": {},
   "outputs": [],
   "source": []
  },
  {
   "cell_type": "code",
   "execution_count": 982,
   "id": "d3f1d955",
   "metadata": {},
   "outputs": [
    {
     "name": "stdout",
     "output_type": "stream",
     "text": [
      "1\n",
      "2\n",
      "3\n"
     ]
    }
   ],
   "source": [
    "mylist=[1,2,3]\n",
    "for _ in mylist:\n",
    "    print(_)"
   ]
  },
  {
   "cell_type": "code",
   "execution_count": 983,
   "id": "0447853b",
   "metadata": {},
   "outputs": [
    {
     "name": "stdout",
     "output_type": "stream",
     "text": [
      "0\n",
      "1\n",
      "2\n",
      "3\n",
      "4\n",
      "5\n",
      "6\n",
      "7\n",
      "8\n",
      "9\n"
     ]
    }
   ],
   "source": [
    "for _ in range(10):\n",
    "    print(_)"
   ]
  },
  {
   "cell_type": "code",
   "execution_count": 987,
   "id": "de402344",
   "metadata": {},
   "outputs": [
    {
     "name": "stdout",
     "output_type": "stream",
     "text": [
      "10\n",
      "11\n",
      "12\n",
      "13\n",
      "14\n",
      "15\n",
      "16\n",
      "17\n",
      "18\n",
      "19\n"
     ]
    }
   ],
   "source": [
    "for _ in range(10,20):\n",
    "    print(_)"
   ]
  },
  {
   "cell_type": "code",
   "execution_count": 990,
   "id": "2c07e3a5",
   "metadata": {},
   "outputs": [
    {
     "name": "stdout",
     "output_type": "stream",
     "text": [
      "-5\n",
      "0\n",
      "5\n",
      "10\n",
      "15\n"
     ]
    }
   ],
   "source": [
    "for _ in range(-5,20,5):\n",
    "    print(_)"
   ]
  },
  {
   "cell_type": "code",
   "execution_count": 992,
   "id": "c269cb7d",
   "metadata": {},
   "outputs": [
    {
     "data": {
      "text/plain": [
       "[0, 2, 4, 6, 8, 10]"
      ]
     },
     "execution_count": 992,
     "metadata": {},
     "output_type": "execute_result"
    }
   ],
   "source": [
    "list(range(0,11,2))"
   ]
  },
  {
   "cell_type": "code",
   "execution_count": 1002,
   "id": "e21121af",
   "metadata": {},
   "outputs": [
    {
     "name": "stdout",
     "output_type": "stream",
     "text": [
      "At index 0 the letter is a\n",
      "At index 1 the letter is b\n",
      "At index 2 the letter is c\n",
      "At index 3 the letter is d\n",
      "At index 4 the letter is e\n"
     ]
    }
   ],
   "source": [
    "index_count=0\n",
    "word='abcde'\n",
    "for letter in word:\n",
    "    print('At index {} the letter is {}'.format(index_count,letter))\n",
    "    index_count+=1"
   ]
  },
  {
   "cell_type": "code",
   "execution_count": 1008,
   "id": "84609501",
   "metadata": {},
   "outputs": [
    {
     "name": "stdout",
     "output_type": "stream",
     "text": [
      "0, A\n",
      "1\n",
      "2, q\n",
      "3, u\n",
      "4, i\n",
      "5, c\n",
      "6, k\n",
      "7\n",
      "8, b\n",
      "9, r\n",
      "10, o\n",
      "11, w\n",
      "12, n\n",
      "13\n",
      "14, f\n",
      "15, o\n",
      "16, x\n",
      "17\n",
      "18, j\n",
      "19, u\n",
      "20, m\n",
      "21, p\n",
      "22, s\n",
      "23\n",
      "24, o\n",
      "25, v\n",
      "26, e\n",
      "27, r\n",
      "28\n",
      "29, t\n",
      "30, h\n",
      "31, e\n",
      "32\n",
      "33, l\n",
      "34, a\n",
      "35, z\n",
      "36, y\n",
      "37\n",
      "38, t\n",
      "39, u\n",
      "40, r\n",
      "41, t\n",
      "42, l\n",
      "43, e\n"
     ]
    }
   ],
   "source": [
    "index_value=0\n",
    "sentence='A quick brown fox jumps over the lazy turtle'\n",
    "for letter in sentence:\n",
    "    if letter !=' ':\n",
    "        print(\"{}, {}\".format(index_value,letter))\n",
    "    else:\n",
    "        print(\"{}\".format(index_value))\n",
    "    index_value+=1"
   ]
  },
  {
   "cell_type": "code",
   "execution_count": 1023,
   "id": "2e7eb8b9",
   "metadata": {},
   "outputs": [
    {
     "name": "stdout",
     "output_type": "stream",
     "text": [
      "<enumerate object at 0x000002435BB3E340>\n"
     ]
    }
   ],
   "source": [
    "word='abcde'\n",
    "print(enumerate(word))"
   ]
  },
  {
   "cell_type": "code",
   "execution_count": 1045,
   "id": "cb9597eb",
   "metadata": {},
   "outputs": [
    {
     "name": "stdout",
     "output_type": "stream",
     "text": [
      "(0, 'a')\n",
      "(1, 'b')\n",
      "(2, 'c')\n",
      "(3, 'd')\n",
      "(4, 'e')\n"
     ]
    }
   ],
   "source": [
    "#index_count=0\n",
    "word='abcde'\n",
    "for lm in enumerate(word):\n",
    "    print(lm)\n",
    "    #print(b)\n",
    "    #print('\\n')"
   ]
  },
  {
   "cell_type": "code",
   "execution_count": 1040,
   "id": "29e1c034",
   "metadata": {},
   "outputs": [
    {
     "data": {
      "text/plain": [
       "tuple"
      ]
     },
     "execution_count": 1040,
     "metadata": {},
     "output_type": "execute_result"
    }
   ],
   "source": [
    "type(lm)"
   ]
  },
  {
   "cell_type": "code",
   "execution_count": 1058,
   "id": "0a548fdc",
   "metadata": {},
   "outputs": [
    {
     "name": "stdout",
     "output_type": "stream",
     "text": [
      "1\n",
      "2\n",
      "3\n",
      "4\n"
     ]
    }
   ],
   "source": [
    "list1=[1,2,3,4,5,6]\n",
    "list2=['a','b','c','d','e']\n",
    "list3=['!','@','#','$']\n",
    "for a,b,c in zip(list1,list2,list3):\n",
    "    print (a)\n",
    "#zip(list1,list2)"
   ]
  },
  {
   "cell_type": "code",
   "execution_count": 1035,
   "id": "98b909ac",
   "metadata": {},
   "outputs": [
    {
     "data": {
      "text/plain": [
       "tuple"
      ]
     },
     "execution_count": 1035,
     "metadata": {},
     "output_type": "execute_result"
    }
   ],
   "source": [
    "type(item)"
   ]
  },
  {
   "cell_type": "code",
   "execution_count": 1055,
   "id": "fe51ce17",
   "metadata": {},
   "outputs": [
    {
     "data": {
      "text/plain": [
       "[(1, 'a', '!'), (2, 'b', '@'), (3, 'c', '#'), (4, 'd', '$')]"
      ]
     },
     "execution_count": 1055,
     "metadata": {},
     "output_type": "execute_result"
    }
   ],
   "source": [
    "list(zip(list1,list2,list3))"
   ]
  },
  {
   "cell_type": "code",
   "execution_count": 1059,
   "id": "4d94774e",
   "metadata": {},
   "outputs": [
    {
     "data": {
      "text/plain": [
       "False"
      ]
     },
     "execution_count": 1059,
     "metadata": {},
     "output_type": "execute_result"
    }
   ],
   "source": [
    "'x' in [1,2,3]"
   ]
  },
  {
   "cell_type": "code",
   "execution_count": 1060,
   "id": "cb75061f",
   "metadata": {},
   "outputs": [
    {
     "data": {
      "text/plain": [
       "True"
      ]
     },
     "execution_count": 1060,
     "metadata": {},
     "output_type": "execute_result"
    }
   ],
   "source": [
    "'x' in ['a','b','z','x','r']"
   ]
  },
  {
   "cell_type": "code",
   "execution_count": 1061,
   "id": "cc5047d6",
   "metadata": {},
   "outputs": [
    {
     "data": {
      "text/plain": [
       "True"
      ]
     },
     "execution_count": 1061,
     "metadata": {},
     "output_type": "execute_result"
    }
   ],
   "source": [
    "'a' in 'This is a world'"
   ]
  },
  {
   "cell_type": "code",
   "execution_count": 1083,
   "id": "47190721",
   "metadata": {},
   "outputs": [
    {
     "data": {
      "text/plain": [
       "True"
      ]
     },
     "execution_count": 1083,
     "metadata": {},
     "output_type": "execute_result"
    }
   ],
   "source": [
    "d={\"mykey\":345}\n",
    "345 in d.values()"
   ]
  },
  {
   "cell_type": "code",
   "execution_count": 1067,
   "id": "000d9739",
   "metadata": {},
   "outputs": [
    {
     "data": {
      "text/plain": [
       "True"
      ]
     },
     "execution_count": 1067,
     "metadata": {},
     "output_type": "execute_result"
    }
   ],
   "source": [
    "\"fruits\" in {'apple':\"fruits\"}.values()"
   ]
  },
  {
   "cell_type": "code",
   "execution_count": 1094,
   "id": "6a9d6f4f",
   "metadata": {},
   "outputs": [
    {
     "data": {
      "text/plain": [
       "10"
      ]
     },
     "execution_count": 1094,
     "metadata": {},
     "output_type": "execute_result"
    }
   ],
   "source": [
    "mylist=[10,20,30,40,50,60,70,80,90,100]\n",
    "min(mylist)"
   ]
  },
  {
   "cell_type": "code",
   "execution_count": 1101,
   "id": "804e0b68",
   "metadata": {},
   "outputs": [
    {
     "data": {
      "text/plain": [
       "100.1"
      ]
     },
     "execution_count": 1101,
     "metadata": {},
     "output_type": "execute_result"
    }
   ],
   "source": [
    "max(mylist)"
   ]
  },
  {
   "cell_type": "code",
   "execution_count": 1099,
   "id": "ca20c96c",
   "metadata": {},
   "outputs": [
    {
     "data": {
      "text/plain": [
       "10"
      ]
     },
     "execution_count": 1099,
     "metadata": {},
     "output_type": "execute_result"
    }
   ],
   "source": [
    "mylist=(10,20,30,40,50,60,70,80,90,100,100.1)\n",
    "min(mylist)"
   ]
  },
  {
   "cell_type": "code",
   "execution_count": 1100,
   "id": "8f6f5e31",
   "metadata": {},
   "outputs": [
    {
     "data": {
      "text/plain": [
       "100.1"
      ]
     },
     "execution_count": 1100,
     "metadata": {},
     "output_type": "execute_result"
    }
   ],
   "source": [
    "max(mylist)"
   ]
  },
  {
   "cell_type": "code",
   "execution_count": 1132,
   "id": "69112e20",
   "metadata": {},
   "outputs": [
    {
     "data": {
      "text/plain": [
       "'aa'"
      ]
     },
     "execution_count": 1132,
     "metadata": {},
     "output_type": "execute_result"
    }
   ],
   "source": [
    "fruits=(\"Apple\",\"Banana\",'Guava','Cherry',\"Pomegranate\",\"aa\")\n",
    "min(fruits)\n",
    "max(fruits)"
   ]
  },
  {
   "cell_type": "code",
   "execution_count": 1,
   "id": "a9c1a400",
   "metadata": {},
   "outputs": [],
   "source": [
    "from random import shuffle"
   ]
  },
  {
   "cell_type": "code",
   "execution_count": 2,
   "id": "d03b7291",
   "metadata": {},
   "outputs": [],
   "source": [
    "mylist= list(range(1,11))"
   ]
  },
  {
   "cell_type": "code",
   "execution_count": 3,
   "id": "4d455d29",
   "metadata": {},
   "outputs": [
    {
     "data": {
      "text/plain": [
       "[1, 2, 3, 4, 5, 6, 7, 8, 9, 10]"
      ]
     },
     "execution_count": 3,
     "metadata": {},
     "output_type": "execute_result"
    }
   ],
   "source": [
    "mylist"
   ]
  },
  {
   "cell_type": "code",
   "execution_count": 4,
   "id": "35f0e539",
   "metadata": {},
   "outputs": [],
   "source": [
    "shuffle(mylist)"
   ]
  },
  {
   "cell_type": "code",
   "execution_count": 5,
   "id": "0fd54151",
   "metadata": {},
   "outputs": [
    {
     "data": {
      "text/plain": [
       "[1, 3, 8, 7, 2, 4, 10, 9, 6, 5]"
      ]
     },
     "execution_count": 5,
     "metadata": {},
     "output_type": "execute_result"
    }
   ],
   "source": [
    "mylist"
   ]
  },
  {
   "cell_type": "code",
   "execution_count": 6,
   "id": "d11ae678",
   "metadata": {},
   "outputs": [
    {
     "data": {
      "text/plain": [
       "[1, 3, 8, 7, 2, 4, 10, 9, 6, 5]"
      ]
     },
     "execution_count": 6,
     "metadata": {},
     "output_type": "execute_result"
    }
   ],
   "source": [
    "mylist"
   ]
  },
  {
   "cell_type": "code",
   "execution_count": 7,
   "id": "b6db1819",
   "metadata": {},
   "outputs": [],
   "source": [
    "random_list=shuffle(mylist)"
   ]
  },
  {
   "cell_type": "code",
   "execution_count": 8,
   "id": "776135d3",
   "metadata": {},
   "outputs": [
    {
     "data": {
      "text/plain": [
       "NoneType"
      ]
     },
     "execution_count": 8,
     "metadata": {},
     "output_type": "execute_result"
    }
   ],
   "source": [
    "type(random_list)"
   ]
  },
  {
   "cell_type": "code",
   "execution_count": 9,
   "id": "dc589170",
   "metadata": {},
   "outputs": [
    {
     "data": {
      "text/plain": [
       "[4, 1, 8, 3, 7, 9, 10, 2, 5, 6]"
      ]
     },
     "execution_count": 9,
     "metadata": {},
     "output_type": "execute_result"
    }
   ],
   "source": [
    "mylist"
   ]
  },
  {
   "cell_type": "code",
   "execution_count": 10,
   "id": "f7f51498",
   "metadata": {},
   "outputs": [
    {
     "data": {
      "text/plain": [
       "75"
      ]
     },
     "execution_count": 10,
     "metadata": {},
     "output_type": "execute_result"
    }
   ],
   "source": [
    "#randint\n",
    "from random import randint\n",
    "randint(0,100)"
   ]
  },
  {
   "cell_type": "code",
   "execution_count": 11,
   "id": "be375728",
   "metadata": {},
   "outputs": [],
   "source": [
    "mynum=randint(0,100)"
   ]
  },
  {
   "cell_type": "code",
   "execution_count": 12,
   "id": "37d59184",
   "metadata": {},
   "outputs": [
    {
     "data": {
      "text/plain": [
       "20"
      ]
     },
     "execution_count": 12,
     "metadata": {},
     "output_type": "execute_result"
    }
   ],
   "source": [
    "mynum"
   ]
  },
  {
   "cell_type": "code",
   "execution_count": 13,
   "id": "f562a871",
   "metadata": {},
   "outputs": [
    {
     "data": {
      "text/plain": [
       "20"
      ]
     },
     "execution_count": 13,
     "metadata": {},
     "output_type": "execute_result"
    }
   ],
   "source": [
    "mynum"
   ]
  },
  {
   "cell_type": "code",
   "execution_count": 15,
   "id": "fc733903",
   "metadata": {},
   "outputs": [
    {
     "name": "stdout",
     "output_type": "stream",
     "text": [
      "Enter a number:-Pratham\n"
     ]
    },
    {
     "data": {
      "text/plain": [
       "'Pratham'"
      ]
     },
     "execution_count": 15,
     "metadata": {},
     "output_type": "execute_result"
    }
   ],
   "source": [
    "input(\"Enter a number:-\")"
   ]
  },
  {
   "cell_type": "code",
   "execution_count": 16,
   "id": "5f9195d1",
   "metadata": {},
   "outputs": [
    {
     "data": {
      "text/plain": [
       "'apple'"
      ]
     },
     "execution_count": 16,
     "metadata": {},
     "output_type": "execute_result"
    }
   ],
   "source": [
    "result='apple'\n",
    "#input (\"What is your name?\")\n",
    "result"
   ]
  },
  {
   "cell_type": "code",
   "execution_count": 18,
   "id": "acb533eb",
   "metadata": {},
   "outputs": [
    {
     "ename": "NameError",
     "evalue": "name 'mylist1' is not defined",
     "output_type": "error",
     "traceback": [
      "\u001b[1;31m---------------------------------------------------------------------------\u001b[0m",
      "\u001b[1;31mNameError\u001b[0m                                 Traceback (most recent call last)",
      "Cell \u001b[1;32mIn[18], line 1\u001b[0m\n\u001b[1;32m----> 1\u001b[0m mylist1\n",
      "\u001b[1;31mNameError\u001b[0m: name 'mylist1' is not defined"
     ]
    }
   ],
   "source": [
    "mylist1"
   ]
  },
  {
   "cell_type": "code",
   "execution_count": 19,
   "id": "5a342596",
   "metadata": {},
   "outputs": [
    {
     "name": "stdout",
     "output_type": "stream",
     "text": [
      "What is you name\n"
     ]
    }
   ],
   "source": [
    "result = input('What is you name')"
   ]
  },
  {
   "cell_type": "code",
   "execution_count": 20,
   "id": "825cc84c",
   "metadata": {},
   "outputs": [
    {
     "name": "stdout",
     "output_type": "stream",
     "text": [
      "What is your name? \n"
     ]
    }
   ],
   "source": [
    "result = input(\"What is your name? \")\n"
   ]
  },
  {
   "cell_type": "code",
   "execution_count": 21,
   "id": "b4b7e9f5",
   "metadata": {},
   "outputs": [
    {
     "name": "stdout",
     "output_type": "stream",
     "text": [
      "What is you namePratham\n"
     ]
    }
   ],
   "source": [
    "a=input(\"What is you name\")"
   ]
  },
  {
   "cell_type": "code",
   "execution_count": 22,
   "id": "7fc230bc",
   "metadata": {},
   "outputs": [
    {
     "data": {
      "text/plain": [
       "method"
      ]
     },
     "execution_count": 22,
     "metadata": {},
     "output_type": "execute_result"
    }
   ],
   "source": [
    "type(input)"
   ]
  },
  {
   "cell_type": "code",
   "execution_count": 23,
   "id": "a3307d77",
   "metadata": {},
   "outputs": [],
   "source": [
    "mylist=[1,2,3]"
   ]
  },
  {
   "cell_type": "code",
   "execution_count": 24,
   "id": "989eef0c",
   "metadata": {},
   "outputs": [
    {
     "data": {
      "text/plain": [
       "[1, 2, 3]"
      ]
     },
     "execution_count": 24,
     "metadata": {},
     "output_type": "execute_result"
    }
   ],
   "source": [
    "mylist"
   ]
  },
  {
   "cell_type": "code",
   "execution_count": null,
   "id": "921b2d6f",
   "metadata": {},
   "outputs": [],
   "source": []
  }
 ],
 "metadata": {
  "kernelspec": {
   "display_name": "Python 3 (ipykernel)",
   "language": "python",
   "name": "python3"
  },
  "language_info": {
   "codemirror_mode": {
    "name": "ipython",
    "version": 3
   },
   "file_extension": ".py",
   "mimetype": "text/x-python",
   "name": "python",
   "nbconvert_exporter": "python",
   "pygments_lexer": "ipython3",
   "version": "3.11.5"
  }
 },
 "nbformat": 4,
 "nbformat_minor": 5
}
