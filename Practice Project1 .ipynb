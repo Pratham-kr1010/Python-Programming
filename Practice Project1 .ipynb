{
 "cells": [
  {
   "cell_type": "markdown",
   "id": "9c0fc4f8",
   "metadata": {},
   "source": [
    "#Displaying Information"
   ]
  },
  {
   "cell_type": "code",
   "execution_count": 1,
   "id": "5fcb8763",
   "metadata": {},
   "outputs": [
    {
     "name": "stdout",
     "output_type": "stream",
     "text": [
      "1 2 3\n"
     ]
    }
   ],
   "source": [
    "print(1,2,3)"
   ]
  },
  {
   "cell_type": "code",
   "execution_count": 2,
   "id": "bc119d93",
   "metadata": {},
   "outputs": [
    {
     "name": "stdout",
     "output_type": "stream",
     "text": [
      "[1, 2, 3]\n"
     ]
    }
   ],
   "source": [
    "print([1,2,3])"
   ]
  },
  {
   "cell_type": "code",
   "execution_count": null,
   "id": "ebdcc4d5",
   "metadata": {},
   "outputs": [],
   "source": []
  },
  {
   "cell_type": "code",
   "execution_count": 3,
   "id": "5452e63f",
   "metadata": {},
   "outputs": [],
   "source": [
    "def display(row1,row2,row3):\n",
    "    print(row1)\n",
    "    print(row2)\n",
    "    print(row3)"
   ]
  },
  {
   "cell_type": "code",
   "execution_count": 4,
   "id": "0b2fd024",
   "metadata": {},
   "outputs": [
    {
     "ename": "NameError",
     "evalue": "name 'example_row' is not defined",
     "output_type": "error",
     "traceback": [
      "\u001b[1;31m---------------------------------------------------------------------------\u001b[0m",
      "\u001b[1;31mNameError\u001b[0m                                 Traceback (most recent call last)",
      "Cell \u001b[1;32mIn[4], line 5\u001b[0m\n\u001b[0;32m      2\u001b[0m row2\u001b[38;5;241m=\u001b[39m[\u001b[38;5;124m\"\u001b[39m\u001b[38;5;124m \u001b[39m\u001b[38;5;124m\"\u001b[39m,\u001b[38;5;124m\"\u001b[39m\u001b[38;5;124m \u001b[39m\u001b[38;5;124m\"\u001b[39m,\u001b[38;5;124m\"\u001b[39m\u001b[38;5;124m \u001b[39m\u001b[38;5;124m\"\u001b[39m]\n\u001b[0;32m      3\u001b[0m row3\u001b[38;5;241m=\u001b[39m[\u001b[38;5;124m\"\u001b[39m\u001b[38;5;124m \u001b[39m\u001b[38;5;124m\"\u001b[39m,\u001b[38;5;124m\"\u001b[39m\u001b[38;5;124m \u001b[39m\u001b[38;5;124m\"\u001b[39m,\u001b[38;5;124m\"\u001b[39m\u001b[38;5;124m \u001b[39m\u001b[38;5;124m\"\u001b[39m]\n\u001b[1;32m----> 5\u001b[0m display(example_row,example_row,example_row)\n",
      "\u001b[1;31mNameError\u001b[0m: name 'example_row' is not defined"
     ]
    }
   ],
   "source": [
    "row1=[\" \",\" \",\" \"]\n",
    "row2=[\" \",\" \",\" \"]\n",
    "row3=[\" \",\" \",\" \"]\n",
    "\n",
    "display(example_row,example_row,example_row)"
   ]
  },
  {
   "cell_type": "code",
   "execution_count": 5,
   "id": "b9a7715c",
   "metadata": {},
   "outputs": [
    {
     "name": "stdout",
     "output_type": "stream",
     "text": [
      "[' ', ' ', ' ']\n",
      "[' ', ' ', ' ']\n",
      "[' ', ' ', ' ']\n"
     ]
    }
   ],
   "source": [
    "display(row1,row2,row3)"
   ]
  },
  {
   "cell_type": "code",
   "execution_count": 6,
   "id": "590c060d",
   "metadata": {},
   "outputs": [
    {
     "ename": "NameError",
     "evalue": "name 'r' is not defined",
     "output_type": "error",
     "traceback": [
      "\u001b[1;31m---------------------------------------------------------------------------\u001b[0m",
      "\u001b[1;31mNameError\u001b[0m                                 Traceback (most recent call last)",
      "Cell \u001b[1;32mIn[6], line 1\u001b[0m\n\u001b[1;32m----> 1\u001b[0m display(r)\n",
      "\u001b[1;31mNameError\u001b[0m: name 'r' is not defined"
     ]
    }
   ],
   "source": [
    "display(r)"
   ]
  },
  {
   "cell_type": "code",
   "execution_count": 7,
   "id": "42da002a",
   "metadata": {},
   "outputs": [],
   "source": [
    "row2[1]='X'"
   ]
  },
  {
   "cell_type": "code",
   "execution_count": 8,
   "id": "0b6a24b8",
   "metadata": {},
   "outputs": [
    {
     "name": "stdout",
     "output_type": "stream",
     "text": [
      "[' ', ' ', ' ']\n",
      "[' ', 'X', ' ']\n",
      "[' ', ' ', ' ']\n"
     ]
    }
   ],
   "source": [
    "display(row1,row2,row3)"
   ]
  },
  {
   "cell_type": "code",
   "execution_count": 9,
   "id": "bfaf4382",
   "metadata": {},
   "outputs": [],
   "source": [
    "row1[0]=\"O\""
   ]
  },
  {
   "cell_type": "code",
   "execution_count": 10,
   "id": "19632abd",
   "metadata": {},
   "outputs": [
    {
     "name": "stdout",
     "output_type": "stream",
     "text": [
      "['O', ' ', ' ']\n",
      "[' ', 'X', ' ']\n",
      "[' ', ' ', ' ']\n"
     ]
    }
   ],
   "source": [
    "display(row1,row2,row3)"
   ]
  },
  {
   "cell_type": "code",
   "execution_count": 11,
   "id": "747fe9cf",
   "metadata": {},
   "outputs": [],
   "source": [
    "row3[2]=\"X\""
   ]
  },
  {
   "cell_type": "code",
   "execution_count": 12,
   "id": "69d2e800",
   "metadata": {},
   "outputs": [
    {
     "name": "stdout",
     "output_type": "stream",
     "text": [
      "['O', ' ', ' ']\n",
      "[' ', 'X', ' ']\n",
      "[' ', ' ', 'X']\n"
     ]
    }
   ],
   "source": [
    "display(row1,row2,row3)"
   ]
  },
  {
   "cell_type": "code",
   "execution_count": 13,
   "id": "b3bf6915",
   "metadata": {},
   "outputs": [],
   "source": [
    "row1[2]=\"O\""
   ]
  },
  {
   "cell_type": "code",
   "execution_count": 14,
   "id": "c7986abb",
   "metadata": {},
   "outputs": [
    {
     "name": "stdout",
     "output_type": "stream",
     "text": [
      "['O', ' ', 'O']\n",
      "[' ', 'X', ' ']\n",
      "[' ', ' ', 'X']\n"
     ]
    }
   ],
   "source": [
    "display(row1,row2,row3)"
   ]
  },
  {
   "cell_type": "code",
   "execution_count": 15,
   "id": "c6221258",
   "metadata": {},
   "outputs": [],
   "source": [
    "row2[0]=\"X\""
   ]
  },
  {
   "cell_type": "code",
   "execution_count": 16,
   "id": "64eed844",
   "metadata": {},
   "outputs": [
    {
     "name": "stdout",
     "output_type": "stream",
     "text": [
      "['O', ' ', 'O']\n",
      "['X', 'X', ' ']\n",
      "[' ', ' ', 'X']\n"
     ]
    }
   ],
   "source": [
    "display(row1,row2,row3)"
   ]
  },
  {
   "cell_type": "code",
   "execution_count": 17,
   "id": "03a987bc",
   "metadata": {},
   "outputs": [],
   "source": [
    "row2[2]=\"O\""
   ]
  },
  {
   "cell_type": "code",
   "execution_count": 18,
   "id": "fe0c2f8e",
   "metadata": {},
   "outputs": [
    {
     "name": "stdout",
     "output_type": "stream",
     "text": [
      "['O', ' ', 'O']\n",
      "['X', 'X', 'O']\n",
      "[' ', ' ', 'X']\n"
     ]
    }
   ],
   "source": [
    "display(row1,row2,row3)"
   ]
  },
  {
   "cell_type": "code",
   "execution_count": 19,
   "id": "bd6a9d30",
   "metadata": {},
   "outputs": [],
   "source": [
    "row1[1]=\"X\""
   ]
  },
  {
   "cell_type": "code",
   "execution_count": 20,
   "id": "f9e4d982",
   "metadata": {},
   "outputs": [
    {
     "name": "stdout",
     "output_type": "stream",
     "text": [
      "['O', 'X', 'O']\n",
      "['X', 'X', 'O']\n",
      "[' ', ' ', 'X']\n"
     ]
    }
   ],
   "source": [
    "display(row1,row2,row3)"
   ]
  },
  {
   "cell_type": "code",
   "execution_count": 21,
   "id": "894424ec",
   "metadata": {},
   "outputs": [],
   "source": [
    "row3[1]=\"O\""
   ]
  },
  {
   "cell_type": "code",
   "execution_count": 22,
   "id": "2f144dde",
   "metadata": {},
   "outputs": [
    {
     "name": "stdout",
     "output_type": "stream",
     "text": [
      "['O', 'X', 'O']\n",
      "['X', 'X', 'O']\n",
      "[' ', 'O', 'X']\n"
     ]
    }
   ],
   "source": [
    "display(row1,row2,row3)"
   ]
  },
  {
   "cell_type": "code",
   "execution_count": 23,
   "id": "dc080891",
   "metadata": {},
   "outputs": [],
   "source": [
    "row3[0]=\"X\""
   ]
  },
  {
   "cell_type": "code",
   "execution_count": 24,
   "id": "5fb258b9",
   "metadata": {},
   "outputs": [
    {
     "name": "stdout",
     "output_type": "stream",
     "text": [
      "['O', 'X', 'O']\n",
      "['X', 'X', 'O']\n",
      "['X', 'O', 'X']\n"
     ]
    }
   ],
   "source": [
    "display(row1,row2,row3)"
   ]
  },
  {
   "cell_type": "code",
   "execution_count": 25,
   "id": "2c9b591d",
   "metadata": {},
   "outputs": [
    {
     "data": {
      "text/plain": [
       "' '"
      ]
     },
     "execution_count": 25,
     "metadata": {},
     "output_type": "execute_result"
    }
   ],
   "source": [
    "row2[1].replace(\"X\",\" \")"
   ]
  },
  {
   "cell_type": "code",
   "execution_count": 26,
   "id": "2d106619",
   "metadata": {},
   "outputs": [
    {
     "name": "stdout",
     "output_type": "stream",
     "text": [
      "['O', 'X', 'O']\n",
      "['X', 'X', 'O']\n",
      "['X', 'O', 'X']\n"
     ]
    }
   ],
   "source": [
    "display(row1,row2,row3)"
   ]
  },
  {
   "cell_type": "code",
   "execution_count": null,
   "id": "3d138fe6",
   "metadata": {},
   "outputs": [],
   "source": []
  },
  {
   "cell_type": "code",
   "execution_count": null,
   "id": "2fc7d846",
   "metadata": {},
   "outputs": [],
   "source": []
  },
  {
   "cell_type": "code",
   "execution_count": null,
   "id": "7b121e7f",
   "metadata": {},
   "outputs": [],
   "source": []
  },
  {
   "cell_type": "code",
   "execution_count": null,
   "id": "ac91bb95",
   "metadata": {},
   "outputs": [],
   "source": []
  },
  {
   "cell_type": "code",
   "execution_count": null,
   "id": "df2568a7",
   "metadata": {},
   "outputs": [],
   "source": []
  },
  {
   "cell_type": "markdown",
   "id": "9cf8b069",
   "metadata": {},
   "source": [
    "#Accepting user Input"
   ]
  },
  {
   "cell_type": "code",
   "execution_count": 27,
   "id": "b452e917",
   "metadata": {},
   "outputs": [
    {
     "name": "stdout",
     "output_type": "stream",
     "text": [
      "Please enter a value: 1\n"
     ]
    },
    {
     "data": {
      "text/plain": [
       "'1'"
      ]
     },
     "execution_count": 27,
     "metadata": {},
     "output_type": "execute_result"
    }
   ],
   "source": [
    "input(\"Please enter a value: \")"
   ]
  },
  {
   "cell_type": "code",
   "execution_count": 28,
   "id": "2d99997e",
   "metadata": {},
   "outputs": [
    {
     "name": "stdout",
     "output_type": "stream",
     "text": [
      "Please enter a value: 2\n"
     ]
    }
   ],
   "source": [
    "result=input(\"Please enter a value: \")"
   ]
  },
  {
   "cell_type": "code",
   "execution_count": 29,
   "id": "45e1dfc2",
   "metadata": {},
   "outputs": [
    {
     "data": {
      "text/plain": [
       "'2'"
      ]
     },
     "execution_count": 29,
     "metadata": {},
     "output_type": "execute_result"
    }
   ],
   "source": [
    "result"
   ]
  },
  {
   "cell_type": "code",
   "execution_count": 30,
   "id": "3808c56e",
   "metadata": {},
   "outputs": [
    {
     "data": {
      "text/plain": [
       "str"
      ]
     },
     "execution_count": 30,
     "metadata": {},
     "output_type": "execute_result"
    }
   ],
   "source": [
    "type(result)"
   ]
  },
  {
   "cell_type": "code",
   "execution_count": 31,
   "id": "a2c90cee",
   "metadata": {},
   "outputs": [
    {
     "name": "stdout",
     "output_type": "stream",
     "text": [
      "Enter Value: 2\n"
     ]
    }
   ],
   "source": [
    "result= input(\"Enter Value: \")"
   ]
  },
  {
   "cell_type": "code",
   "execution_count": 32,
   "id": "ed9c6adf",
   "metadata": {},
   "outputs": [],
   "source": [
    "result_int=int(result)"
   ]
  },
  {
   "cell_type": "code",
   "execution_count": 33,
   "id": "0578e9c5",
   "metadata": {},
   "outputs": [
    {
     "data": {
      "text/plain": [
       "2"
      ]
     },
     "execution_count": 33,
     "metadata": {},
     "output_type": "execute_result"
    }
   ],
   "source": [
    "result_int"
   ]
  },
  {
   "cell_type": "code",
   "execution_count": 34,
   "id": "086c740c",
   "metadata": {},
   "outputs": [
    {
     "data": {
      "text/plain": [
       "str"
      ]
     },
     "execution_count": 34,
     "metadata": {},
     "output_type": "execute_result"
    }
   ],
   "source": [
    "type (result)"
   ]
  },
  {
   "cell_type": "code",
   "execution_count": 35,
   "id": "184f9538",
   "metadata": {},
   "outputs": [
    {
     "data": {
      "text/plain": [
       "int"
      ]
     },
     "execution_count": 35,
     "metadata": {},
     "output_type": "execute_result"
    }
   ],
   "source": [
    "type(result_int)"
   ]
  },
  {
   "cell_type": "code",
   "execution_count": 36,
   "id": "19a30f38",
   "metadata": {},
   "outputs": [
    {
     "data": {
      "text/plain": [
       "2.0"
      ]
     },
     "execution_count": 36,
     "metadata": {},
     "output_type": "execute_result"
    }
   ],
   "source": [
    "float(\"2\")"
   ]
  },
  {
   "cell_type": "code",
   "execution_count": 37,
   "id": "b8507ea9",
   "metadata": {},
   "outputs": [
    {
     "data": {
      "text/plain": [
       "3.0"
      ]
     },
     "execution_count": 37,
     "metadata": {},
     "output_type": "execute_result"
    }
   ],
   "source": [
    "float(\"3\")"
   ]
  },
  {
   "cell_type": "code",
   "execution_count": 38,
   "id": "111cc16c",
   "metadata": {},
   "outputs": [
    {
     "name": "stdout",
     "output_type": "stream",
     "text": [
      "Choose an index position: 3\n"
     ]
    }
   ],
   "source": [
    "position_index=input(\"Choose an index position: \")"
   ]
  },
  {
   "cell_type": "code",
   "execution_count": 39,
   "id": "1a7320c2",
   "metadata": {},
   "outputs": [
    {
     "data": {
      "text/plain": [
       "'3'"
      ]
     },
     "execution_count": 39,
     "metadata": {},
     "output_type": "execute_result"
    }
   ],
   "source": [
    "position_index #this will be a string"
   ]
  },
  {
   "cell_type": "code",
   "execution_count": 40,
   "id": "2daba114",
   "metadata": {},
   "outputs": [
    {
     "data": {
      "text/plain": [
       "str"
      ]
     },
     "execution_count": 40,
     "metadata": {},
     "output_type": "execute_result"
    }
   ],
   "source": [
    "type(position_index)"
   ]
  },
  {
   "cell_type": "code",
   "execution_count": 41,
   "id": "1c72608a",
   "metadata": {},
   "outputs": [
    {
     "ename": "TypeError",
     "evalue": "list indices must be integers or slices, not str",
     "output_type": "error",
     "traceback": [
      "\u001b[1;31m---------------------------------------------------------------------------\u001b[0m",
      "\u001b[1;31mTypeError\u001b[0m                                 Traceback (most recent call last)",
      "Cell \u001b[1;32mIn[41], line 1\u001b[0m\n\u001b[1;32m----> 1\u001b[0m row2[position_index]\n",
      "\u001b[1;31mTypeError\u001b[0m: list indices must be integers or slices, not str"
     ]
    }
   ],
   "source": [
    "row2[position_index]"
   ]
  },
  {
   "cell_type": "code",
   "execution_count": 42,
   "id": "e5fa6150",
   "metadata": {},
   "outputs": [
    {
     "data": {
      "text/plain": [
       "['X', 'X', 'O']"
      ]
     },
     "execution_count": 42,
     "metadata": {},
     "output_type": "execute_result"
    }
   ],
   "source": [
    "row2"
   ]
  },
  {
   "cell_type": "code",
   "execution_count": 44,
   "id": "d785a4e8",
   "metadata": {},
   "outputs": [
    {
     "name": "stdout",
     "output_type": "stream",
     "text": [
      "Choose an index position: 2\n"
     ]
    }
   ],
   "source": [
    "position_index=int(input(\"Choose an index position: \"))"
   ]
  },
  {
   "cell_type": "code",
   "execution_count": null,
   "id": "28410390",
   "metadata": {},
   "outputs": [],
   "source": []
  },
  {
   "cell_type": "code",
   "execution_count": 45,
   "id": "ddb3527a",
   "metadata": {},
   "outputs": [
    {
     "data": {
      "text/plain": [
       "'O'"
      ]
     },
     "execution_count": 45,
     "metadata": {},
     "output_type": "execute_result"
    }
   ],
   "source": [
    "row2[position_index]"
   ]
  },
  {
   "cell_type": "code",
   "execution_count": 46,
   "id": "adf06895",
   "metadata": {},
   "outputs": [
    {
     "data": {
      "text/plain": [
       "int"
      ]
     },
     "execution_count": 46,
     "metadata": {},
     "output_type": "execute_result"
    }
   ],
   "source": [
    "type(position_index)"
   ]
  },
  {
   "cell_type": "code",
   "execution_count": 48,
   "id": "236ec4dd",
   "metadata": {},
   "outputs": [
    {
     "name": "stdout",
     "output_type": "stream",
     "text": [
      "Choose an index position: 1\n"
     ]
    }
   ],
   "source": [
    "position_index=int(input(\"Choose an index position: \"))"
   ]
  },
  {
   "cell_type": "code",
   "execution_count": 49,
   "id": "8e3e131e",
   "metadata": {},
   "outputs": [
    {
     "name": "stdout",
     "output_type": "stream",
     "text": [
      "Enter a number: 2\n"
     ]
    },
    {
     "data": {
      "text/plain": [
       "'2'"
      ]
     },
     "execution_count": 49,
     "metadata": {},
     "output_type": "execute_result"
    }
   ],
   "source": [
    "input(\"Enter a number: \")"
   ]
  },
  {
   "cell_type": "code",
   "execution_count": 50,
   "id": "72e93a05",
   "metadata": {},
   "outputs": [
    {
     "data": {
      "text/plain": [
       "4"
      ]
     },
     "execution_count": 50,
     "metadata": {},
     "output_type": "execute_result"
    }
   ],
   "source": [
    "2+2"
   ]
  },
  {
   "cell_type": "code",
   "execution_count": null,
   "id": "65cffa88",
   "metadata": {},
   "outputs": [],
   "source": []
  },
  {
   "cell_type": "markdown",
   "id": "897462a9",
   "metadata": {},
   "source": [
    "#Validating User Input"
   ]
  },
  {
   "cell_type": "code",
   "execution_count": 51,
   "id": "ececacbd",
   "metadata": {},
   "outputs": [],
   "source": [
    "def user_choice():\n",
    "    \n",
    "    \n",
    "    choice=input(\"Please enter a number (0-10): \")\n",
    "    \n",
    "    \n",
    "    return int(choice)\n"
   ]
  },
  {
   "cell_type": "code",
   "execution_count": 52,
   "id": "3449f6d0",
   "metadata": {},
   "outputs": [
    {
     "name": "stdout",
     "output_type": "stream",
     "text": [
      "Please enter a number (0-10): 7\n"
     ]
    },
    {
     "data": {
      "text/plain": [
       "7"
      ]
     },
     "execution_count": 52,
     "metadata": {},
     "output_type": "execute_result"
    }
   ],
   "source": [
    "user_choice()"
   ]
  },
  {
   "cell_type": "code",
   "execution_count": 53,
   "id": "9f0879e1",
   "metadata": {},
   "outputs": [
    {
     "name": "stdout",
     "output_type": "stream",
     "text": [
      "Enter something: 23\n",
      "23 is a number.\n"
     ]
    }
   ],
   "source": [
    "user_input=input(\"Enter something: \")\n",
    "\n",
    "if type(int(user_input))==int:\n",
    "    print (f'{user_input} is a number.')\n",
    "else:\n",
    "    print (f'{user_input} is not a number')"
   ]
  },
  {
   "cell_type": "code",
   "execution_count": 54,
   "id": "69e834e4",
   "metadata": {},
   "outputs": [
    {
     "name": "stdout",
     "output_type": "stream",
     "text": [
      "Enter something:3\n",
      "Not a number\n"
     ]
    }
   ],
   "source": [
    "user_input = input(\"Enter something:\") #because input will always comes in the form of string only\n",
    "\n",
    "if (user_input)==int:\n",
    "    print(\"Is a number\")\n",
    "else:\n",
    "    print(\"Not a number\")"
   ]
  },
  {
   "cell_type": "code",
   "execution_count": 55,
   "id": "2dbff7cc",
   "metadata": {},
   "outputs": [
    {
     "name": "stdout",
     "output_type": "stream",
     "text": [
      "Enter something:34\n",
      "Is a number\n"
     ]
    }
   ],
   "source": [
    "user_input = input(\"Enter something:\")\n",
    "\n",
    "if (user_input.isnumeric):\n",
    "    print(\"Is a number\")\n",
    "else:\n",
    "    print(\"Not a number\")"
   ]
  },
  {
   "cell_type": "code",
   "execution_count": 56,
   "id": "f0895cf4",
   "metadata": {},
   "outputs": [],
   "source": [
    "def user_choice():\n",
    "    \n",
    "    \n",
    "    choice=input(\"Please enter a number (0-10): \")\n",
    "    \n",
    "    \n",
    "    return int(choice)\n"
   ]
  },
  {
   "cell_type": "code",
   "execution_count": 57,
   "id": "b70abae8",
   "metadata": {},
   "outputs": [
    {
     "data": {
      "text/plain": [
       "<function str.isdigit()>"
      ]
     },
     "execution_count": 57,
     "metadata": {},
     "output_type": "execute_result"
    }
   ],
   "source": [
    "some_value=\"100\"\n",
    "some_value.isdigit #parenthesis is important"
   ]
  },
  {
   "cell_type": "code",
   "execution_count": 58,
   "id": "833a8a46",
   "metadata": {},
   "outputs": [
    {
     "data": {
      "text/plain": [
       "True"
      ]
     },
     "execution_count": 58,
     "metadata": {},
     "output_type": "execute_result"
    }
   ],
   "source": [
    "some_value.isdigit()"
   ]
  },
  {
   "cell_type": "code",
   "execution_count": 59,
   "id": "f7ef07ea",
   "metadata": {},
   "outputs": [],
   "source": [
    "def user_choice():\n",
    "    \n",
    "    choice=\"Wrong\"\n",
    "    \n",
    "    while choice.isdigit()==False:\n",
    "        \n",
    "        choice=input(\"Please enter a number (0-10): \")\n",
    "        \n",
    "        \n",
    "    return int(choice)\n"
   ]
  },
  {
   "cell_type": "code",
   "execution_count": 60,
   "id": "3ca3e034",
   "metadata": {},
   "outputs": [
    {
     "name": "stdout",
     "output_type": "stream",
     "text": [
      "Please enter a number (0-10): 23\n"
     ]
    },
    {
     "data": {
      "text/plain": [
       "23"
      ]
     },
     "execution_count": 60,
     "metadata": {},
     "output_type": "execute_result"
    }
   ],
   "source": [
    "user_choice()"
   ]
  },
  {
   "cell_type": "code",
   "execution_count": 61,
   "id": "39df56fc",
   "metadata": {},
   "outputs": [],
   "source": [
    "def user_choice():\n",
    "    \n",
    "    choice=\"Wrong\"\n",
    "    \n",
    "    while choice.isdigit()==False:\n",
    "        \n",
    "        choice=input(\"Please enter a number (0-10): \")\n",
    "        \n",
    "        if choice.isdigit()==False:\n",
    "            print(\"Sorry that is not a digit.\")\n",
    "        else:\n",
    "            print (\"That is a digit\")\n",
    "        \n",
    "    return int(choice)\n"
   ]
  },
  {
   "cell_type": "code",
   "execution_count": 62,
   "id": "e74bab22",
   "metadata": {},
   "outputs": [
    {
     "name": "stdout",
     "output_type": "stream",
     "text": [
      "Please enter a number (0-10): 23\n",
      "That is a digit\n"
     ]
    },
    {
     "data": {
      "text/plain": [
       "23"
      ]
     },
     "execution_count": 62,
     "metadata": {},
     "output_type": "execute_result"
    }
   ],
   "source": [
    "user_choice()"
   ]
  },
  {
   "cell_type": "code",
   "execution_count": 100,
   "id": "0eb0adc6",
   "metadata": {},
   "outputs": [],
   "source": [
    "#To check whether the digit is a number or not\n",
    "def user_choice():\n",
    "    \n",
    "    choice=\"Wrong\"\n",
    "    \n",
    "    while choice.isdigit()==False: #we used this while loop to stay inside the loop untill we get our desired output\n",
    "        \n",
    "        choice=input(\"Please enter a number (0-10): \")\n",
    "        \n",
    "        #num=int(choice)\n",
    "        if choice.isdigit():\n",
    "            num=int(choice)\n",
    "            if 0<=num<=10:\n",
    "                print(\"a\")\n",
    "            else:\n",
    "                print(\"b\")\n",
    "        else:\n",
    "            print (\"given value is not number\")\n",
    "        \n",
    "    return int(choice)\n"
   ]
  },
  {
   "cell_type": "markdown",
   "id": "ed7511b3",
   "metadata": {},
   "source": [
    "def user_choice():\n",
    "  while True:  # Infinite loop until valid input\n",
    "    choice = input(\"Please enter a number (0-10): \")\n",
    "\n",
    "    if choice.isdigit():\n",
    "      number = int(choice)  # Convert to integer after checking it's a digit\n",
    "      if 0 <= number <= 10:\n",
    "        print(\"Given Value is a digit and in range\")\n",
    "        return number  # Return the valid number\n",
    "      else:\n",
    "        print(\"Given Value is a digit but not in range\")\n",
    "    else:\n",
    "      print(\"Sorry that is not a digit.\")\n"
   ]
  },
  {
   "cell_type": "code",
   "execution_count": 101,
   "id": "d4200dab",
   "metadata": {},
   "outputs": [
    {
     "ename": "NameError",
     "evalue": "name 'choice' is not defined",
     "output_type": "error",
     "traceback": [
      "\u001b[1;31m---------------------------------------------------------------------------\u001b[0m",
      "\u001b[1;31mNameError\u001b[0m                                 Traceback (most recent call last)",
      "Cell \u001b[1;32mIn[101], line 1\u001b[0m\n\u001b[1;32m----> 1\u001b[0m \u001b[38;5;28mtype\u001b[39m(choice)\n",
      "\u001b[1;31mNameError\u001b[0m: name 'choice' is not defined"
     ]
    }
   ],
   "source": [
    "type(choice) #The error \"choice is not defined\" arises because the variable choice is being used within the while loop before\n",
    "            # it's assigned a value within the loop's scope."
   ]
  },
  {
   "cell_type": "code",
   "execution_count": 103,
   "id": "e028acc3",
   "metadata": {},
   "outputs": [
    {
     "name": "stdout",
     "output_type": "stream",
     "text": [
      "Please enter a number (0-10): as\n",
      "given value is not number\n",
      "Please enter a number (0-10): 2\n",
      "a\n"
     ]
    },
    {
     "data": {
      "text/plain": [
       "2"
      ]
     },
     "execution_count": 103,
     "metadata": {},
     "output_type": "execute_result"
    }
   ],
   "source": [
    "user_choice()"
   ]
  },
  {
   "cell_type": "code",
   "execution_count": null,
   "id": "60044c66",
   "metadata": {},
   "outputs": [],
   "source": [
    "acceptable_value=[0,1,2,3,4,5,6,7,8,9,10,11,12,13]\n",
    "user_choice() in acceptable_value"
   ]
  },
  {
   "cell_type": "code",
   "execution_count": null,
   "id": "7a3ac41d",
   "metadata": {},
   "outputs": [],
   "source": [
    "choice in acceptable_value #choice is considered as nothing and whatever value we "
   ]
  },
  {
   "cell_type": "code",
   "execution_count": null,
   "id": "01fd251c",
   "metadata": {},
   "outputs": [],
   "source": [
    "type(choice)"
   ]
  },
  {
   "cell_type": "code",
   "execution_count": 108,
   "id": "22dcdb27",
   "metadata": {},
   "outputs": [],
   "source": [
    "def user_choice():\n",
    "    \n",
    "    #Variables\n",
    "    \n",
    "    #Initial Values\n",
    "  \n",
    "    choice=\"Wrong\"\n",
    "    acceptable_range=range(0,10)\n",
    "    within_range =False\n",
    "    \n",
    "    \n",
    "    #Two conditions to check\n",
    "    #digit or within_range==False\n",
    "    \n",
    "    while choice.isdigit()==False or within_range==False:\n",
    "        \n",
    "        choice=input(\"Please enter a number (0-10): \")\n",
    "        \n",
    "        \n",
    "        #DIGIT Check\n",
    "        if choice.isdigit()==False:\n",
    "            print(\"Sorry that is not a digit.\")\n",
    "        \n",
    "        #range Check\n",
    "        if choice.isdigit()==True:\n",
    "            if int(choice) in acceptable_range:\n",
    "                within_range=True\n",
    "            else:\n",
    "                print(\"Sorry you are out of acceptable range.\")\n",
    "                within_range=False\n",
    "        \n",
    "    return int(choice)\n"
   ]
  },
  {
   "cell_type": "code",
   "execution_count": 107,
   "id": "14419d03",
   "metadata": {},
   "outputs": [
    {
     "name": "stdout",
     "output_type": "stream",
     "text": [
      "Please enter a number (0-10): sad\n",
      "Sorry that is not a digit.\n",
      "Please enter a number (0-10): 12324\n",
      "Sorry you are out of acceptable range.\n",
      "Please enter a number (0-10): 23\n",
      "Sorry you are out of acceptable range.\n",
      "Please enter a number (0-10): 3\n"
     ]
    },
    {
     "data": {
      "text/plain": [
       "3"
      ]
     },
     "execution_count": 107,
     "metadata": {},
     "output_type": "execute_result"
    }
   ],
   "source": [
    "user_choice()"
   ]
  },
  {
   "cell_type": "markdown",
   "id": "663f8040",
   "metadata": {},
   "source": [
    "."
   ]
  },
  {
   "cell_type": "markdown",
   "id": "67e807e6",
   "metadata": {},
   "source": [
    "."
   ]
  },
  {
   "cell_type": "markdown",
   "id": "f940f6b6",
   "metadata": {},
   "source": [
    "#Simple User Interaction"
   ]
  },
  {
   "cell_type": "code",
   "execution_count": 13,
   "id": "e6c87a14",
   "metadata": {},
   "outputs": [],
   "source": [
    "from IPython.display import clear_output\n",
    "clear_output()"
   ]
  },
  {
   "cell_type": "code",
   "execution_count": 14,
   "id": "d83d5b6f",
   "metadata": {},
   "outputs": [],
   "source": [
    "game_list=[0,1,2]"
   ]
  },
  {
   "cell_type": "code",
   "execution_count": 9,
   "id": "f021d4f7",
   "metadata": {},
   "outputs": [
    {
     "name": "stdout",
     "output_type": "stream",
     "text": [
      "Here is the current list\n",
      "[0, 1, 2]\n"
     ]
    }
   ],
   "source": [
    "def display_game(game_list):\n",
    "    print(\"Here is the current list\")\n",
    "    print(game_list)\n",
    "    \n",
    "    \n",
    "    \n",
    "display_game(game_list)"
   ]
  },
  {
   "cell_type": "code",
   "execution_count": 3,
   "id": "e26418bb",
   "metadata": {},
   "outputs": [],
   "source": [
    "def position_choice():\n",
    "    \n",
    "    # This original choice value can be anything that isn't an integer\n",
    "    choice = 'wrong'\n",
    "    \n",
    "    # While the choice is not a digit, keep asking for input.\n",
    "    while choice not in ['0','1','2']:\n",
    "        \n",
    "        # we shouldn't convert here, otherwise we get an error on a wrong input\n",
    "        choice = input(\"Pick a position to replace (0,1,2): \")\n",
    "        \n",
    "        if choice not in ['0','1','2']:\n",
    "            # THIS CLEARS THE CURRENT OUTPUT BELOW THE CELL\n",
    "            clear_output()\n",
    "            \n",
    "            print(\"Sorry, but you did not choose a valid position (0,1,2)\")\n",
    "            \n",
    "    \n",
    "    # Optionally you can clear everything after running the function\n",
    "    # clear_output()\n",
    "    \n",
    "    # We can convert once the while loop above has confirmed we have a digit.\n",
    "    return int(choice)"
   ]
  },
  {
   "cell_type": "code",
   "execution_count": 5,
   "id": "ed9f57e3",
   "metadata": {},
   "outputs": [],
   "source": [
    "def replacement_choice(game_list,position):\n",
    "    \n",
    "    user_placement = input(\"Type a string to place at the position\")\n",
    "    \n",
    "    game_list[position] = user_placement\n",
    "    \n",
    "    return game_list"
   ]
  },
  {
   "cell_type": "code",
   "execution_count": 11,
   "id": "2b89cbcd",
   "metadata": {},
   "outputs": [],
   "source": [
    "def gameon_choice():\n",
    "    \n",
    "    # This original choice value can be anything that isn't a Y or N\n",
    "    choice = 'wrong'\n",
    "    \n",
    "    # While the choice is not a digit, keep asking for input.\n",
    "    while choice not in ['Y','N']:\n",
    "        \n",
    "        # we shouldn't convert here, otherwise we get an error on a wrong input\n",
    "        choice = input(\"Would you like to keep playing? Y or N \")\n",
    "\n",
    "        \n",
    "        if choice not in ['Y','N']:\n",
    "            # THIS CLEARS THE CURRENT OUTPUT BELOW THE CELL\n",
    "            clear_output()\n",
    "            \n",
    "            print(\"Sorry, I didn't understand. Please make sure to choose Y or N.\")\n",
    "            \n",
    "    \n",
    "    # Optionally you can clear everything after running the function\n",
    "    # clear_output()\n",
    "    \n",
    "    if choice == \"Y\":\n",
    "        # Game is still on\n",
    "        return True\n",
    "    else:\n",
    "        # Game is over\n",
    "        return False"
   ]
  },
  {
   "cell_type": "markdown",
   "id": "4c9705c7",
   "metadata": {},
   "source": [
    "#Game Logic All Together"
   ]
  },
  {
   "cell_type": "code",
   "execution_count": 15,
   "id": "93f938a2",
   "metadata": {},
   "outputs": [
    {
     "name": "stdout",
     "output_type": "stream",
     "text": [
      "Here is the current list\n",
      "[0, 'APPLE', 'Brand New']\n",
      "Would you like to keep playing? Y or N N\n"
     ]
    }
   ],
   "source": [
    "# Variable to keep game playing\n",
    "game_on = True\n",
    "\n",
    "# First Game List\n",
    "game_list = [0,1,2]\n",
    "\n",
    "\n",
    "\n",
    "while game_on:\n",
    "    \n",
    "    # Clear any historical output and show the game list\n",
    "    clear_output()\n",
    "    display_game(game_list)\n",
    "    \n",
    "    # Have player choose position\n",
    "    position = position_choice()\n",
    "    \n",
    "    # Rewrite that position and update game_list\n",
    "    game_list = replacement_choice(game_list,position)\n",
    "    \n",
    "    # Clear Screen and show the updated game list\n",
    "    clear_output()\n",
    "    display_game(game_list)\n",
    "    \n",
    "    # Ask if you want to keep playing\n",
    "    game_on = gameon_choice()"
   ]
  },
  {
   "cell_type": "code",
   "execution_count": null,
   "id": "7c8166be",
   "metadata": {},
   "outputs": [],
   "source": []
  },
  {
   "cell_type": "code",
   "execution_count": null,
   "id": "027fd686",
   "metadata": {},
   "outputs": [],
   "source": []
  },
  {
   "cell_type": "code",
   "execution_count": null,
   "id": "82b97426",
   "metadata": {},
   "outputs": [],
   "source": []
  },
  {
   "cell_type": "markdown",
   "id": "9ed05b82",
   "metadata": {},
   "source": [
    "Created One"
   ]
  },
  {
   "cell_type": "code",
   "execution_count": 1,
   "id": "9ef2b6c2",
   "metadata": {},
   "outputs": [],
   "source": [
    "game_list = [0,1,2]"
   ]
  },
  {
   "cell_type": "code",
   "execution_count": 2,
   "id": "d9590717",
   "metadata": {},
   "outputs": [],
   "source": [
    "def display_game(game_list):\n",
    "    print (\"Here is the current list: {}\".format(game_list))"
   ]
  },
  {
   "cell_type": "code",
   "execution_count": 3,
   "id": "69952123",
   "metadata": {},
   "outputs": [
    {
     "name": "stdout",
     "output_type": "stream",
     "text": [
      "Here is the current list: [0, 1, 2]\n"
     ]
    }
   ],
   "source": [
    "display_game(game_list)"
   ]
  },
  {
   "cell_type": "code",
   "execution_count": 4,
   "id": "b7f04a98",
   "metadata": {},
   "outputs": [],
   "source": [
    "def position_choice():\n",
    "    choice = \"wrong\"\n",
    "    \n",
    "    while choice not in [\"0\",\"1\",\"2\"]:\n",
    "        \n",
    "        choice = input(\"Pick a position (0,1,2): \")\n",
    "        \n",
    "        if choice not in [\"0\",\"1\",\"2\"]:\n",
    "            print (\"Sorry, invaild choice!\")\n",
    "        \n",
    "    return int(choice)    #this function will get excuted when the programme get the valid option"
   ]
  },
  {
   "cell_type": "code",
   "execution_count": 5,
   "id": "98b2db63",
   "metadata": {},
   "outputs": [
    {
     "name": "stdout",
     "output_type": "stream",
     "text": [
      "Pick a position (0,1,2): 2\n"
     ]
    },
    {
     "data": {
      "text/plain": [
       "2"
      ]
     },
     "execution_count": 5,
     "metadata": {},
     "output_type": "execute_result"
    }
   ],
   "source": [
    "position_choice()"
   ]
  },
  {
   "cell_type": "code",
   "execution_count": 6,
   "id": "0b5eb66d",
   "metadata": {},
   "outputs": [],
   "source": [
    "def replacement_choice(game_list,position):\n",
    "    \n",
    "    user_placement = input(\"Type a string to place at position: \")\n",
    "    \n",
    "    game_list[position] = user_placement\n",
    "    \n",
    "    return game_list"
   ]
  },
  {
   "cell_type": "code",
   "execution_count": 7,
   "id": "541bb42a",
   "metadata": {},
   "outputs": [
    {
     "name": "stdout",
     "output_type": "stream",
     "text": [
      "Type a string to place at position: 2\n"
     ]
    },
    {
     "data": {
      "text/plain": [
       "[0, 1, '2']"
      ]
     },
     "execution_count": 7,
     "metadata": {},
     "output_type": "execute_result"
    }
   ],
   "source": [
    "replacement_choice(game_list,2)"
   ]
  },
  {
   "cell_type": "code",
   "execution_count": 8,
   "id": "c4273145",
   "metadata": {},
   "outputs": [],
   "source": [
    "def gameon_choice():\n",
    "    choice = \"wrong\"\n",
    "    \n",
    "    while choice not in [\"Y\",\"N\"]:\n",
    "        \n",
    "        choice = input(\"Wanna keep playing? (Y or N):- \")\n",
    "        \n",
    "        if choice not in [\"Y\",\"N\"]:\n",
    "            print (\"Sorry, I don't understand. Please Choose between (Y or N)\")\n",
    "    \n",
    "    return (choice == \"Y\")"
   ]
  },
  {
   "cell_type": "code",
   "execution_count": 9,
   "id": "f1c5f2d3",
   "metadata": {},
   "outputs": [
    {
     "name": "stdout",
     "output_type": "stream",
     "text": [
      "Wanna keep playing? (Y or N):- Y\n"
     ]
    },
    {
     "data": {
      "text/plain": [
       "True"
      ]
     },
     "execution_count": 9,
     "metadata": {},
     "output_type": "execute_result"
    }
   ],
   "source": [
    "gameon_choice()"
   ]
  },
  {
   "cell_type": "code",
   "execution_count": 13,
   "id": "958bb243",
   "metadata": {},
   "outputs": [
    {
     "name": "stdout",
     "output_type": "stream",
     "text": [
      "Here is the current list: [0, 1, '2']\n",
      "Pick a position (0,1,2): 1\n",
      "Type a string to place at position: A2\n",
      "Here is the current list: [0, 'A2', '2']\n",
      "Wanna keep playing? (Y or N):- N\n"
     ]
    }
   ],
   "source": [
    "game_on = True\n",
    "gamelist = [0,1,2]\n",
    "\n",
    "while game_on:\n",
    "    \n",
    "    display_game(game_list)\n",
    "    \n",
    "    position = position_choice()\n",
    "    \n",
    "    game_list = replacement_choice(game_list,position)\n",
    "    \n",
    "    display_game(game_list)\n",
    "    \n",
    "    game_on = gameon_choice()"
   ]
  },
  {
   "cell_type": "code",
   "execution_count": null,
   "id": "fe7a6c0a",
   "metadata": {},
   "outputs": [],
   "source": []
  },
  {
   "cell_type": "code",
   "execution_count": null,
   "id": "da3f6598",
   "metadata": {},
   "outputs": [],
   "source": []
  },
  {
   "cell_type": "code",
   "execution_count": null,
   "id": "2c9838bc",
   "metadata": {},
   "outputs": [],
   "source": []
  },
  {
   "cell_type": "code",
   "execution_count": null,
   "id": "5ffe88d4",
   "metadata": {},
   "outputs": [],
   "source": []
  },
  {
   "cell_type": "code",
   "execution_count": null,
   "id": "d4e6e5cf",
   "metadata": {},
   "outputs": [],
   "source": []
  },
  {
   "cell_type": "markdown",
   "id": "032e76f0",
   "metadata": {},
   "source": [
    "# Milestone Project 1"
   ]
  },
  {
   "cell_type": "code",
   "execution_count": null,
   "id": "0b467be1",
   "metadata": {},
   "outputs": [],
   "source": []
  },
  {
   "cell_type": "code",
   "execution_count": 1,
   "id": "9d3cb2fd",
   "metadata": {},
   "outputs": [],
   "source": [
    "from IPython.display import clear_output\n",
    "\n",
    "def display_board(board):\n",
    "    clear_output()\n",
    "    print(board[7]+\"|\"+board[8]+\"|\"+board[9])\n",
    "    print(\"-----\")\n",
    "    print(board[4]+\"|\"+board[5]+\"|\"+board[6])\n",
    "    print(\"-----\")\n",
    "    print(board[1]+\"|\"+board[2]+\"|\"+board[3])\n",
    "    "
   ]
  },
  {
   "cell_type": "code",
   "execution_count": 2,
   "id": "0a1ee6ad",
   "metadata": {},
   "outputs": [
    {
     "name": "stdout",
     "output_type": "stream",
     "text": [
      "X|O|X\n",
      "-----\n",
      "O|X|O\n",
      "-----\n",
      "X|O|X\n"
     ]
    }
   ],
   "source": [
    "test_board=[\"#\",\"X\",\"O\",\"X\",\"O\",\"X\",\"O\",\"X\",\"O\",\"X\"]\n",
    "display_board(test_board)"
   ]
  },
  {
   "cell_type": "code",
   "execution_count": null,
   "id": "1939e8d9",
   "metadata": {},
   "outputs": [],
   "source": []
  },
  {
   "cell_type": "code",
   "execution_count": 1,
   "id": "c13b8cf0",
   "metadata": {},
   "outputs": [],
   "source": [
    "def player_input():\n",
    "    marker =''\n",
    "    \n",
    "    #Keep asking player 1 to choose X or O\n",
    "    \n",
    "    while marker != [\"X\" and \"O\"]:\n",
    "        marker = input(\"Player 1, enter your desired marker between (X or O):- \")\n",
    "        \n",
    "        if marker not in [\"X\",\"O\"]:\n",
    "            print (\"Didn't understandO, please choose only between (X or O)\")\n",
    "                   \n",
    "    player1 = marker\n",
    "                   \n",
    "    if player1 == \"X\":\n",
    "        player2 =\"O\"\n",
    "                   \n",
    "    else:\n",
    "        player2 =\"X\"\n",
    "    \n",
    "    return (player1,player2)\n",
    "    \n",
    "    #Assign "
   ]
  },
  {
   "cell_type": "code",
   "execution_count": null,
   "id": "d76697e8",
   "metadata": {},
   "outputs": [],
   "source": [
    "player_input()"
   ]
  },
  {
   "cell_type": "code",
   "execution_count": null,
   "id": "0d7b4f1c",
   "metadata": {},
   "outputs": [],
   "source": []
  }
 ],
 "metadata": {
  "kernelspec": {
   "display_name": "Python 3 (ipykernel)",
   "language": "python",
   "name": "python3"
  },
  "language_info": {
   "codemirror_mode": {
    "name": "ipython",
    "version": 3
   },
   "file_extension": ".py",
   "mimetype": "text/x-python",
   "name": "python",
   "nbconvert_exporter": "python",
   "pygments_lexer": "ipython3",
   "version": "3.11.5"
  }
 },
 "nbformat": 4,
 "nbformat_minor": 5
}
